{
 "cells": [
  {
   "cell_type": "markdown",
   "id": "53affb48",
   "metadata": {},
   "source": [
    "ETL Report\n",
    "\n",
    "In this document steps are taken to obtain data and transform it to answer the following questions:\n",
    "\n",
    "1) How does the number of business owners vary by race in the United States.\n",
    "2) Can the breakdown of business owners by race provide us with any correlation between number of business owners and number of firms?\n",
    "3) How does the number of business owners vary by gender in the United States?"
   ]
  },
  {
   "cell_type": "markdown",
   "id": "758d9238",
   "metadata": {},
   "source": [
    "The following cell shows the code written to obtain data from the API's used."
   ]
  },
  {
   "cell_type": "code",
   "execution_count": 1,
   "id": "210da6cc",
   "metadata": {},
   "outputs": [],
   "source": [
    "import pandas as pd\r\n",
    "import requests\r\n",
    "import json\r\n",
    "import numpy as np\r\n",
    "import matplotlib.pyplot as plt\r\n",
    "import config\r\n",
    "\r\n",
    "key = config.key \r\n",
    "\r\n",
    "#REQUESTING API\r\n",
    "TotalDataByStateLink =\"https://api.census.gov/data/2018/abscs?get=NAME,GEO_ID,NAICS2017_LABEL,SEX,ETH_GROUP,RACE_GROUP,VET_GROUP,FIRMPDEMP&for=state:*&NAICS2017=00*&key=\" + key\r\n",
    "TotalBusinessOwnersUS= \"https://api.census.gov/data/2018/abscbo?get=NAME,GEO_ID,NAICS2017_LABEL,OWNER_SEX,OWNER_ETH,OWNER_RACE,OWNER_VET,OWNPDEMP&for=us:*&OWNCHAR=CG&NAICS2017=00&QDESC=O02*&key=\" + key\r\n",
    "TotalBusinesses = \"https://api.census.gov/data/2018/abscb?get=NAME,GEO_ID,NAICS2017_LABEL,SEX,ETH_GROUP,RACE_GROUP,VET_GROUP,FIRMPDEMP&for=us:*&NAICS2017=00&BUSCHAR=A1&QDESC=B01*&key=\" + key\r\n",
    "\r\n",
    "response1 = requests.get(TotalBusinessOwnersUS)\r\n",
    "response2 = requests.get(TotalBusinesses)\r\n",
    "\r\n",
    "data1 = json.loads(response1.text)\r\n",
    "data2 = json.loads(response2.text)\r\n",
    "\r\n",
    "bo = pd.DataFrame.from_dict(data1)\r\n",
    "b = pd.DataFrame.from_dict(data2)"
   ]
  },
  {
   "cell_type": "markdown",
   "id": "828129b0",
   "metadata": {},
   "source": [
    "In order to use the data it had to be cleaned by first adjusting the column headings, then removing any duplicate/ unnecessary rows. That was done using the following."
   ]
  },
  {
   "cell_type": "code",
   "execution_count": 2,
   "id": "fb46853c",
   "metadata": {},
   "outputs": [],
   "source": [
    "#CLEANING\r\n",
    "header_row = 0\r\n",
    "bo.columns = bo.iloc[0]\r\n",
    "bo = bo[1:]\r\n",
    "bo.reset_index(inplace = True)\r\n",
    "\r\n",
    "header_row = 0\r\n",
    "b.columns = b.iloc[0]\r\n",
    "b = b[1:]\r\n",
    "b.reset_index(inplace = True)"
   ]
  },
  {
   "cell_type": "markdown",
   "id": "78221fe4",
   "metadata": {},
   "source": [
    "In addition to changing the column headings, steps had to be taken to remove unnecessary columns and also rename columns. This allows for one to be able to focus on the necessary data."
   ]
  },
  {
   "cell_type": "code",
   "execution_count": 3,
   "id": "eff1d213",
   "metadata": {},
   "outputs": [
    {
     "data": {
      "text/html": [
       "<div>\n",
       "<style scoped>\n",
       "    .dataframe tbody tr th:only-of-type {\n",
       "        vertical-align: middle;\n",
       "    }\n",
       "\n",
       "    .dataframe tbody tr th {\n",
       "        vertical-align: top;\n",
       "    }\n",
       "\n",
       "    .dataframe thead th {\n",
       "        text-align: right;\n",
       "    }\n",
       "</style>\n",
       "<table border=\"1\" class=\"dataframe\">\n",
       "  <thead>\n",
       "    <tr style=\"text-align: right;\">\n",
       "      <th></th>\n",
       "      <th>NAME</th>\n",
       "      <th>GEO_ID</th>\n",
       "      <th>OWNER_SEX</th>\n",
       "      <th>OWNER_ETH</th>\n",
       "      <th>OWNER_RACE</th>\n",
       "      <th>OWNER_VET</th>\n",
       "      <th>No.Firms</th>\n",
       "    </tr>\n",
       "  </thead>\n",
       "  <tbody>\n",
       "    <tr>\n",
       "      <th>0</th>\n",
       "      <td>United States</td>\n",
       "      <td>0100000US</td>\n",
       "      <td>001</td>\n",
       "      <td>001</td>\n",
       "      <td>00</td>\n",
       "      <td>001</td>\n",
       "      <td>5722142</td>\n",
       "    </tr>\n",
       "    <tr>\n",
       "      <th>1</th>\n",
       "      <td>United States</td>\n",
       "      <td>0100000US</td>\n",
       "      <td>002</td>\n",
       "      <td>001</td>\n",
       "      <td>00</td>\n",
       "      <td>001</td>\n",
       "      <td>1141410</td>\n",
       "    </tr>\n",
       "    <tr>\n",
       "      <th>2</th>\n",
       "      <td>United States</td>\n",
       "      <td>0100000US</td>\n",
       "      <td>003</td>\n",
       "      <td>001</td>\n",
       "      <td>00</td>\n",
       "      <td>001</td>\n",
       "      <td>3496959</td>\n",
       "    </tr>\n",
       "    <tr>\n",
       "      <th>3</th>\n",
       "      <td>United States</td>\n",
       "      <td>0100000US</td>\n",
       "      <td>004</td>\n",
       "      <td>001</td>\n",
       "      <td>00</td>\n",
       "      <td>001</td>\n",
       "      <td>860754</td>\n",
       "    </tr>\n",
       "    <tr>\n",
       "      <th>4</th>\n",
       "      <td>United States</td>\n",
       "      <td>0100000US</td>\n",
       "      <td>001</td>\n",
       "      <td>020</td>\n",
       "      <td>00</td>\n",
       "      <td>001</td>\n",
       "      <td>331625</td>\n",
       "    </tr>\n",
       "    <tr>\n",
       "      <th>5</th>\n",
       "      <td>United States</td>\n",
       "      <td>0100000US</td>\n",
       "      <td>002</td>\n",
       "      <td>020</td>\n",
       "      <td>00</td>\n",
       "      <td>001</td>\n",
       "      <td>84496</td>\n",
       "    </tr>\n",
       "    <tr>\n",
       "      <th>6</th>\n",
       "      <td>United States</td>\n",
       "      <td>0100000US</td>\n",
       "      <td>003</td>\n",
       "      <td>020</td>\n",
       "      <td>00</td>\n",
       "      <td>001</td>\n",
       "      <td>209426</td>\n",
       "    </tr>\n",
       "    <tr>\n",
       "      <th>7</th>\n",
       "      <td>United States</td>\n",
       "      <td>0100000US</td>\n",
       "      <td>004</td>\n",
       "      <td>020</td>\n",
       "      <td>00</td>\n",
       "      <td>001</td>\n",
       "      <td>37700</td>\n",
       "    </tr>\n",
       "    <tr>\n",
       "      <th>8</th>\n",
       "      <td>United States</td>\n",
       "      <td>0100000US</td>\n",
       "      <td>001</td>\n",
       "      <td>028</td>\n",
       "      <td>00</td>\n",
       "      <td>001</td>\n",
       "      <td>49285</td>\n",
       "    </tr>\n",
       "    <tr>\n",
       "      <th>9</th>\n",
       "      <td>United States</td>\n",
       "      <td>0100000US</td>\n",
       "      <td>002</td>\n",
       "      <td>028</td>\n",
       "      <td>00</td>\n",
       "      <td>001</td>\n",
       "      <td>2220</td>\n",
       "    </tr>\n",
       "    <tr>\n",
       "      <th>10</th>\n",
       "      <td>United States</td>\n",
       "      <td>0100000US</td>\n",
       "      <td>003</td>\n",
       "      <td>028</td>\n",
       "      <td>00</td>\n",
       "      <td>001</td>\n",
       "      <td>10229</td>\n",
       "    </tr>\n",
       "    <tr>\n",
       "      <th>11</th>\n",
       "      <td>United States</td>\n",
       "      <td>0100000US</td>\n",
       "      <td>004</td>\n",
       "      <td>028</td>\n",
       "      <td>00</td>\n",
       "      <td>001</td>\n",
       "      <td>36837</td>\n",
       "    </tr>\n",
       "    <tr>\n",
       "      <th>12</th>\n",
       "      <td>United States</td>\n",
       "      <td>0100000US</td>\n",
       "      <td>001</td>\n",
       "      <td>029</td>\n",
       "      <td>00</td>\n",
       "      <td>001</td>\n",
       "      <td>5118211</td>\n",
       "    </tr>\n",
       "    <tr>\n",
       "      <th>13</th>\n",
       "      <td>United States</td>\n",
       "      <td>0100000US</td>\n",
       "      <td>002</td>\n",
       "      <td>029</td>\n",
       "      <td>00</td>\n",
       "      <td>001</td>\n",
       "      <td>1054693</td>\n",
       "    </tr>\n",
       "    <tr>\n",
       "      <th>14</th>\n",
       "      <td>United States</td>\n",
       "      <td>0100000US</td>\n",
       "      <td>003</td>\n",
       "      <td>029</td>\n",
       "      <td>00</td>\n",
       "      <td>001</td>\n",
       "      <td>3277302</td>\n",
       "    </tr>\n",
       "  </tbody>\n",
       "</table>\n",
       "</div>"
      ],
      "text/plain": [
       "0            NAME     GEO_ID OWNER_SEX OWNER_ETH OWNER_RACE OWNER_VET No.Firms\n",
       "0   United States  0100000US       001       001         00       001  5722142\n",
       "1   United States  0100000US       002       001         00       001  1141410\n",
       "2   United States  0100000US       003       001         00       001  3496959\n",
       "3   United States  0100000US       004       001         00       001   860754\n",
       "4   United States  0100000US       001       020         00       001   331625\n",
       "5   United States  0100000US       002       020         00       001    84496\n",
       "6   United States  0100000US       003       020         00       001   209426\n",
       "7   United States  0100000US       004       020         00       001    37700\n",
       "8   United States  0100000US       001       028         00       001    49285\n",
       "9   United States  0100000US       002       028         00       001     2220\n",
       "10  United States  0100000US       003       028         00       001    10229\n",
       "11  United States  0100000US       004       028         00       001    36837\n",
       "12  United States  0100000US       001       029         00       001  5118211\n",
       "13  United States  0100000US       002       029         00       001  1054693\n",
       "14  United States  0100000US       003       029         00       001  3277302"
      ]
     },
     "execution_count": 3,
     "metadata": {},
     "output_type": "execute_result"
    }
   ],
   "source": [
    "#MORE CLEANING OF THE DATA\n",
    "businessO= bo.drop(columns=['index','NAICS2017_LABEL','OWNCHAR', 'NAICS2017', 'QDESC', 'us'])\n",
    "businessO = businessO.rename(columns={'OWNPDEMP': 'No.BusinessOwners'})\n",
    "\n",
    "business = b.drop(columns = ['index', 'NAICS2017_LABEL', 'NAICS2017','BUSCHAR', 'QDESC', 'us'])\n",
    "business = business.rename(columns = {'FIRMPDEMP': 'No.Firms', 'RACE_GROUP': 'OWNER_RACE', 'ETH_GROUP': 'OWNER_ETH', 'VET_GROUP':'OWNER_VET', 'SEX':'OWNER_SEX'})\n",
    "\n",
    "business.head(15)\n"
   ]
  },
  {
   "cell_type": "code",
   "execution_count": 4,
   "id": "30cb673d",
   "metadata": {},
   "outputs": [
    {
     "data": {
      "text/html": [
       "<div>\n",
       "<style scoped>\n",
       "    .dataframe tbody tr th:only-of-type {\n",
       "        vertical-align: middle;\n",
       "    }\n",
       "\n",
       "    .dataframe tbody tr th {\n",
       "        vertical-align: top;\n",
       "    }\n",
       "\n",
       "    .dataframe thead th {\n",
       "        text-align: right;\n",
       "    }\n",
       "</style>\n",
       "<table border=\"1\" class=\"dataframe\">\n",
       "  <thead>\n",
       "    <tr style=\"text-align: right;\">\n",
       "      <th></th>\n",
       "      <th>NAME</th>\n",
       "      <th>GEO_ID</th>\n",
       "      <th>OWNER_SEX</th>\n",
       "      <th>OWNER_ETH</th>\n",
       "      <th>OWNER_RACE</th>\n",
       "      <th>OWNER_VET</th>\n",
       "      <th>No.BusinessOwners</th>\n",
       "    </tr>\n",
       "  </thead>\n",
       "  <tbody>\n",
       "    <tr>\n",
       "      <th>0</th>\n",
       "      <td>United States</td>\n",
       "      <td>0100000US</td>\n",
       "      <td>002</td>\n",
       "      <td>001</td>\n",
       "      <td>40</td>\n",
       "      <td>001</td>\n",
       "      <td>248</td>\n",
       "    </tr>\n",
       "    <tr>\n",
       "      <th>1</th>\n",
       "      <td>United States</td>\n",
       "      <td>0100000US</td>\n",
       "      <td>003</td>\n",
       "      <td>001</td>\n",
       "      <td>40</td>\n",
       "      <td>001</td>\n",
       "      <td>977</td>\n",
       "    </tr>\n",
       "    <tr>\n",
       "      <th>2</th>\n",
       "      <td>United States</td>\n",
       "      <td>0100000US</td>\n",
       "      <td>001</td>\n",
       "      <td>001</td>\n",
       "      <td>50</td>\n",
       "      <td>001</td>\n",
       "      <td>372</td>\n",
       "    </tr>\n",
       "    <tr>\n",
       "      <th>3</th>\n",
       "      <td>United States</td>\n",
       "      <td>0100000US</td>\n",
       "      <td>001</td>\n",
       "      <td>001</td>\n",
       "      <td>00</td>\n",
       "      <td>001</td>\n",
       "      <td>146045</td>\n",
       "    </tr>\n",
       "    <tr>\n",
       "      <th>4</th>\n",
       "      <td>United States</td>\n",
       "      <td>0100000US</td>\n",
       "      <td>002</td>\n",
       "      <td>001</td>\n",
       "      <td>00</td>\n",
       "      <td>001</td>\n",
       "      <td>33689</td>\n",
       "    </tr>\n",
       "    <tr>\n",
       "      <th>5</th>\n",
       "      <td>United States</td>\n",
       "      <td>0100000US</td>\n",
       "      <td>003</td>\n",
       "      <td>001</td>\n",
       "      <td>00</td>\n",
       "      <td>001</td>\n",
       "      <td>112357</td>\n",
       "    </tr>\n",
       "    <tr>\n",
       "      <th>6</th>\n",
       "      <td>United States</td>\n",
       "      <td>0100000US</td>\n",
       "      <td>001</td>\n",
       "      <td>020</td>\n",
       "      <td>00</td>\n",
       "      <td>001</td>\n",
       "      <td>3198</td>\n",
       "    </tr>\n",
       "    <tr>\n",
       "      <th>7</th>\n",
       "      <td>United States</td>\n",
       "      <td>0100000US</td>\n",
       "      <td>002</td>\n",
       "      <td>020</td>\n",
       "      <td>00</td>\n",
       "      <td>001</td>\n",
       "      <td>1154</td>\n",
       "    </tr>\n",
       "    <tr>\n",
       "      <th>8</th>\n",
       "      <td>United States</td>\n",
       "      <td>0100000US</td>\n",
       "      <td>003</td>\n",
       "      <td>020</td>\n",
       "      <td>00</td>\n",
       "      <td>001</td>\n",
       "      <td>2043</td>\n",
       "    </tr>\n",
       "    <tr>\n",
       "      <th>9</th>\n",
       "      <td>United States</td>\n",
       "      <td>0100000US</td>\n",
       "      <td>001</td>\n",
       "      <td>029</td>\n",
       "      <td>00</td>\n",
       "      <td>001</td>\n",
       "      <td>142849</td>\n",
       "    </tr>\n",
       "    <tr>\n",
       "      <th>10</th>\n",
       "      <td>United States</td>\n",
       "      <td>0100000US</td>\n",
       "      <td>002</td>\n",
       "      <td>029</td>\n",
       "      <td>00</td>\n",
       "      <td>001</td>\n",
       "      <td>32535</td>\n",
       "    </tr>\n",
       "    <tr>\n",
       "      <th>11</th>\n",
       "      <td>United States</td>\n",
       "      <td>0100000US</td>\n",
       "      <td>003</td>\n",
       "      <td>029</td>\n",
       "      <td>00</td>\n",
       "      <td>001</td>\n",
       "      <td>110315</td>\n",
       "    </tr>\n",
       "    <tr>\n",
       "      <th>12</th>\n",
       "      <td>United States</td>\n",
       "      <td>0100000US</td>\n",
       "      <td>001</td>\n",
       "      <td>001</td>\n",
       "      <td>30</td>\n",
       "      <td>001</td>\n",
       "      <td>140242</td>\n",
       "    </tr>\n",
       "    <tr>\n",
       "      <th>13</th>\n",
       "      <td>United States</td>\n",
       "      <td>0100000US</td>\n",
       "      <td>002</td>\n",
       "      <td>001</td>\n",
       "      <td>30</td>\n",
       "      <td>001</td>\n",
       "      <td>32051</td>\n",
       "    </tr>\n",
       "    <tr>\n",
       "      <th>14</th>\n",
       "      <td>United States</td>\n",
       "      <td>0100000US</td>\n",
       "      <td>003</td>\n",
       "      <td>001</td>\n",
       "      <td>30</td>\n",
       "      <td>001</td>\n",
       "      <td>108193</td>\n",
       "    </tr>\n",
       "  </tbody>\n",
       "</table>\n",
       "</div>"
      ],
      "text/plain": [
       "0            NAME     GEO_ID OWNER_SEX OWNER_ETH OWNER_RACE OWNER_VET  \\\n",
       "0   United States  0100000US       002       001         40       001   \n",
       "1   United States  0100000US       003       001         40       001   \n",
       "2   United States  0100000US       001       001         50       001   \n",
       "3   United States  0100000US       001       001         00       001   \n",
       "4   United States  0100000US       002       001         00       001   \n",
       "5   United States  0100000US       003       001         00       001   \n",
       "6   United States  0100000US       001       020         00       001   \n",
       "7   United States  0100000US       002       020         00       001   \n",
       "8   United States  0100000US       003       020         00       001   \n",
       "9   United States  0100000US       001       029         00       001   \n",
       "10  United States  0100000US       002       029         00       001   \n",
       "11  United States  0100000US       003       029         00       001   \n",
       "12  United States  0100000US       001       001         30       001   \n",
       "13  United States  0100000US       002       001         30       001   \n",
       "14  United States  0100000US       003       001         30       001   \n",
       "\n",
       "0  No.BusinessOwners  \n",
       "0                248  \n",
       "1                977  \n",
       "2                372  \n",
       "3             146045  \n",
       "4              33689  \n",
       "5             112357  \n",
       "6               3198  \n",
       "7               1154  \n",
       "8               2043  \n",
       "9             142849  \n",
       "10             32535  \n",
       "11            110315  \n",
       "12            140242  \n",
       "13             32051  \n",
       "14            108193  "
      ]
     },
     "execution_count": 4,
     "metadata": {},
     "output_type": "execute_result"
    }
   ],
   "source": [
    "businessO.head(15)"
   ]
  },
  {
   "cell_type": "markdown",
   "id": "56118e67",
   "metadata": {},
   "source": [
    "The next step taken was filtering the data in order to get the count of business owners per race. This was possible using the following code. P.S the code for the races was given by a key available on the website used."
   ]
  },
  {
   "cell_type": "code",
   "execution_count": 5,
   "id": "d286fcc8",
   "metadata": {},
   "outputs": [
    {
     "name": "stderr",
     "output_type": "stream",
     "text": [
      "<ipython-input-5-cc1d9c2d7df5>:4: SettingWithCopyWarning: \n",
      "A value is trying to be set on a copy of a slice from a DataFrame.\n",
      "Try using .loc[row_indexer,col_indexer] = value instead\n",
      "\n",
      "See the caveats in the documentation: https://pandas.pydata.org/pandas-docs/stable/user_guide/indexing.html#returning-a-view-versus-a-copy\n",
      "  businessByRace['No.BusinessOwners'] = businessByRace['No.BusinessOwners'].astype(int)\n"
     ]
    },
    {
     "data": {
      "text/html": [
       "<div>\n",
       "<style scoped>\n",
       "    .dataframe tbody tr th:only-of-type {\n",
       "        vertical-align: middle;\n",
       "    }\n",
       "\n",
       "    .dataframe tbody tr th {\n",
       "        vertical-align: top;\n",
       "    }\n",
       "\n",
       "    .dataframe thead th {\n",
       "        text-align: right;\n",
       "    }\n",
       "</style>\n",
       "<table border=\"1\" class=\"dataframe\">\n",
       "  <thead>\n",
       "    <tr style=\"text-align: right;\">\n",
       "      <th></th>\n",
       "      <th>OWNER_RACE</th>\n",
       "      <th>No.BusinessOwners</th>\n",
       "    </tr>\n",
       "  </thead>\n",
       "  <tbody>\n",
       "    <tr>\n",
       "      <th>2</th>\n",
       "      <td>50</td>\n",
       "      <td>372</td>\n",
       "    </tr>\n",
       "    <tr>\n",
       "      <th>12</th>\n",
       "      <td>30</td>\n",
       "      <td>140242</td>\n",
       "    </tr>\n",
       "    <tr>\n",
       "      <th>15</th>\n",
       "      <td>40</td>\n",
       "      <td>1224</td>\n",
       "    </tr>\n",
       "    <tr>\n",
       "      <th>24</th>\n",
       "      <td>60</td>\n",
       "      <td>4497</td>\n",
       "    </tr>\n",
       "    <tr>\n",
       "      <th>27</th>\n",
       "      <td>70</td>\n",
       "      <td>136</td>\n",
       "    </tr>\n",
       "  </tbody>\n",
       "</table>\n",
       "</div>"
      ],
      "text/plain": [
       "0  OWNER_RACE  No.BusinessOwners\n",
       "2          50                372\n",
       "12         30             140242\n",
       "15         40               1224\n",
       "24         60               4497\n",
       "27         70                136"
      ]
     },
     "execution_count": 5,
     "metadata": {},
     "output_type": "execute_result"
    }
   ],
   "source": [
    "#FILTERING FOR NECESSARY DATA FOR BUSINESS OWNERS.\n",
    "\n",
    "businessByRace = businessO[(businessO['OWNER_SEX'] == '001') & (businessO['OWNER_ETH'] == '001') & (businessO['OWNER_VET'] == '001') & (businessO['OWNER_RACE'] != '00')& (businessO['OWNER_RACE'] != '90')& (businessO['OWNER_RACE'] != '92')]\n",
    "businessByRace['No.BusinessOwners'] = businessByRace['No.BusinessOwners'].astype(int)\n",
    "bbrownersgraph = businessByRace[['OWNER_RACE', 'No.BusinessOwners']]\n",
    "bbrownersgraph\n"
   ]
  },
  {
   "cell_type": "markdown",
   "id": "351b09b6",
   "metadata": {},
   "source": [
    "We were able to use the filtered data to create the first visualization. Two visuals were made, one with the codes and one using the actual names of the races."
   ]
  },
  {
   "cell_type": "code",
   "execution_count": 6,
   "id": "afa8334a",
   "metadata": {},
   "outputs": [
    {
     "data": {
      "image/png": "[encoded data removed]",
      "text/plain": [
       "<Figure size 432x288 with 1 Axes>"
      ]
     },
     "metadata": {
      "needs_background": "light"
     },
     "output_type": "display_data"
    },
    {
     "name": "stderr",
     "output_type": "stream",
     "text": [
      "C:\\Users\\kaigu\\anaconda3\\lib\\site-packages\\seaborn\\_decorators.py:36: FutureWarning: Pass the following variables as keyword args: x, y. From version 0.12, the only valid positional argument will be `data`, and passing other arguments without an explicit keyword will result in an error or misinterpretation.\n",
      "  warnings.warn(\n"
     ]
    },
    {
     "data": {
      "image/png": "[encoded data removed]",
      "text/plain": [
       "<Figure size 432x288 with 1 Axes>"
      ]
     },
     "metadata": {
      "needs_background": "light"
     },
     "output_type": "display_data"
    }
   ],
   "source": [
    "# GENERATING BAR CHART FOR THE NUMBER OF BUSINESS OWNERS BY RACE.\n",
    "import seaborn as sns\n",
    "import matplotlib.pyplot as plt\n",
    "\n",
    "races = ['American Indian/Alaska Native', 'White', 'Black', 'Asian', 'Native Hawaiian/Other Pacific Islander']\n",
    "Amount = [372, 140242, 1224, 4497, 136]\n",
    "sns.barplot(x = 'OWNER_RACE',\n",
    "            y = 'No.BusinessOwners',\n",
    "            data = bbrownersgraph).set_title('Total Number of Business Owners By Race in the US')\n",
    " \n",
    "# Show the plot\n",
    "plt.show()\n",
    "\n",
    "#Graph with correct axis.\n",
    "ax = sns.barplot(races, Amount)\n",
    "ax.set(xlabel ='Races', ylabel ='Amount of Business Owners')\n",
    "plt.xticks(rotation = 60)\n",
    "plt.title('Total Number of Business Owners By Race in the US');\n",
    "plt.show()"
   ]
  },
  {
   "cell_type": "code",
   "execution_count": 7,
   "id": "1395e5cc",
   "metadata": {},
   "outputs": [
    {
     "name": "stderr",
     "output_type": "stream",
     "text": [
      "<ipython-input-7-6f056d54adb0>:3: SettingWithCopyWarning: \n",
      "A value is trying to be set on a copy of a slice from a DataFrame.\n",
      "Try using .loc[row_indexer,col_indexer] = value instead\n",
      "\n",
      "See the caveats in the documentation: https://pandas.pydata.org/pandas-docs/stable/user_guide/indexing.html#returning-a-view-versus-a-copy\n",
      "  businessByRace1['No.Firms'] = businessByRace1['No.Firms'].astype(int)\n"
     ]
    },
    {
     "data": {
      "text/html": [
       "<div>\n",
       "<style scoped>\n",
       "    .dataframe tbody tr th:only-of-type {\n",
       "        vertical-align: middle;\n",
       "    }\n",
       "\n",
       "    .dataframe tbody tr th {\n",
       "        vertical-align: top;\n",
       "    }\n",
       "\n",
       "    .dataframe thead th {\n",
       "        text-align: right;\n",
       "    }\n",
       "</style>\n",
       "<table border=\"1\" class=\"dataframe\">\n",
       "  <thead>\n",
       "    <tr style=\"text-align: right;\">\n",
       "      <th></th>\n",
       "      <th>OWNER_RACE</th>\n",
       "      <th>No.Firms</th>\n",
       "    </tr>\n",
       "  </thead>\n",
       "  <tbody>\n",
       "    <tr>\n",
       "      <th>16</th>\n",
       "      <td>30</td>\n",
       "      <td>4769883</td>\n",
       "    </tr>\n",
       "    <tr>\n",
       "      <th>20</th>\n",
       "      <td>40</td>\n",
       "      <td>124551</td>\n",
       "    </tr>\n",
       "    <tr>\n",
       "      <th>23</th>\n",
       "      <td>50</td>\n",
       "      <td>24433</td>\n",
       "    </tr>\n",
       "    <tr>\n",
       "      <th>27</th>\n",
       "      <td>60</td>\n",
       "      <td>577835</td>\n",
       "    </tr>\n",
       "    <tr>\n",
       "      <th>36</th>\n",
       "      <td>70</td>\n",
       "      <td>6653</td>\n",
       "    </tr>\n",
       "  </tbody>\n",
       "</table>\n",
       "</div>"
      ],
      "text/plain": [
       "0  OWNER_RACE  No.Firms\n",
       "16         30   4769883\n",
       "20         40    124551\n",
       "23         50     24433\n",
       "27         60    577835\n",
       "36         70      6653"
      ]
     },
     "execution_count": 7,
     "metadata": {},
     "output_type": "execute_result"
    }
   ],
   "source": [
    "# FILTERING FOR NUMBER OF FIRMS.\n",
    "businessByRace1 = business[(business['OWNER_SEX'] == '001') & (business['OWNER_ETH'] == '001') & (business['OWNER_VET'] == '001') & (business['OWNER_RACE'] != '00')& (business['OWNER_RACE'] != '90') & (business['OWNER_RACE'] != '91')& (business['OWNER_RACE'] != '92')]\n",
    "businessByRace1['No.Firms'] = businessByRace1['No.Firms'].astype(int)\n",
    "bbrfirmsgraph = businessByRace1[['OWNER_RACE', 'No.Firms']]\n",
    "bbrfirmsgraph"
   ]
  },
  {
   "cell_type": "markdown",
   "id": "e8c5916e",
   "metadata": {},
   "source": [
    "Dataframes for number of business owners and number of firms were merged in order to establish a relationship between number of business owners and number of firms. "
   ]
  },
  {
   "cell_type": "code",
   "execution_count": 8,
   "id": "87fb8ce9",
   "metadata": {},
   "outputs": [
    {
     "data": {
      "text/plain": [
       "Text(0, 0.5, 'Number of Firms')"
      ]
     },
     "execution_count": 8,
     "metadata": {},
     "output_type": "execute_result"
    },
    {
     "data": {
      "image/png": "[encoded data removed]",
      "text/plain": [
       "<Figure size 432x288 with 1 Axes>"
      ]
     },
     "metadata": {
      "needs_background": "light"
     },
     "output_type": "display_data"
    }
   ],
   "source": [
    "bbrownersgraph_with_bbrfirmsgraph = bbrownersgraph.merge(bbrfirmsgraph,how='inner',on='OWNER_RACE')\n",
    "#CREATING SCATTERPLOT SHOWING CORRELATION BETWEEN NUMBER OF BUSINESS OWNERS AND NUMBER OF FIRMS IN THE U.S.\n",
    "bbrownersgraph_with_bbrfirmsgraph\n",
    "ax = bbrownersgraph_with_bbrfirmsgraph.plot(title = 'Correlation Between Number of Owners and Number of Firms Based On Race Values', kind='scatter', x='No.BusinessOwners',y='No.Firms')\n",
    "ax.set_xlabel('Number of Owners')\n",
    "ax.set_ylabel('Number of Firms')\n",
    "\n"
   ]
  },
  {
   "cell_type": "code",
   "execution_count": 9,
   "id": "1fb5ed2f",
   "metadata": {},
   "outputs": [
    {
     "data": {
      "image/png": "[encoded data removed]",
      "text/plain": [
       "<Figure size 432x288 with 1 Axes>"
      ]
     },
     "metadata": {
      "needs_background": "light"
     },
     "output_type": "display_data"
    }
   ],
   "source": [
    "# LINE GRAPH FOR CORRELATION BETWEEN NUMBER OF FIRMS AND NUMBER OF BUSINESS OWNERS IN THE UNITED STATES.\n",
    "\n",
    "bbrownersgraph_with_bbrfirmsgraph.plot('No.BusinessOwners', 'No.Firms')\n",
    "plt.xlabel('Number of Owners')\n",
    "plt.ylabel('Number of Firms')\n",
    "plt.title('Correlation Between Number of Owners and Number of Firms Based On Race Values')\n",
    "plt.show()"
   ]
  },
  {
   "cell_type": "markdown",
   "id": "82ceb1aa",
   "metadata": {},
   "source": [
    "These are the steps taken to filter the data to show the breadown of the number of business owners by sex."
   ]
  },
  {
   "cell_type": "code",
   "execution_count": 10,
   "id": "3a9e4f60",
   "metadata": {},
   "outputs": [
    {
     "name": "stderr",
     "output_type": "stream",
     "text": [
      "<ipython-input-10-f7317289ac08>:4: SettingWithCopyWarning: \n",
      "A value is trying to be set on a copy of a slice from a DataFrame.\n",
      "Try using .loc[row_indexer,col_indexer] = value instead\n",
      "\n",
      "See the caveats in the documentation: https://pandas.pydata.org/pandas-docs/stable/user_guide/indexing.html#returning-a-view-versus-a-copy\n",
      "  businessByGender['No.BusinessOwners'] = businessByGender['No.BusinessOwners'].astype(int)\n"
     ]
    },
    {
     "data": {
      "text/html": [
       "<div>\n",
       "<style scoped>\n",
       "    .dataframe tbody tr th:only-of-type {\n",
       "        vertical-align: middle;\n",
       "    }\n",
       "\n",
       "    .dataframe tbody tr th {\n",
       "        vertical-align: top;\n",
       "    }\n",
       "\n",
       "    .dataframe thead th {\n",
       "        text-align: right;\n",
       "    }\n",
       "</style>\n",
       "<table border=\"1\" class=\"dataframe\">\n",
       "  <thead>\n",
       "    <tr style=\"text-align: right;\">\n",
       "      <th></th>\n",
       "      <th>OWNER_SEX</th>\n",
       "      <th>No.BusinessOwners</th>\n",
       "    </tr>\n",
       "  </thead>\n",
       "  <tbody>\n",
       "    <tr>\n",
       "      <th>4</th>\n",
       "      <td>002</td>\n",
       "      <td>33689</td>\n",
       "    </tr>\n",
       "    <tr>\n",
       "      <th>5</th>\n",
       "      <td>003</td>\n",
       "      <td>112357</td>\n",
       "    </tr>\n",
       "  </tbody>\n",
       "</table>\n",
       "</div>"
      ],
      "text/plain": [
       "0 OWNER_SEX  No.BusinessOwners\n",
       "4       002              33689\n",
       "5       003             112357"
      ]
     },
     "execution_count": 10,
     "metadata": {},
     "output_type": "execute_result"
    }
   ],
   "source": [
    "#FILTERING FOR A BREAKDOWN OF BUSINESS OWNERS BY GENDER IN THE U.S.\n",
    "businessByGender = businessO[(businessO['OWNER_SEX'] != '001') & (businessO['OWNER_ETH'] == '001') & (businessO['OWNER_VET'] == '001') & (businessO['OWNER_RACE'] == '00')]\n",
    "\n",
    "businessByGender['No.BusinessOwners'] = businessByGender['No.BusinessOwners'].astype(int)\n",
    "bbggraph =  businessByGender[['OWNER_SEX', 'No.BusinessOwners']]\n",
    "bbggraph"
   ]
  },
  {
   "cell_type": "code",
   "execution_count": 11,
   "id": "bf5db7bd",
   "metadata": {},
   "outputs": [
    {
     "data": {
      "text/plain": [
       "<matplotlib.legend.Legend at 0x20145781df0>"
      ]
     },
     "execution_count": 11,
     "metadata": {},
     "output_type": "execute_result"
    },
    {
     "data": {
      "image/png": "[encoded data removed]",
      "text/plain": [
       "<Figure size 432x288 with 1 Axes>"
      ]
     },
     "metadata": {},
     "output_type": "display_data"
    }
   ],
   "source": [
    "#GENERATING PIE CHART TO SHOW DIFFERENCE BETWEEN MALE AND FEMALE BUSINESS OWNERS IN THE U.S.\n",
    "bbg = bbggraph.plot(title = 'Total Business Owners By Gender in the US', kind = 'pie', y = 'No.BusinessOwners', autopct='%.0f%%', labels = ['',''])\n",
    "bbg.legend(['Female', 'Male'])"
   ]
  }
 ],
 "metadata": {
  "kernelspec": {
   "display_name": "Python 3",
   "language": "python",
   "name": "python3"
  },
  "language_info": {
   "codemirror_mode": {
    "name": "ipython",
    "version": 3
   },
   "file_extension": ".py",
   "mimetype": "text/x-python",
   "name": "python",
   "nbconvert_exporter": "python",
   "pygments_lexer": "ipython3",
   "version": "3.8.8"
  }
 },
 "nbformat": 4,
 "nbformat_minor": 5
}
