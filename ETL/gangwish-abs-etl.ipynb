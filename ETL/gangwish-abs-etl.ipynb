{
 "cells": [
  {
   "cell_type": "code",
   "execution_count": 1,
   "id": "e3b6ee7d",
   "metadata": {},
   "outputs": [],
   "source": [
    "import config\n",
    "import requests\n",
    "import pandas as pd\n",
    "import plotly.graph_objects as go\n",
    "import matplotlib.pyplot as plt"
   ]
  },
  {
   "cell_type": "code",
   "execution_count": 2,
   "id": "059ca38f",
   "metadata": {},
   "outputs": [],
   "source": [
    "state_codes = {'Alabama': 'AL', 'Alaska': 'AK', 'Arizona': 'AZ', 'Arkansas': 'AR',\n",
    "               'California': 'CA', 'Colorado': 'CO', 'Connecticut': 'CT', 'Delaware': 'DE',\n",
    "               'District of Columbia': 'DC', 'Florida': 'FL', 'Georgia': 'GA', 'Hawaii': 'HI',\n",
    "               'Idaho': 'ID', 'Illinois': 'IL', 'Indiana': 'IN', 'Iowa': 'IA', 'Kansas': 'KS',\n",
    "               'Kentucky': 'KY', 'Louisiana': 'LA', 'Maine': 'ME', 'Maryland': 'MD',\n",
    "               'Massachusetts': 'MA', 'Michigan': 'MI', 'Minnesota': 'MN', 'Mississippi': 'MS',\n",
    "               'Missouri': 'MO', 'Montana': 'MT', 'Nebraska': 'NE', 'Nevada': 'NV',\n",
    "               'New Hampshire': 'NH', 'New Jersey': 'NJ', 'New Mexico': 'NM', 'New York': 'NY',\n",
    "               'North Carolina': 'NC', 'North Dakota': 'ND', 'Ohio': 'OH', 'Oklahoma': 'OK',\n",
    "               'Oregon': 'OR', 'Pennsylvania': 'PA', 'Rhode Island': 'RI', 'South Carolina': 'SC',\n",
    "               'South Dakota': 'SD', 'Tennessee': 'TN', 'Texas': 'TX', 'Utah': 'UT', \n",
    "               'Vermont': 'VT', 'Virginia': 'VA', 'Washington': 'WA', 'West Virginia': 'WV',\n",
    "               'Wisconsin': 'WI', 'Wyoming': 'WY'}"
   ]
  },
  {
   "cell_type": "code",
   "execution_count": 3,
   "id": "672ef37e",
   "metadata": {},
   "outputs": [],
   "source": [
    "cs_response = requests.get(f\"https://api.census.gov/data/2018/abscs?get=NAME,SEX,SEX_LABEL,ETH_GROUP,ETH_GROUP_LABEL,RACE_GROUP,RACE_GROUP_LABEL,VET_GROUP,VET_GROUP_LABEL,YIBSZFI,YIBSZFI_LABEL,RCPSZFI,RCPSZFI_LABEL,FIRMPDEMP,EMP,PAYANN&for=state:*&NAICS2017=00&key={config.api_key}\")"
   ]
  },
  {
   "cell_type": "code",
   "execution_count": 4,
   "id": "07e2d00e",
   "metadata": {},
   "outputs": [],
   "source": [
    "cbo_response = requests.get(f\"https://api.census.gov/data/2018/abscbo?get=NAME,GEO_ID,NAICS2017_LABEL,OWNER_SEX,OWNER_ETH,OWNER_RACE,OWNER_VET,OWNPDEMP&for=state:*&OWNCHAR=CG&NAICS2017=00&QDESC=O02&key={config.api_key}\")"
   ]
  },
  {
   "cell_type": "code",
   "execution_count": 5,
   "id": "54319e5c",
   "metadata": {},
   "outputs": [],
   "source": [
    "cs_list = cs_response.json()\n",
    "cs = pd.DataFrame(cs_list[1:], columns = cs_list[0])\n",
    "cs[['FIRMPDEMP', 'EMP', 'PAYANN']] = cs[['FIRMPDEMP', 'EMP', 'PAYANN']].apply(pd.to_numeric)\n",
    "cs['state_code'] = cs['NAME'].map(state_codes)"
   ]
  },
  {
   "cell_type": "code",
   "execution_count": 6,
   "id": "2fe70591",
   "metadata": {},
   "outputs": [],
   "source": [
    "cbo_list = cbo_response.json()\n",
    "cbo = pd.DataFrame(cbo_list[1:], columns = cbo_list[0])\n",
    "cbo['OWNPDEMP'] = pd.to_numeric(cbo['OWNPDEMP'])"
   ]
  },
  {
   "cell_type": "code",
   "execution_count": 7,
   "id": "37f5a6f4",
   "metadata": {},
   "outputs": [
    {
     "name": "stderr",
     "output_type": "stream",
     "text": [
      "C:\\Users\\agang_drcif5q\\miniconda3\\lib\\site-packages\\pandas\\core\\frame.py:4906: SettingWithCopyWarning: \n",
      "A value is trying to be set on a copy of a slice from a DataFrame\n",
      "\n",
      "See the caveats in the documentation: https://pandas.pydata.org/pandas-docs/stable/user_guide/indexing.html#returning-a-view-versus-a-copy\n",
      "  return super().drop(\n"
     ]
    },
    {
     "data": {
      "text/html": [
       "<div>\n",
       "<style scoped>\n",
       "    .dataframe tbody tr th:only-of-type {\n",
       "        vertical-align: middle;\n",
       "    }\n",
       "\n",
       "    .dataframe tbody tr th {\n",
       "        vertical-align: top;\n",
       "    }\n",
       "\n",
       "    .dataframe thead th {\n",
       "        text-align: right;\n",
       "    }\n",
       "</style>\n",
       "<table border=\"1\" class=\"dataframe\">\n",
       "  <thead>\n",
       "    <tr style=\"text-align: right;\">\n",
       "      <th></th>\n",
       "      <th>NAME</th>\n",
       "      <th>YIBSZFI</th>\n",
       "      <th>YIBSZFI_LABEL</th>\n",
       "      <th>RCPSZFI</th>\n",
       "      <th>RCPSZFI_LABEL</th>\n",
       "      <th>FIRMPDEMP</th>\n",
       "      <th>EMP</th>\n",
       "      <th>PAYANN</th>\n",
       "      <th>NAICS2017</th>\n",
       "      <th>state</th>\n",
       "      <th>state_code</th>\n",
       "    </tr>\n",
       "  </thead>\n",
       "  <tbody>\n",
       "    <tr>\n",
       "      <th>35</th>\n",
       "      <td>Mississippi</td>\n",
       "      <td>318</td>\n",
       "      <td>Firms with 2 to 3 years in business</td>\n",
       "      <td>001</td>\n",
       "      <td>All firms</td>\n",
       "      <td>4432</td>\n",
       "      <td>32809</td>\n",
       "      <td>825902</td>\n",
       "      <td>00</td>\n",
       "      <td>28</td>\n",
       "      <td>MS</td>\n",
       "    </tr>\n",
       "    <tr>\n",
       "      <th>36</th>\n",
       "      <td>Mississippi</td>\n",
       "      <td>319</td>\n",
       "      <td>Firms with 4 to 5 years in business</td>\n",
       "      <td>001</td>\n",
       "      <td>All firms</td>\n",
       "      <td>3201</td>\n",
       "      <td>21806</td>\n",
       "      <td>545078</td>\n",
       "      <td>00</td>\n",
       "      <td>28</td>\n",
       "      <td>MS</td>\n",
       "    </tr>\n",
       "    <tr>\n",
       "      <th>37</th>\n",
       "      <td>Mississippi</td>\n",
       "      <td>321</td>\n",
       "      <td>Firms with 6 to 10 years in business</td>\n",
       "      <td>001</td>\n",
       "      <td>All firms</td>\n",
       "      <td>6455</td>\n",
       "      <td>57027</td>\n",
       "      <td>1768985</td>\n",
       "      <td>00</td>\n",
       "      <td>28</td>\n",
       "      <td>MS</td>\n",
       "    </tr>\n",
       "    <tr>\n",
       "      <th>38</th>\n",
       "      <td>Mississippi</td>\n",
       "      <td>322</td>\n",
       "      <td>Firms with 11 to 15 years in business</td>\n",
       "      <td>001</td>\n",
       "      <td>All firms</td>\n",
       "      <td>5790</td>\n",
       "      <td>67830</td>\n",
       "      <td>2034845</td>\n",
       "      <td>00</td>\n",
       "      <td>28</td>\n",
       "      <td>MS</td>\n",
       "    </tr>\n",
       "    <tr>\n",
       "      <th>39</th>\n",
       "      <td>Mississippi</td>\n",
       "      <td>323</td>\n",
       "      <td>Firms with 16 or more years in business</td>\n",
       "      <td>001</td>\n",
       "      <td>All firms</td>\n",
       "      <td>16079</td>\n",
       "      <td>716886</td>\n",
       "      <td>28306886</td>\n",
       "      <td>00</td>\n",
       "      <td>28</td>\n",
       "      <td>MS</td>\n",
       "    </tr>\n",
       "    <tr>\n",
       "      <th>...</th>\n",
       "      <td>...</td>\n",
       "      <td>...</td>\n",
       "      <td>...</td>\n",
       "      <td>...</td>\n",
       "      <td>...</td>\n",
       "      <td>...</td>\n",
       "      <td>...</td>\n",
       "      <td>...</td>\n",
       "      <td>...</td>\n",
       "      <td>...</td>\n",
       "      <td>...</td>\n",
       "    </tr>\n",
       "    <tr>\n",
       "      <th>72296</th>\n",
       "      <td>Minnesota</td>\n",
       "      <td>318</td>\n",
       "      <td>Firms with 2 to 3 years in business</td>\n",
       "      <td>001</td>\n",
       "      <td>All firms</td>\n",
       "      <td>11712</td>\n",
       "      <td>69732</td>\n",
       "      <td>2236187</td>\n",
       "      <td>00</td>\n",
       "      <td>27</td>\n",
       "      <td>MN</td>\n",
       "    </tr>\n",
       "    <tr>\n",
       "      <th>72297</th>\n",
       "      <td>Minnesota</td>\n",
       "      <td>319</td>\n",
       "      <td>Firms with 4 to 5 years in business</td>\n",
       "      <td>001</td>\n",
       "      <td>All firms</td>\n",
       "      <td>9541</td>\n",
       "      <td>81985</td>\n",
       "      <td>2964101</td>\n",
       "      <td>00</td>\n",
       "      <td>27</td>\n",
       "      <td>MN</td>\n",
       "    </tr>\n",
       "    <tr>\n",
       "      <th>72298</th>\n",
       "      <td>Minnesota</td>\n",
       "      <td>321</td>\n",
       "      <td>Firms with 6 to 10 years in business</td>\n",
       "      <td>001</td>\n",
       "      <td>All firms</td>\n",
       "      <td>18305</td>\n",
       "      <td>185432</td>\n",
       "      <td>6713740</td>\n",
       "      <td>00</td>\n",
       "      <td>27</td>\n",
       "      <td>MN</td>\n",
       "    </tr>\n",
       "    <tr>\n",
       "      <th>72299</th>\n",
       "      <td>Minnesota</td>\n",
       "      <td>322</td>\n",
       "      <td>Firms with 11 to 15 years in business</td>\n",
       "      <td>001</td>\n",
       "      <td>All firms</td>\n",
       "      <td>16034</td>\n",
       "      <td>149035</td>\n",
       "      <td>5509298</td>\n",
       "      <td>00</td>\n",
       "      <td>27</td>\n",
       "      <td>MN</td>\n",
       "    </tr>\n",
       "    <tr>\n",
       "      <th>72300</th>\n",
       "      <td>Minnesota</td>\n",
       "      <td>323</td>\n",
       "      <td>Firms with 16 or more years in business</td>\n",
       "      <td>001</td>\n",
       "      <td>All firms</td>\n",
       "      <td>44779</td>\n",
       "      <td>2129062</td>\n",
       "      <td>127050334</td>\n",
       "      <td>00</td>\n",
       "      <td>27</td>\n",
       "      <td>MN</td>\n",
       "    </tr>\n",
       "  </tbody>\n",
       "</table>\n",
       "<p>816 rows × 11 columns</p>\n",
       "</div>"
      ],
      "text/plain": [
       "              NAME YIBSZFI                            YIBSZFI_LABEL RCPSZFI  \\\n",
       "35     Mississippi     318      Firms with 2 to 3 years in business     001   \n",
       "36     Mississippi     319      Firms with 4 to 5 years in business     001   \n",
       "37     Mississippi     321     Firms with 6 to 10 years in business     001   \n",
       "38     Mississippi     322    Firms with 11 to 15 years in business     001   \n",
       "39     Mississippi     323  Firms with 16 or more years in business     001   \n",
       "...            ...     ...                                      ...     ...   \n",
       "72296    Minnesota     318      Firms with 2 to 3 years in business     001   \n",
       "72297    Minnesota     319      Firms with 4 to 5 years in business     001   \n",
       "72298    Minnesota     321     Firms with 6 to 10 years in business     001   \n",
       "72299    Minnesota     322    Firms with 11 to 15 years in business     001   \n",
       "72300    Minnesota     323  Firms with 16 or more years in business     001   \n",
       "\n",
       "      RCPSZFI_LABEL  FIRMPDEMP      EMP     PAYANN NAICS2017 state state_code  \n",
       "35        All firms       4432    32809     825902        00    28         MS  \n",
       "36        All firms       3201    21806     545078        00    28         MS  \n",
       "37        All firms       6455    57027    1768985        00    28         MS  \n",
       "38        All firms       5790    67830    2034845        00    28         MS  \n",
       "39        All firms      16079   716886   28306886        00    28         MS  \n",
       "...             ...        ...      ...        ...       ...   ...        ...  \n",
       "72296     All firms      11712    69732    2236187        00    27         MN  \n",
       "72297     All firms       9541    81985    2964101        00    27         MN  \n",
       "72298     All firms      18305   185432    6713740        00    27         MN  \n",
       "72299     All firms      16034   149035    5509298        00    27         MN  \n",
       "72300     All firms      44779  2129062  127050334        00    27         MN  \n",
       "\n",
       "[816 rows x 11 columns]"
      ]
     },
     "execution_count": 7,
     "metadata": {},
     "output_type": "execute_result"
    }
   ],
   "source": [
    "cs_servtotal = cs[(cs['SEX'] == '001') & (cs['ETH_GROUP'] == '001')\n",
    "              & (cs['RACE_GROUP'] == '00') & (cs['VET_GROUP'] == '001')]\n",
    "cs_servtotal.drop(['SEX', 'SEX_LABEL', 'ETH_GROUP', 'ETH_GROUP_LABEL',\n",
    "                   'RACE_GROUP', 'RACE_GROUP_LABEL', 'VET_GROUP', 'VET_GROUP_LABEL'],\n",
    "                  axis = 1, inplace = True)\n",
    "cs_servtotal"
   ]
  },
  {
   "cell_type": "code",
   "execution_count": 23,
   "id": "8069da28",
   "metadata": {
    "scrolled": false
   },
   "outputs": [
    {
     "name": "stderr",
     "output_type": "stream",
     "text": [
      "C:\\Users\\agang_drcif5q\\miniconda3\\lib\\site-packages\\pandas\\core\\frame.py:4906: SettingWithCopyWarning:\n",
      "\n",
      "\n",
      "A value is trying to be set on a copy of a slice from a DataFrame\n",
      "\n",
      "See the caveats in the documentation: https://pandas.pydata.org/pandas-docs/stable/user_guide/indexing.html#returning-a-view-versus-a-copy\n",
      "\n"
     ]
    },
    {
     "data": {
      "text/html": [
       "<div>\n",
       "<style scoped>\n",
       "    .dataframe tbody tr th:only-of-type {\n",
       "        vertical-align: middle;\n",
       "    }\n",
       "\n",
       "    .dataframe tbody tr th {\n",
       "        vertical-align: top;\n",
       "    }\n",
       "\n",
       "    .dataframe thead th {\n",
       "        text-align: right;\n",
       "    }\n",
       "</style>\n",
       "<table border=\"1\" class=\"dataframe\">\n",
       "  <thead>\n",
       "    <tr style=\"text-align: right;\">\n",
       "      <th></th>\n",
       "      <th>NAME</th>\n",
       "      <th>RCPSZFI</th>\n",
       "      <th>FIRMPDEMP</th>\n",
       "      <th>state</th>\n",
       "      <th>state_code</th>\n",
       "    </tr>\n",
       "  </thead>\n",
       "  <tbody>\n",
       "    <tr>\n",
       "      <th>1257</th>\n",
       "      <td>Mississippi</td>\n",
       "      <td>532</td>\n",
       "      <td>14398</td>\n",
       "      <td>28</td>\n",
       "      <td>MS</td>\n",
       "    </tr>\n",
       "    <tr>\n",
       "      <th>2289</th>\n",
       "      <td>Missouri</td>\n",
       "      <td>532</td>\n",
       "      <td>31953</td>\n",
       "      <td>29</td>\n",
       "      <td>MO</td>\n",
       "    </tr>\n",
       "    <tr>\n",
       "      <th>3083</th>\n",
       "      <td>Montana</td>\n",
       "      <td>532</td>\n",
       "      <td>7305</td>\n",
       "      <td>30</td>\n",
       "      <td>MT</td>\n",
       "    </tr>\n",
       "    <tr>\n",
       "      <th>4136</th>\n",
       "      <td>Nebraska</td>\n",
       "      <td>532</td>\n",
       "      <td>12288</td>\n",
       "      <td>31</td>\n",
       "      <td>NE</td>\n",
       "    </tr>\n",
       "    <tr>\n",
       "      <th>6676</th>\n",
       "      <td>Nevada</td>\n",
       "      <td>532</td>\n",
       "      <td>17125</td>\n",
       "      <td>32</td>\n",
       "      <td>NV</td>\n",
       "    </tr>\n",
       "    <tr>\n",
       "      <th>7817</th>\n",
       "      <td>New Hampshire</td>\n",
       "      <td>532</td>\n",
       "      <td>10537</td>\n",
       "      <td>33</td>\n",
       "      <td>NH</td>\n",
       "    </tr>\n",
       "    <tr>\n",
       "      <th>9121</th>\n",
       "      <td>New Jersey</td>\n",
       "      <td>532</td>\n",
       "      <td>58912</td>\n",
       "      <td>34</td>\n",
       "      <td>NJ</td>\n",
       "    </tr>\n",
       "    <tr>\n",
       "      <th>9711</th>\n",
       "      <td>New Mexico</td>\n",
       "      <td>532</td>\n",
       "      <td>9520</td>\n",
       "      <td>35</td>\n",
       "      <td>NM</td>\n",
       "    </tr>\n",
       "    <tr>\n",
       "      <th>11863</th>\n",
       "      <td>New York</td>\n",
       "      <td>532</td>\n",
       "      <td>125080</td>\n",
       "      <td>36</td>\n",
       "      <td>NY</td>\n",
       "    </tr>\n",
       "    <tr>\n",
       "      <th>13123</th>\n",
       "      <td>North Carolina</td>\n",
       "      <td>532</td>\n",
       "      <td>49825</td>\n",
       "      <td>37</td>\n",
       "      <td>NC</td>\n",
       "    </tr>\n",
       "    <tr>\n",
       "      <th>15041</th>\n",
       "      <td>North Dakota</td>\n",
       "      <td>532</td>\n",
       "      <td>6361</td>\n",
       "      <td>38</td>\n",
       "      <td>ND</td>\n",
       "    </tr>\n",
       "    <tr>\n",
       "      <th>15564</th>\n",
       "      <td>Ohio</td>\n",
       "      <td>532</td>\n",
       "      <td>56134</td>\n",
       "      <td>39</td>\n",
       "      <td>OH</td>\n",
       "    </tr>\n",
       "    <tr>\n",
       "      <th>17279</th>\n",
       "      <td>Oklahoma</td>\n",
       "      <td>532</td>\n",
       "      <td>21671</td>\n",
       "      <td>40</td>\n",
       "      <td>OK</td>\n",
       "    </tr>\n",
       "    <tr>\n",
       "      <th>18468</th>\n",
       "      <td>Oregon</td>\n",
       "      <td>532</td>\n",
       "      <td>26006</td>\n",
       "      <td>41</td>\n",
       "      <td>OR</td>\n",
       "    </tr>\n",
       "    <tr>\n",
       "      <th>20968</th>\n",
       "      <td>Pennsylvania</td>\n",
       "      <td>532</td>\n",
       "      <td>67533</td>\n",
       "      <td>42</td>\n",
       "      <td>PA</td>\n",
       "    </tr>\n",
       "    <tr>\n",
       "      <th>22535</th>\n",
       "      <td>Rhode Island</td>\n",
       "      <td>532</td>\n",
       "      <td>6735</td>\n",
       "      <td>44</td>\n",
       "      <td>RI</td>\n",
       "    </tr>\n",
       "    <tr>\n",
       "      <th>23129</th>\n",
       "      <td>South Carolina</td>\n",
       "      <td>532</td>\n",
       "      <td>24349</td>\n",
       "      <td>45</td>\n",
       "      <td>SC</td>\n",
       "    </tr>\n",
       "    <tr>\n",
       "      <th>25084</th>\n",
       "      <td>South Dakota</td>\n",
       "      <td>532</td>\n",
       "      <td>6110</td>\n",
       "      <td>46</td>\n",
       "      <td>SD</td>\n",
       "    </tr>\n",
       "    <tr>\n",
       "      <th>25682</th>\n",
       "      <td>Tennessee</td>\n",
       "      <td>532</td>\n",
       "      <td>33697</td>\n",
       "      <td>47</td>\n",
       "      <td>TN</td>\n",
       "    </tr>\n",
       "    <tr>\n",
       "      <th>26826</th>\n",
       "      <td>Texas</td>\n",
       "      <td>532</td>\n",
       "      <td>138637</td>\n",
       "      <td>48</td>\n",
       "      <td>TX</td>\n",
       "    </tr>\n",
       "    <tr>\n",
       "      <th>29186</th>\n",
       "      <td>Vermont</td>\n",
       "      <td>532</td>\n",
       "      <td>4521</td>\n",
       "      <td>50</td>\n",
       "      <td>VT</td>\n",
       "    </tr>\n",
       "    <tr>\n",
       "      <th>29873</th>\n",
       "      <td>Utah</td>\n",
       "      <td>532</td>\n",
       "      <td>17660</td>\n",
       "      <td>49</td>\n",
       "      <td>UT</td>\n",
       "    </tr>\n",
       "    <tr>\n",
       "      <th>31910</th>\n",
       "      <td>Virginia</td>\n",
       "      <td>532</td>\n",
       "      <td>42165</td>\n",
       "      <td>51</td>\n",
       "      <td>VA</td>\n",
       "    </tr>\n",
       "    <tr>\n",
       "      <th>33376</th>\n",
       "      <td>Washington</td>\n",
       "      <td>532</td>\n",
       "      <td>42889</td>\n",
       "      <td>53</td>\n",
       "      <td>WA</td>\n",
       "    </tr>\n",
       "    <tr>\n",
       "      <th>34446</th>\n",
       "      <td>West Virginia</td>\n",
       "      <td>532</td>\n",
       "      <td>7700</td>\n",
       "      <td>54</td>\n",
       "      <td>WV</td>\n",
       "    </tr>\n",
       "    <tr>\n",
       "      <th>36178</th>\n",
       "      <td>Wisconsin</td>\n",
       "      <td>532</td>\n",
       "      <td>32199</td>\n",
       "      <td>55</td>\n",
       "      <td>WI</td>\n",
       "    </tr>\n",
       "    <tr>\n",
       "      <th>37820</th>\n",
       "      <td>Wyoming</td>\n",
       "      <td>532</td>\n",
       "      <td>4748</td>\n",
       "      <td>56</td>\n",
       "      <td>WY</td>\n",
       "    </tr>\n",
       "    <tr>\n",
       "      <th>37976</th>\n",
       "      <td>Alabama</td>\n",
       "      <td>532</td>\n",
       "      <td>24269</td>\n",
       "      <td>01</td>\n",
       "      <td>AL</td>\n",
       "    </tr>\n",
       "    <tr>\n",
       "      <th>39379</th>\n",
       "      <td>Alaska</td>\n",
       "      <td>532</td>\n",
       "      <td>4969</td>\n",
       "      <td>02</td>\n",
       "      <td>AK</td>\n",
       "    </tr>\n",
       "    <tr>\n",
       "      <th>41309</th>\n",
       "      <td>Arizona</td>\n",
       "      <td>532</td>\n",
       "      <td>32315</td>\n",
       "      <td>04</td>\n",
       "      <td>AZ</td>\n",
       "    </tr>\n",
       "    <tr>\n",
       "      <th>42398</th>\n",
       "      <td>Arkansas</td>\n",
       "      <td>532</td>\n",
       "      <td>15099</td>\n",
       "      <td>05</td>\n",
       "      <td>AR</td>\n",
       "    </tr>\n",
       "    <tr>\n",
       "      <th>43646</th>\n",
       "      <td>California</td>\n",
       "      <td>532</td>\n",
       "      <td>228549</td>\n",
       "      <td>06</td>\n",
       "      <td>CA</td>\n",
       "    </tr>\n",
       "    <tr>\n",
       "      <th>45776</th>\n",
       "      <td>Colorado</td>\n",
       "      <td>532</td>\n",
       "      <td>37715</td>\n",
       "      <td>08</td>\n",
       "      <td>CO</td>\n",
       "    </tr>\n",
       "    <tr>\n",
       "      <th>48289</th>\n",
       "      <td>Delaware</td>\n",
       "      <td>532</td>\n",
       "      <td>7308</td>\n",
       "      <td>10</td>\n",
       "      <td>DE</td>\n",
       "    </tr>\n",
       "    <tr>\n",
       "      <th>48622</th>\n",
       "      <td>District of Columbia</td>\n",
       "      <td>532</td>\n",
       "      <td>7837</td>\n",
       "      <td>11</td>\n",
       "      <td>DC</td>\n",
       "    </tr>\n",
       "    <tr>\n",
       "      <th>50851</th>\n",
       "      <td>Connecticut</td>\n",
       "      <td>532</td>\n",
       "      <td>23456</td>\n",
       "      <td>09</td>\n",
       "      <td>CT</td>\n",
       "    </tr>\n",
       "    <tr>\n",
       "      <th>51231</th>\n",
       "      <td>Florida</td>\n",
       "      <td>532</td>\n",
       "      <td>107197</td>\n",
       "      <td>12</td>\n",
       "      <td>FL</td>\n",
       "    </tr>\n",
       "    <tr>\n",
       "      <th>52965</th>\n",
       "      <td>Georgia</td>\n",
       "      <td>532</td>\n",
       "      <td>54033</td>\n",
       "      <td>13</td>\n",
       "      <td>GA</td>\n",
       "    </tr>\n",
       "    <tr>\n",
       "      <th>54972</th>\n",
       "      <td>Idaho</td>\n",
       "      <td>532</td>\n",
       "      <td>10774</td>\n",
       "      <td>16</td>\n",
       "      <td>ID</td>\n",
       "    </tr>\n",
       "    <tr>\n",
       "      <th>55828</th>\n",
       "      <td>Hawaii</td>\n",
       "      <td>532</td>\n",
       "      <td>8052</td>\n",
       "      <td>15</td>\n",
       "      <td>HI</td>\n",
       "    </tr>\n",
       "    <tr>\n",
       "      <th>57194</th>\n",
       "      <td>Illinois</td>\n",
       "      <td>532</td>\n",
       "      <td>72659</td>\n",
       "      <td>17</td>\n",
       "      <td>IL</td>\n",
       "    </tr>\n",
       "    <tr>\n",
       "      <th>58803</th>\n",
       "      <td>Indiana</td>\n",
       "      <td>532</td>\n",
       "      <td>33959</td>\n",
       "      <td>18</td>\n",
       "      <td>IN</td>\n",
       "    </tr>\n",
       "    <tr>\n",
       "      <th>60880</th>\n",
       "      <td>Iowa</td>\n",
       "      <td>532</td>\n",
       "      <td>17648</td>\n",
       "      <td>19</td>\n",
       "      <td>IA</td>\n",
       "    </tr>\n",
       "    <tr>\n",
       "      <th>61772</th>\n",
       "      <td>Kansas</td>\n",
       "      <td>532</td>\n",
       "      <td>17316</td>\n",
       "      <td>20</td>\n",
       "      <td>KS</td>\n",
       "    </tr>\n",
       "    <tr>\n",
       "      <th>62995</th>\n",
       "      <td>Kentucky</td>\n",
       "      <td>532</td>\n",
       "      <td>21231</td>\n",
       "      <td>21</td>\n",
       "      <td>KY</td>\n",
       "    </tr>\n",
       "    <tr>\n",
       "      <th>64727</th>\n",
       "      <td>Louisiana</td>\n",
       "      <td>532</td>\n",
       "      <td>25577</td>\n",
       "      <td>22</td>\n",
       "      <td>LA</td>\n",
       "    </tr>\n",
       "    <tr>\n",
       "      <th>65731</th>\n",
       "      <td>Maine</td>\n",
       "      <td>532</td>\n",
       "      <td>8386</td>\n",
       "      <td>23</td>\n",
       "      <td>ME</td>\n",
       "    </tr>\n",
       "    <tr>\n",
       "      <th>67418</th>\n",
       "      <td>Maryland</td>\n",
       "      <td>532</td>\n",
       "      <td>34269</td>\n",
       "      <td>24</td>\n",
       "      <td>MD</td>\n",
       "    </tr>\n",
       "    <tr>\n",
       "      <th>68769</th>\n",
       "      <td>Massachusetts</td>\n",
       "      <td>532</td>\n",
       "      <td>47542</td>\n",
       "      <td>25</td>\n",
       "      <td>MA</td>\n",
       "    </tr>\n",
       "    <tr>\n",
       "      <th>70588</th>\n",
       "      <td>Michigan</td>\n",
       "      <td>532</td>\n",
       "      <td>51274</td>\n",
       "      <td>26</td>\n",
       "      <td>MI</td>\n",
       "    </tr>\n",
       "    <tr>\n",
       "      <th>72294</th>\n",
       "      <td>Minnesota</td>\n",
       "      <td>532</td>\n",
       "      <td>34629</td>\n",
       "      <td>27</td>\n",
       "      <td>MN</td>\n",
       "    </tr>\n",
       "  </tbody>\n",
       "</table>\n",
       "</div>"
      ],
      "text/plain": [
       "                       NAME RCPSZFI  FIRMPDEMP state state_code\n",
       "1257            Mississippi     532      14398    28         MS\n",
       "2289               Missouri     532      31953    29         MO\n",
       "3083                Montana     532       7305    30         MT\n",
       "4136               Nebraska     532      12288    31         NE\n",
       "6676                 Nevada     532      17125    32         NV\n",
       "7817          New Hampshire     532      10537    33         NH\n",
       "9121             New Jersey     532      58912    34         NJ\n",
       "9711             New Mexico     532       9520    35         NM\n",
       "11863              New York     532     125080    36         NY\n",
       "13123        North Carolina     532      49825    37         NC\n",
       "15041          North Dakota     532       6361    38         ND\n",
       "15564                  Ohio     532      56134    39         OH\n",
       "17279              Oklahoma     532      21671    40         OK\n",
       "18468                Oregon     532      26006    41         OR\n",
       "20968          Pennsylvania     532      67533    42         PA\n",
       "22535          Rhode Island     532       6735    44         RI\n",
       "23129        South Carolina     532      24349    45         SC\n",
       "25084          South Dakota     532       6110    46         SD\n",
       "25682             Tennessee     532      33697    47         TN\n",
       "26826                 Texas     532     138637    48         TX\n",
       "29186               Vermont     532       4521    50         VT\n",
       "29873                  Utah     532      17660    49         UT\n",
       "31910              Virginia     532      42165    51         VA\n",
       "33376            Washington     532      42889    53         WA\n",
       "34446         West Virginia     532       7700    54         WV\n",
       "36178             Wisconsin     532      32199    55         WI\n",
       "37820               Wyoming     532       4748    56         WY\n",
       "37976               Alabama     532      24269    01         AL\n",
       "39379                Alaska     532       4969    02         AK\n",
       "41309               Arizona     532      32315    04         AZ\n",
       "42398              Arkansas     532      15099    05         AR\n",
       "43646            California     532     228549    06         CA\n",
       "45776              Colorado     532      37715    08         CO\n",
       "48289              Delaware     532       7308    10         DE\n",
       "48622  District of Columbia     532       7837    11         DC\n",
       "50851           Connecticut     532      23456    09         CT\n",
       "51231               Florida     532     107197    12         FL\n",
       "52965               Georgia     532      54033    13         GA\n",
       "54972                 Idaho     532      10774    16         ID\n",
       "55828                Hawaii     532       8052    15         HI\n",
       "57194              Illinois     532      72659    17         IL\n",
       "58803               Indiana     532      33959    18         IN\n",
       "60880                  Iowa     532      17648    19         IA\n",
       "61772                Kansas     532      17316    20         KS\n",
       "62995              Kentucky     532      21231    21         KY\n",
       "64727             Louisiana     532      25577    22         LA\n",
       "65731                 Maine     532       8386    23         ME\n",
       "67418              Maryland     532      34269    24         MD\n",
       "68769         Massachusetts     532      47542    25         MA\n",
       "70588              Michigan     532      51274    26         MI\n",
       "72294             Minnesota     532      34629    27         MN"
      ]
     },
     "execution_count": 23,
     "metadata": {},
     "output_type": "execute_result"
    }
   ],
   "source": [
    "cs_hib = cs_servtotal[(cs_servtotal['YIBSZFI'] == '001') & (cs_servtotal['RCPSZFI'] == '532')]\n",
    "cs_hib.drop(['YIBSZFI', 'YIBSZFI_LABEL', 'RCPSZFI_LABEL', 'EMP', 'PAYANN', 'NAICS2017'], axis = 1, inplace = True)\n",
    "cs_hib"
   ]
  },
  {
   "cell_type": "code",
   "execution_count": 25,
   "id": "0f3fdaf5",
   "metadata": {},
   "outputs": [
    {
     "data": {
      "application/vnd.plotly.v1+json": {
       "config": {
        "plotlyServerURL": "https://plot.ly"
       },
       "data": [
        {
         "colorbar": {
          "title": {
           "text": "Number of Businesses"
          }
         },
         "colorscale": [
          [
           0,
           "rgb(247,251,255)"
          ],
          [
           0.125,
           "rgb(222,235,247)"
          ],
          [
           0.25,
           "rgb(198,219,239)"
          ],
          [
           0.375,
           "rgb(158,202,225)"
          ],
          [
           0.5,
           "rgb(107,174,214)"
          ],
          [
           0.625,
           "rgb(66,146,198)"
          ],
          [
           0.75,
           "rgb(33,113,181)"
          ],
          [
           0.875,
           "rgb(8,81,156)"
          ],
          [
           1,
           "rgb(8,48,107)"
          ]
         ],
         "locationmode": "USA-states",
         "locations": [
          "MS",
          "MO",
          "MT",
          "NE",
          "NV",
          "NH",
          "NJ",
          "NM",
          "NY",
          "NC",
          "ND",
          "OH",
          "OK",
          "OR",
          "PA",
          "RI",
          "SC",
          "SD",
          "TN",
          "TX",
          "VT",
          "UT",
          "VA",
          "WA",
          "WV",
          "WI",
          "WY",
          "AL",
          "AK",
          "AZ",
          "AR",
          "CA",
          "CO",
          "DE",
          "DC",
          "CT",
          "FL",
          "GA",
          "ID",
          "HI",
          "IL",
          "IN",
          "IA",
          "KS",
          "KY",
          "LA",
          "ME",
          "MD",
          "MA",
          "MI",
          "MN"
         ],
         "type": "choropleth",
         "z": [
          14398,
          31953,
          7305,
          12288,
          17125,
          10537,
          58912,
          9520,
          125080,
          49825,
          6361,
          56134,
          21671,
          26006,
          67533,
          6735,
          24349,
          6110,
          33697,
          138637,
          4521,
          17660,
          42165,
          42889,
          7700,
          32199,
          4748,
          24269,
          4969,
          32315,
          15099,
          228549,
          37715,
          7308,
          7837,
          23456,
          107197,
          54033,
          10774,
          8052,
          72659,
          33959,
          17648,
          17316,
          21231,
          25577,
          8386,
          34269,
          47542,
          51274,
          34629
         ]
        }
       ],
       "layout": {
        "geo": {
         "bgcolor": "rgba(0,0,0,0)",
         "scope": "usa"
        },
        "paper_bgcolor": "rgba(255,255,255,0.9)",
        "template": {
         "data": {
          "bar": [
           {
            "error_x": {
             "color": "#2a3f5f"
            },
            "error_y": {
             "color": "#2a3f5f"
            },
            "marker": {
             "line": {
              "color": "#E5ECF6",
              "width": 0.5
             }
            },
            "type": "bar"
           }
          ],
          "barpolar": [
           {
            "marker": {
             "line": {
              "color": "#E5ECF6",
              "width": 0.5
             }
            },
            "type": "barpolar"
           }
          ],
          "carpet": [
           {
            "aaxis": {
             "endlinecolor": "#2a3f5f",
             "gridcolor": "white",
             "linecolor": "white",
             "minorgridcolor": "white",
             "startlinecolor": "#2a3f5f"
            },
            "baxis": {
             "endlinecolor": "#2a3f5f",
             "gridcolor": "white",
             "linecolor": "white",
             "minorgridcolor": "white",
             "startlinecolor": "#2a3f5f"
            },
            "type": "carpet"
           }
          ],
          "choropleth": [
           {
            "colorbar": {
             "outlinewidth": 0,
             "ticks": ""
            },
            "type": "choropleth"
           }
          ],
          "contour": [
           {
            "colorbar": {
             "outlinewidth": 0,
             "ticks": ""
            },
            "colorscale": [
             [
              0,
              "#0d0887"
             ],
             [
              0.1111111111111111,
              "#46039f"
             ],
             [
              0.2222222222222222,
              "#7201a8"
             ],
             [
              0.3333333333333333,
              "#9c179e"
             ],
             [
              0.4444444444444444,
              "#bd3786"
             ],
             [
              0.5555555555555556,
              "#d8576b"
             ],
             [
              0.6666666666666666,
              "#ed7953"
             ],
             [
              0.7777777777777778,
              "#fb9f3a"
             ],
             [
              0.8888888888888888,
              "#fdca26"
             ],
             [
              1,
              "#f0f921"
             ]
            ],
            "type": "contour"
           }
          ],
          "contourcarpet": [
           {
            "colorbar": {
             "outlinewidth": 0,
             "ticks": ""
            },
            "type": "contourcarpet"
           }
          ],
          "heatmap": [
           {
            "colorbar": {
             "outlinewidth": 0,
             "ticks": ""
            },
            "colorscale": [
             [
              0,
              "#0d0887"
             ],
             [
              0.1111111111111111,
              "#46039f"
             ],
             [
              0.2222222222222222,
              "#7201a8"
             ],
             [
              0.3333333333333333,
              "#9c179e"
             ],
             [
              0.4444444444444444,
              "#bd3786"
             ],
             [
              0.5555555555555556,
              "#d8576b"
             ],
             [
              0.6666666666666666,
              "#ed7953"
             ],
             [
              0.7777777777777778,
              "#fb9f3a"
             ],
             [
              0.8888888888888888,
              "#fdca26"
             ],
             [
              1,
              "#f0f921"
             ]
            ],
            "type": "heatmap"
           }
          ],
          "heatmapgl": [
           {
            "colorbar": {
             "outlinewidth": 0,
             "ticks": ""
            },
            "colorscale": [
             [
              0,
              "#0d0887"
             ],
             [
              0.1111111111111111,
              "#46039f"
             ],
             [
              0.2222222222222222,
              "#7201a8"
             ],
             [
              0.3333333333333333,
              "#9c179e"
             ],
             [
              0.4444444444444444,
              "#bd3786"
             ],
             [
              0.5555555555555556,
              "#d8576b"
             ],
             [
              0.6666666666666666,
              "#ed7953"
             ],
             [
              0.7777777777777778,
              "#fb9f3a"
             ],
             [
              0.8888888888888888,
              "#fdca26"
             ],
             [
              1,
              "#f0f921"
             ]
            ],
            "type": "heatmapgl"
           }
          ],
          "histogram": [
           {
            "marker": {
             "colorbar": {
              "outlinewidth": 0,
              "ticks": ""
             }
            },
            "type": "histogram"
           }
          ],
          "histogram2d": [
           {
            "colorbar": {
             "outlinewidth": 0,
             "ticks": ""
            },
            "colorscale": [
             [
              0,
              "#0d0887"
             ],
             [
              0.1111111111111111,
              "#46039f"
             ],
             [
              0.2222222222222222,
              "#7201a8"
             ],
             [
              0.3333333333333333,
              "#9c179e"
             ],
             [
              0.4444444444444444,
              "#bd3786"
             ],
             [
              0.5555555555555556,
              "#d8576b"
             ],
             [
              0.6666666666666666,
              "#ed7953"
             ],
             [
              0.7777777777777778,
              "#fb9f3a"
             ],
             [
              0.8888888888888888,
              "#fdca26"
             ],
             [
              1,
              "#f0f921"
             ]
            ],
            "type": "histogram2d"
           }
          ],
          "histogram2dcontour": [
           {
            "colorbar": {
             "outlinewidth": 0,
             "ticks": ""
            },
            "colorscale": [
             [
              0,
              "#0d0887"
             ],
             [
              0.1111111111111111,
              "#46039f"
             ],
             [
              0.2222222222222222,
              "#7201a8"
             ],
             [
              0.3333333333333333,
              "#9c179e"
             ],
             [
              0.4444444444444444,
              "#bd3786"
             ],
             [
              0.5555555555555556,
              "#d8576b"
             ],
             [
              0.6666666666666666,
              "#ed7953"
             ],
             [
              0.7777777777777778,
              "#fb9f3a"
             ],
             [
              0.8888888888888888,
              "#fdca26"
             ],
             [
              1,
              "#f0f921"
             ]
            ],
            "type": "histogram2dcontour"
           }
          ],
          "mesh3d": [
           {
            "colorbar": {
             "outlinewidth": 0,
             "ticks": ""
            },
            "type": "mesh3d"
           }
          ],
          "parcoords": [
           {
            "line": {
             "colorbar": {
              "outlinewidth": 0,
              "ticks": ""
             }
            },
            "type": "parcoords"
           }
          ],
          "pie": [
           {
            "automargin": true,
            "type": "pie"
           }
          ],
          "scatter": [
           {
            "marker": {
             "colorbar": {
              "outlinewidth": 0,
              "ticks": ""
             }
            },
            "type": "scatter"
           }
          ],
          "scatter3d": [
           {
            "line": {
             "colorbar": {
              "outlinewidth": 0,
              "ticks": ""
             }
            },
            "marker": {
             "colorbar": {
              "outlinewidth": 0,
              "ticks": ""
             }
            },
            "type": "scatter3d"
           }
          ],
          "scattercarpet": [
           {
            "marker": {
             "colorbar": {
              "outlinewidth": 0,
              "ticks": ""
             }
            },
            "type": "scattercarpet"
           }
          ],
          "scattergeo": [
           {
            "marker": {
             "colorbar": {
              "outlinewidth": 0,
              "ticks": ""
             }
            },
            "type": "scattergeo"
           }
          ],
          "scattergl": [
           {
            "marker": {
             "colorbar": {
              "outlinewidth": 0,
              "ticks": ""
             }
            },
            "type": "scattergl"
           }
          ],
          "scattermapbox": [
           {
            "marker": {
             "colorbar": {
              "outlinewidth": 0,
              "ticks": ""
             }
            },
            "type": "scattermapbox"
           }
          ],
          "scatterpolar": [
           {
            "marker": {
             "colorbar": {
              "outlinewidth": 0,
              "ticks": ""
             }
            },
            "type": "scatterpolar"
           }
          ],
          "scatterpolargl": [
           {
            "marker": {
             "colorbar": {
              "outlinewidth": 0,
              "ticks": ""
             }
            },
            "type": "scatterpolargl"
           }
          ],
          "scatterternary": [
           {
            "marker": {
             "colorbar": {
              "outlinewidth": 0,
              "ticks": ""
             }
            },
            "type": "scatterternary"
           }
          ],
          "surface": [
           {
            "colorbar": {
             "outlinewidth": 0,
             "ticks": ""
            },
            "colorscale": [
             [
              0,
              "#0d0887"
             ],
             [
              0.1111111111111111,
              "#46039f"
             ],
             [
              0.2222222222222222,
              "#7201a8"
             ],
             [
              0.3333333333333333,
              "#9c179e"
             ],
             [
              0.4444444444444444,
              "#bd3786"
             ],
             [
              0.5555555555555556,
              "#d8576b"
             ],
             [
              0.6666666666666666,
              "#ed7953"
             ],
             [
              0.7777777777777778,
              "#fb9f3a"
             ],
             [
              0.8888888888888888,
              "#fdca26"
             ],
             [
              1,
              "#f0f921"
             ]
            ],
            "type": "surface"
           }
          ],
          "table": [
           {
            "cells": {
             "fill": {
              "color": "#EBF0F8"
             },
             "line": {
              "color": "white"
             }
            },
            "header": {
             "fill": {
              "color": "#C8D4E3"
             },
             "line": {
              "color": "white"
             }
            },
            "type": "table"
           }
          ]
         },
         "layout": {
          "annotationdefaults": {
           "arrowcolor": "#2a3f5f",
           "arrowhead": 0,
           "arrowwidth": 1
          },
          "coloraxis": {
           "colorbar": {
            "outlinewidth": 0,
            "ticks": ""
           }
          },
          "colorscale": {
           "diverging": [
            [
             0,
             "#8e0152"
            ],
            [
             0.1,
             "#c51b7d"
            ],
            [
             0.2,
             "#de77ae"
            ],
            [
             0.3,
             "#f1b6da"
            ],
            [
             0.4,
             "#fde0ef"
            ],
            [
             0.5,
             "#f7f7f7"
            ],
            [
             0.6,
             "#e6f5d0"
            ],
            [
             0.7,
             "#b8e186"
            ],
            [
             0.8,
             "#7fbc41"
            ],
            [
             0.9,
             "#4d9221"
            ],
            [
             1,
             "#276419"
            ]
           ],
           "sequential": [
            [
             0,
             "#0d0887"
            ],
            [
             0.1111111111111111,
             "#46039f"
            ],
            [
             0.2222222222222222,
             "#7201a8"
            ],
            [
             0.3333333333333333,
             "#9c179e"
            ],
            [
             0.4444444444444444,
             "#bd3786"
            ],
            [
             0.5555555555555556,
             "#d8576b"
            ],
            [
             0.6666666666666666,
             "#ed7953"
            ],
            [
             0.7777777777777778,
             "#fb9f3a"
            ],
            [
             0.8888888888888888,
             "#fdca26"
            ],
            [
             1,
             "#f0f921"
            ]
           ],
           "sequentialminus": [
            [
             0,
             "#0d0887"
            ],
            [
             0.1111111111111111,
             "#46039f"
            ],
            [
             0.2222222222222222,
             "#7201a8"
            ],
            [
             0.3333333333333333,
             "#9c179e"
            ],
            [
             0.4444444444444444,
             "#bd3786"
            ],
            [
             0.5555555555555556,
             "#d8576b"
            ],
            [
             0.6666666666666666,
             "#ed7953"
            ],
            [
             0.7777777777777778,
             "#fb9f3a"
            ],
            [
             0.8888888888888888,
             "#fdca26"
            ],
            [
             1,
             "#f0f921"
            ]
           ]
          },
          "colorway": [
           "#636efa",
           "#EF553B",
           "#00cc96",
           "#ab63fa",
           "#FFA15A",
           "#19d3f3",
           "#FF6692",
           "#B6E880",
           "#FF97FF",
           "#FECB52"
          ],
          "font": {
           "color": "#2a3f5f"
          },
          "geo": {
           "bgcolor": "white",
           "lakecolor": "white",
           "landcolor": "#E5ECF6",
           "showlakes": true,
           "showland": true,
           "subunitcolor": "white"
          },
          "hoverlabel": {
           "align": "left"
          },
          "hovermode": "closest",
          "mapbox": {
           "style": "light"
          },
          "paper_bgcolor": "white",
          "plot_bgcolor": "#E5ECF6",
          "polar": {
           "angularaxis": {
            "gridcolor": "white",
            "linecolor": "white",
            "ticks": ""
           },
           "bgcolor": "#E5ECF6",
           "radialaxis": {
            "gridcolor": "white",
            "linecolor": "white",
            "ticks": ""
           }
          },
          "scene": {
           "xaxis": {
            "backgroundcolor": "#E5ECF6",
            "gridcolor": "white",
            "gridwidth": 2,
            "linecolor": "white",
            "showbackground": true,
            "ticks": "",
            "zerolinecolor": "white"
           },
           "yaxis": {
            "backgroundcolor": "#E5ECF6",
            "gridcolor": "white",
            "gridwidth": 2,
            "linecolor": "white",
            "showbackground": true,
            "ticks": "",
            "zerolinecolor": "white"
           },
           "zaxis": {
            "backgroundcolor": "#E5ECF6",
            "gridcolor": "white",
            "gridwidth": 2,
            "linecolor": "white",
            "showbackground": true,
            "ticks": "",
            "zerolinecolor": "white"
           }
          },
          "shapedefaults": {
           "line": {
            "color": "#2a3f5f"
           }
          },
          "ternary": {
           "aaxis": {
            "gridcolor": "white",
            "linecolor": "white",
            "ticks": ""
           },
           "baxis": {
            "gridcolor": "white",
            "linecolor": "white",
            "ticks": ""
           },
           "bgcolor": "#E5ECF6",
           "caxis": {
            "gridcolor": "white",
            "linecolor": "white",
            "ticks": ""
           }
          },
          "title": {
           "x": 0.05
          },
          "xaxis": {
           "automargin": true,
           "gridcolor": "white",
           "linecolor": "white",
           "ticks": "",
           "title": {
            "standoff": 15
           },
           "zerolinecolor": "white",
           "zerolinewidth": 2
          },
          "yaxis": {
           "automargin": true,
           "gridcolor": "white",
           "linecolor": "white",
           "ticks": "",
           "title": {
            "standoff": 15
           },
           "zerolinecolor": "white",
           "zerolinewidth": 2
          }
         }
        },
        "title": {
         "text": "Number of High Revenue Businesses by State",
         "x": 0.5
        }
       }
      },
      "text/html": [
       "<div>                            <div id=\"7290e205-6297-42ee-9d99-2fd75f98a074\" class=\"plotly-graph-div\" style=\"height:525px; width:100%;\"></div>            <script type=\"text/javascript\">                require([\"plotly\"], function(Plotly) {                    window.PLOTLYENV=window.PLOTLYENV || {};                                    if (document.getElementById(\"7290e205-6297-42ee-9d99-2fd75f98a074\")) {                    Plotly.newPlot(                        \"7290e205-6297-42ee-9d99-2fd75f98a074\",                        [{\"colorbar\": {\"title\": {\"text\": \"Number of Businesses\"}}, \"colorscale\": [[0.0, \"rgb(247,251,255)\"], [0.125, \"rgb(222,235,247)\"], [0.25, \"rgb(198,219,239)\"], [0.375, \"rgb(158,202,225)\"], [0.5, \"rgb(107,174,214)\"], [0.625, \"rgb(66,146,198)\"], [0.75, \"rgb(33,113,181)\"], [0.875, \"rgb(8,81,156)\"], [1.0, \"rgb(8,48,107)\"]], \"locationmode\": \"USA-states\", \"locations\": [\"MS\", \"MO\", \"MT\", \"NE\", \"NV\", \"NH\", \"NJ\", \"NM\", \"NY\", \"NC\", \"ND\", \"OH\", \"OK\", \"OR\", \"PA\", \"RI\", \"SC\", \"SD\", \"TN\", \"TX\", \"VT\", \"UT\", \"VA\", \"WA\", \"WV\", \"WI\", \"WY\", \"AL\", \"AK\", \"AZ\", \"AR\", \"CA\", \"CO\", \"DE\", \"DC\", \"CT\", \"FL\", \"GA\", \"ID\", \"HI\", \"IL\", \"IN\", \"IA\", \"KS\", \"KY\", \"LA\", \"ME\", \"MD\", \"MA\", \"MI\", \"MN\"], \"type\": \"choropleth\", \"z\": [14398, 31953, 7305, 12288, 17125, 10537, 58912, 9520, 125080, 49825, 6361, 56134, 21671, 26006, 67533, 6735, 24349, 6110, 33697, 138637, 4521, 17660, 42165, 42889, 7700, 32199, 4748, 24269, 4969, 32315, 15099, 228549, 37715, 7308, 7837, 23456, 107197, 54033, 10774, 8052, 72659, 33959, 17648, 17316, 21231, 25577, 8386, 34269, 47542, 51274, 34629]}],                        {\"geo\": {\"bgcolor\": \"rgba(0,0,0,0)\", \"scope\": \"usa\"}, \"paper_bgcolor\": \"rgba(255,255,255,0.9)\", \"template\": {\"data\": {\"bar\": [{\"error_x\": {\"color\": \"#2a3f5f\"}, \"error_y\": {\"color\": \"#2a3f5f\"}, \"marker\": {\"line\": {\"color\": \"#E5ECF6\", \"width\": 0.5}}, \"type\": \"bar\"}], \"barpolar\": [{\"marker\": {\"line\": {\"color\": \"#E5ECF6\", \"width\": 0.5}}, \"type\": \"barpolar\"}], \"carpet\": [{\"aaxis\": {\"endlinecolor\": \"#2a3f5f\", \"gridcolor\": \"white\", \"linecolor\": \"white\", \"minorgridcolor\": \"white\", \"startlinecolor\": \"#2a3f5f\"}, \"baxis\": {\"endlinecolor\": \"#2a3f5f\", \"gridcolor\": \"white\", \"linecolor\": \"white\", \"minorgridcolor\": \"white\", \"startlinecolor\": \"#2a3f5f\"}, \"type\": \"carpet\"}], \"choropleth\": [{\"colorbar\": {\"outlinewidth\": 0, \"ticks\": \"\"}, \"type\": \"choropleth\"}], \"contour\": [{\"colorbar\": {\"outlinewidth\": 0, \"ticks\": \"\"}, \"colorscale\": [[0.0, \"#0d0887\"], [0.1111111111111111, \"#46039f\"], [0.2222222222222222, \"#7201a8\"], [0.3333333333333333, \"#9c179e\"], [0.4444444444444444, \"#bd3786\"], [0.5555555555555556, \"#d8576b\"], [0.6666666666666666, \"#ed7953\"], [0.7777777777777778, \"#fb9f3a\"], [0.8888888888888888, \"#fdca26\"], [1.0, \"#f0f921\"]], \"type\": \"contour\"}], \"contourcarpet\": [{\"colorbar\": {\"outlinewidth\": 0, \"ticks\": \"\"}, \"type\": \"contourcarpet\"}], \"heatmap\": [{\"colorbar\": {\"outlinewidth\": 0, \"ticks\": \"\"}, \"colorscale\": [[0.0, \"#0d0887\"], [0.1111111111111111, \"#46039f\"], [0.2222222222222222, \"#7201a8\"], [0.3333333333333333, \"#9c179e\"], [0.4444444444444444, \"#bd3786\"], [0.5555555555555556, \"#d8576b\"], [0.6666666666666666, \"#ed7953\"], [0.7777777777777778, \"#fb9f3a\"], [0.8888888888888888, \"#fdca26\"], [1.0, \"#f0f921\"]], \"type\": \"heatmap\"}], \"heatmapgl\": [{\"colorbar\": {\"outlinewidth\": 0, \"ticks\": \"\"}, \"colorscale\": [[0.0, \"#0d0887\"], [0.1111111111111111, \"#46039f\"], [0.2222222222222222, \"#7201a8\"], [0.3333333333333333, \"#9c179e\"], [0.4444444444444444, \"#bd3786\"], [0.5555555555555556, \"#d8576b\"], [0.6666666666666666, \"#ed7953\"], [0.7777777777777778, \"#fb9f3a\"], [0.8888888888888888, \"#fdca26\"], [1.0, \"#f0f921\"]], \"type\": \"heatmapgl\"}], \"histogram\": [{\"marker\": {\"colorbar\": {\"outlinewidth\": 0, \"ticks\": \"\"}}, \"type\": \"histogram\"}], \"histogram2d\": [{\"colorbar\": {\"outlinewidth\": 0, \"ticks\": \"\"}, \"colorscale\": [[0.0, \"#0d0887\"], [0.1111111111111111, \"#46039f\"], [0.2222222222222222, \"#7201a8\"], [0.3333333333333333, \"#9c179e\"], [0.4444444444444444, \"#bd3786\"], [0.5555555555555556, \"#d8576b\"], [0.6666666666666666, \"#ed7953\"], [0.7777777777777778, \"#fb9f3a\"], [0.8888888888888888, \"#fdca26\"], [1.0, \"#f0f921\"]], \"type\": \"histogram2d\"}], \"histogram2dcontour\": [{\"colorbar\": {\"outlinewidth\": 0, \"ticks\": \"\"}, \"colorscale\": [[0.0, \"#0d0887\"], [0.1111111111111111, \"#46039f\"], [0.2222222222222222, \"#7201a8\"], [0.3333333333333333, \"#9c179e\"], [0.4444444444444444, \"#bd3786\"], [0.5555555555555556, \"#d8576b\"], [0.6666666666666666, \"#ed7953\"], [0.7777777777777778, \"#fb9f3a\"], [0.8888888888888888, \"#fdca26\"], [1.0, \"#f0f921\"]], \"type\": \"histogram2dcontour\"}], \"mesh3d\": [{\"colorbar\": {\"outlinewidth\": 0, \"ticks\": \"\"}, \"type\": \"mesh3d\"}], \"parcoords\": [{\"line\": {\"colorbar\": {\"outlinewidth\": 0, \"ticks\": \"\"}}, \"type\": \"parcoords\"}], \"pie\": [{\"automargin\": true, \"type\": \"pie\"}], \"scatter\": [{\"marker\": {\"colorbar\": {\"outlinewidth\": 0, \"ticks\": \"\"}}, \"type\": \"scatter\"}], \"scatter3d\": [{\"line\": {\"colorbar\": {\"outlinewidth\": 0, \"ticks\": \"\"}}, \"marker\": {\"colorbar\": {\"outlinewidth\": 0, \"ticks\": \"\"}}, \"type\": \"scatter3d\"}], \"scattercarpet\": [{\"marker\": {\"colorbar\": {\"outlinewidth\": 0, \"ticks\": \"\"}}, \"type\": \"scattercarpet\"}], \"scattergeo\": [{\"marker\": {\"colorbar\": {\"outlinewidth\": 0, \"ticks\": \"\"}}, \"type\": \"scattergeo\"}], \"scattergl\": [{\"marker\": {\"colorbar\": {\"outlinewidth\": 0, \"ticks\": \"\"}}, \"type\": \"scattergl\"}], \"scattermapbox\": [{\"marker\": {\"colorbar\": {\"outlinewidth\": 0, \"ticks\": \"\"}}, \"type\": \"scattermapbox\"}], \"scatterpolar\": [{\"marker\": {\"colorbar\": {\"outlinewidth\": 0, \"ticks\": \"\"}}, \"type\": \"scatterpolar\"}], \"scatterpolargl\": [{\"marker\": {\"colorbar\": {\"outlinewidth\": 0, \"ticks\": \"\"}}, \"type\": \"scatterpolargl\"}], \"scatterternary\": [{\"marker\": {\"colorbar\": {\"outlinewidth\": 0, \"ticks\": \"\"}}, \"type\": \"scatterternary\"}], \"surface\": [{\"colorbar\": {\"outlinewidth\": 0, \"ticks\": \"\"}, \"colorscale\": [[0.0, \"#0d0887\"], [0.1111111111111111, \"#46039f\"], [0.2222222222222222, \"#7201a8\"], [0.3333333333333333, \"#9c179e\"], [0.4444444444444444, \"#bd3786\"], [0.5555555555555556, \"#d8576b\"], [0.6666666666666666, \"#ed7953\"], [0.7777777777777778, \"#fb9f3a\"], [0.8888888888888888, \"#fdca26\"], [1.0, \"#f0f921\"]], \"type\": \"surface\"}], \"table\": [{\"cells\": {\"fill\": {\"color\": \"#EBF0F8\"}, \"line\": {\"color\": \"white\"}}, \"header\": {\"fill\": {\"color\": \"#C8D4E3\"}, \"line\": {\"color\": \"white\"}}, \"type\": \"table\"}]}, \"layout\": {\"annotationdefaults\": {\"arrowcolor\": \"#2a3f5f\", \"arrowhead\": 0, \"arrowwidth\": 1}, \"coloraxis\": {\"colorbar\": {\"outlinewidth\": 0, \"ticks\": \"\"}}, \"colorscale\": {\"diverging\": [[0, \"#8e0152\"], [0.1, \"#c51b7d\"], [0.2, \"#de77ae\"], [0.3, \"#f1b6da\"], [0.4, \"#fde0ef\"], [0.5, \"#f7f7f7\"], [0.6, \"#e6f5d0\"], [0.7, \"#b8e186\"], [0.8, \"#7fbc41\"], [0.9, \"#4d9221\"], [1, \"#276419\"]], \"sequential\": [[0.0, \"#0d0887\"], [0.1111111111111111, \"#46039f\"], [0.2222222222222222, \"#7201a8\"], [0.3333333333333333, \"#9c179e\"], [0.4444444444444444, \"#bd3786\"], [0.5555555555555556, \"#d8576b\"], [0.6666666666666666, \"#ed7953\"], [0.7777777777777778, \"#fb9f3a\"], [0.8888888888888888, \"#fdca26\"], [1.0, \"#f0f921\"]], \"sequentialminus\": [[0.0, \"#0d0887\"], [0.1111111111111111, \"#46039f\"], [0.2222222222222222, \"#7201a8\"], [0.3333333333333333, \"#9c179e\"], [0.4444444444444444, \"#bd3786\"], [0.5555555555555556, \"#d8576b\"], [0.6666666666666666, \"#ed7953\"], [0.7777777777777778, \"#fb9f3a\"], [0.8888888888888888, \"#fdca26\"], [1.0, \"#f0f921\"]]}, \"colorway\": [\"#636efa\", \"#EF553B\", \"#00cc96\", \"#ab63fa\", \"#FFA15A\", \"#19d3f3\", \"#FF6692\", \"#B6E880\", \"#FF97FF\", \"#FECB52\"], \"font\": {\"color\": \"#2a3f5f\"}, \"geo\": {\"bgcolor\": \"white\", \"lakecolor\": \"white\", \"landcolor\": \"#E5ECF6\", \"showlakes\": true, \"showland\": true, \"subunitcolor\": \"white\"}, \"hoverlabel\": {\"align\": \"left\"}, \"hovermode\": \"closest\", \"mapbox\": {\"style\": \"light\"}, \"paper_bgcolor\": \"white\", \"plot_bgcolor\": \"#E5ECF6\", \"polar\": {\"angularaxis\": {\"gridcolor\": \"white\", \"linecolor\": \"white\", \"ticks\": \"\"}, \"bgcolor\": \"#E5ECF6\", \"radialaxis\": {\"gridcolor\": \"white\", \"linecolor\": \"white\", \"ticks\": \"\"}}, \"scene\": {\"xaxis\": {\"backgroundcolor\": \"#E5ECF6\", \"gridcolor\": \"white\", \"gridwidth\": 2, \"linecolor\": \"white\", \"showbackground\": true, \"ticks\": \"\", \"zerolinecolor\": \"white\"}, \"yaxis\": {\"backgroundcolor\": \"#E5ECF6\", \"gridcolor\": \"white\", \"gridwidth\": 2, \"linecolor\": \"white\", \"showbackground\": true, \"ticks\": \"\", \"zerolinecolor\": \"white\"}, \"zaxis\": {\"backgroundcolor\": \"#E5ECF6\", \"gridcolor\": \"white\", \"gridwidth\": 2, \"linecolor\": \"white\", \"showbackground\": true, \"ticks\": \"\", \"zerolinecolor\": \"white\"}}, \"shapedefaults\": {\"line\": {\"color\": \"#2a3f5f\"}}, \"ternary\": {\"aaxis\": {\"gridcolor\": \"white\", \"linecolor\": \"white\", \"ticks\": \"\"}, \"baxis\": {\"gridcolor\": \"white\", \"linecolor\": \"white\", \"ticks\": \"\"}, \"bgcolor\": \"#E5ECF6\", \"caxis\": {\"gridcolor\": \"white\", \"linecolor\": \"white\", \"ticks\": \"\"}}, \"title\": {\"x\": 0.05}, \"xaxis\": {\"automargin\": true, \"gridcolor\": \"white\", \"linecolor\": \"white\", \"ticks\": \"\", \"title\": {\"standoff\": 15}, \"zerolinecolor\": \"white\", \"zerolinewidth\": 2}, \"yaxis\": {\"automargin\": true, \"gridcolor\": \"white\", \"linecolor\": \"white\", \"ticks\": \"\", \"title\": {\"standoff\": 15}, \"zerolinecolor\": \"white\", \"zerolinewidth\": 2}}}, \"title\": {\"text\": \"Number of High Revenue Businesses by State\", \"x\": 0.5}},                        {\"responsive\": true}                    ).then(function(){\n",
       "                            \n",
       "var gd = document.getElementById('7290e205-6297-42ee-9d99-2fd75f98a074');\n",
       "var x = new MutationObserver(function (mutations, observer) {{\n",
       "        var display = window.getComputedStyle(gd).display;\n",
       "        if (!display || display === 'none') {{\n",
       "            console.log([gd, 'removed!']);\n",
       "            Plotly.purge(gd);\n",
       "            observer.disconnect();\n",
       "        }}\n",
       "}});\n",
       "\n",
       "// Listen for the removal of the full notebook cells\n",
       "var notebookContainer = gd.closest('#notebook-container');\n",
       "if (notebookContainer) {{\n",
       "    x.observe(notebookContainer, {childList: true});\n",
       "}}\n",
       "\n",
       "// Listen for the clearing of the current output cell\n",
       "var outputEl = gd.closest('.output');\n",
       "if (outputEl) {{\n",
       "    x.observe(outputEl, {childList: true});\n",
       "}}\n",
       "\n",
       "                        })                };                });            </script>        </div>"
      ]
     },
     "metadata": {},
     "output_type": "display_data"
    }
   ],
   "source": [
    "fig = go.Figure(data = go.Choropleth(locations = cs_hib['state_code'], locationmode = 'USA-states',\n",
    "                                     z = cs_hib['FIRMPDEMP'],\n",
    "                                     colorscale = 'blues',\n",
    "                                     colorbar_title = 'Number of Businesses'),\n",
    "               layout = go.Layout(geo = dict(bgcolor = 'rgba(0,0,0,0)'),\n",
    "                                  paper_bgcolor = 'rgba(255,255,255,0.9)'))\n",
    "fig.update_layout(title_text = 'Number of High Revenue Businesses by State',\n",
    "                  title_x = 0.5,\n",
    "                  geo_scope = 'usa')\n",
    "\n",
    "fig.show()"
   ]
  },
  {
   "cell_type": "code",
   "execution_count": 18,
   "id": "d1c923a5",
   "metadata": {},
   "outputs": [
    {
     "data": {
      "text/html": [
       "<div>\n",
       "<style scoped>\n",
       "    .dataframe tbody tr th:only-of-type {\n",
       "        vertical-align: middle;\n",
       "    }\n",
       "\n",
       "    .dataframe tbody tr th {\n",
       "        vertical-align: top;\n",
       "    }\n",
       "\n",
       "    .dataframe thead th {\n",
       "        text-align: right;\n",
       "    }\n",
       "</style>\n",
       "<table border=\"1\" class=\"dataframe\">\n",
       "  <thead>\n",
       "    <tr style=\"text-align: right;\">\n",
       "      <th></th>\n",
       "      <th>FIRMPDEMP</th>\n",
       "      <th>EMP</th>\n",
       "    </tr>\n",
       "    <tr>\n",
       "      <th>YIBSZFI</th>\n",
       "      <th></th>\n",
       "      <th></th>\n",
       "    </tr>\n",
       "  </thead>\n",
       "  <tbody>\n",
       "    <tr>\n",
       "      <th>001</th>\n",
       "      <td>5917384</td>\n",
       "      <td>128196406</td>\n",
       "    </tr>\n",
       "    <tr>\n",
       "      <th>311</th>\n",
       "      <td>824007</td>\n",
       "      <td>3542062</td>\n",
       "    </tr>\n",
       "    <tr>\n",
       "      <th>318</th>\n",
       "      <td>698324</td>\n",
       "      <td>4939419</td>\n",
       "    </tr>\n",
       "    <tr>\n",
       "      <th>319</th>\n",
       "      <td>523253</td>\n",
       "      <td>4391911</td>\n",
       "    </tr>\n",
       "    <tr>\n",
       "      <th>321</th>\n",
       "      <td>915409</td>\n",
       "      <td>9208077</td>\n",
       "    </tr>\n",
       "    <tr>\n",
       "      <th>322</th>\n",
       "      <td>816297</td>\n",
       "      <td>9038554</td>\n",
       "    </tr>\n",
       "    <tr>\n",
       "      <th>323</th>\n",
       "      <td>2046594</td>\n",
       "      <td>96251717</td>\n",
       "    </tr>\n",
       "  </tbody>\n",
       "</table>\n",
       "</div>"
      ],
      "text/plain": [
       "         FIRMPDEMP        EMP\n",
       "YIBSZFI                      \n",
       "001        5917384  128196406\n",
       "311         824007    3542062\n",
       "318         698324    4939419\n",
       "319         523253    4391911\n",
       "321         915409    9208077\n",
       "322         816297    9038554\n",
       "323        2046594   96251717"
      ]
     },
     "execution_count": 18,
     "metadata": {},
     "output_type": "execute_result"
    }
   ],
   "source": [
    "cs_ae = cs_servtotal[cs_servtotal['RCPSZFI'] == '001'].groupby(['YIBSZFI']).sum()\n",
    "cs_ae.drop('PAYANN', axis = 1, inplace = True)\n",
    "cs_ae"
   ]
  },
  {
   "cell_type": "code",
   "execution_count": 20,
   "id": "78d7c01e",
   "metadata": {},
   "outputs": [
    {
     "data": {
      "text/html": [
       "<div>\n",
       "<style scoped>\n",
       "    .dataframe tbody tr th:only-of-type {\n",
       "        vertical-align: middle;\n",
       "    }\n",
       "\n",
       "    .dataframe tbody tr th {\n",
       "        vertical-align: top;\n",
       "    }\n",
       "\n",
       "    .dataframe thead th {\n",
       "        text-align: right;\n",
       "    }\n",
       "</style>\n",
       "<table border=\"1\" class=\"dataframe\">\n",
       "  <thead>\n",
       "    <tr style=\"text-align: right;\">\n",
       "      <th></th>\n",
       "      <th>FIRMPDEMP</th>\n",
       "      <th>EMP</th>\n",
       "      <th>EMP / FIRMPDEMP</th>\n",
       "    </tr>\n",
       "    <tr>\n",
       "      <th>YIBSZFI</th>\n",
       "      <th></th>\n",
       "      <th></th>\n",
       "      <th></th>\n",
       "    </tr>\n",
       "  </thead>\n",
       "  <tbody>\n",
       "    <tr>\n",
       "      <th>001</th>\n",
       "      <td>5917384</td>\n",
       "      <td>128196406</td>\n",
       "      <td>21.664372</td>\n",
       "    </tr>\n",
       "    <tr>\n",
       "      <th>311</th>\n",
       "      <td>824007</td>\n",
       "      <td>3542062</td>\n",
       "      <td>4.298582</td>\n",
       "    </tr>\n",
       "    <tr>\n",
       "      <th>318</th>\n",
       "      <td>698324</td>\n",
       "      <td>4939419</td>\n",
       "      <td>7.073248</td>\n",
       "    </tr>\n",
       "    <tr>\n",
       "      <th>319</th>\n",
       "      <td>523253</td>\n",
       "      <td>4391911</td>\n",
       "      <td>8.393475</td>\n",
       "    </tr>\n",
       "    <tr>\n",
       "      <th>321</th>\n",
       "      <td>915409</td>\n",
       "      <td>9208077</td>\n",
       "      <td>10.058976</td>\n",
       "    </tr>\n",
       "    <tr>\n",
       "      <th>322</th>\n",
       "      <td>816297</td>\n",
       "      <td>9038554</td>\n",
       "      <td>11.072629</td>\n",
       "    </tr>\n",
       "    <tr>\n",
       "      <th>323</th>\n",
       "      <td>2046594</td>\n",
       "      <td>96251717</td>\n",
       "      <td>47.030196</td>\n",
       "    </tr>\n",
       "  </tbody>\n",
       "</table>\n",
       "</div>"
      ],
      "text/plain": [
       "         FIRMPDEMP        EMP  EMP / FIRMPDEMP\n",
       "YIBSZFI                                       \n",
       "001        5917384  128196406        21.664372\n",
       "311         824007    3542062         4.298582\n",
       "318         698324    4939419         7.073248\n",
       "319         523253    4391911         8.393475\n",
       "321         915409    9208077        10.058976\n",
       "322         816297    9038554        11.072629\n",
       "323        2046594   96251717        47.030196"
      ]
     },
     "execution_count": 20,
     "metadata": {},
     "output_type": "execute_result"
    }
   ],
   "source": [
    "cs_ae['EMP / FIRMPDEMP'] = cs_ae['EMP'] / cs_ae['FIRMPDEMP']\n",
    "cs_ae"
   ]
  },
  {
   "cell_type": "code",
   "execution_count": 16,
   "id": "12a2e6bd",
   "metadata": {},
   "outputs": [
    {
     "data": {
      "image/png": "[encoded data removed]",
      "text/plain": [
       "<Figure size 432x288 with 1 Axes>"
      ]
     },
     "metadata": {},
     "output_type": "display_data"
    }
   ],
   "source": [
    "fig = plt.figure()\n",
    "fig.patch.set_facecolor('white')\n",
    "fig.patch.set_alpha(0.9)\n",
    "\n",
    "plt.bar(cs_ae.index, cs_ae['EMP / FIRMPDEMP'])\n",
    "plt.xlabel('Y\\u200Aears in Business')\n",
    "plt.ylabel('Average Employees per Firm')\n",
    "plt.title('Average Number Of Employees by Company Age')\n",
    "plt.xticks([0, 1, 2, 3, 4, 5, 6], ['All', '< 2', '2 - 3', '4 - 5', '6 - 10', '11 - 15', '16 +'])\n",
    "\n",
    "plt.show()"
   ]
  },
  {
   "cell_type": "code",
   "execution_count": 12,
   "id": "16680954",
   "metadata": {
    "scrolled": true
   },
   "outputs": [
    {
     "name": "stderr",
     "output_type": "stream",
     "text": [
      "C:\\Users\\agang_drcif5q\\miniconda3\\lib\\site-packages\\pandas\\core\\frame.py:4906: SettingWithCopyWarning:\n",
      "\n",
      "\n",
      "A value is trying to be set on a copy of a slice from a DataFrame\n",
      "\n",
      "See the caveats in the documentation: https://pandas.pydata.org/pandas-docs/stable/user_guide/indexing.html#returning-a-view-versus-a-copy\n",
      "\n"
     ]
    },
    {
     "data": {
      "text/html": [
       "<div>\n",
       "<style scoped>\n",
       "    .dataframe tbody tr th:only-of-type {\n",
       "        vertical-align: middle;\n",
       "    }\n",
       "\n",
       "    .dataframe tbody tr th {\n",
       "        vertical-align: top;\n",
       "    }\n",
       "\n",
       "    .dataframe thead th {\n",
       "        text-align: right;\n",
       "    }\n",
       "</style>\n",
       "<table border=\"1\" class=\"dataframe\">\n",
       "  <thead>\n",
       "    <tr style=\"text-align: right;\">\n",
       "      <th></th>\n",
       "      <th>NAME</th>\n",
       "      <th>FIRMPDEMP</th>\n",
       "      <th>EMP</th>\n",
       "      <th>PAYANN</th>\n",
       "      <th>NAICS2017</th>\n",
       "      <th>state</th>\n",
       "      <th>state_code</th>\n",
       "    </tr>\n",
       "  </thead>\n",
       "  <tbody>\n",
       "    <tr>\n",
       "      <th>1248</th>\n",
       "      <td>Mississippi</td>\n",
       "      <td>40856</td>\n",
       "      <td>920447</td>\n",
       "      <td>34137231</td>\n",
       "      <td>00</td>\n",
       "      <td>28</td>\n",
       "      <td>MS</td>\n",
       "    </tr>\n",
       "    <tr>\n",
       "      <th>2196</th>\n",
       "      <td>Missouri</td>\n",
       "      <td>106753</td>\n",
       "      <td>2464500</td>\n",
       "      <td>116172182</td>\n",
       "      <td>00</td>\n",
       "      <td>29</td>\n",
       "      <td>MO</td>\n",
       "    </tr>\n",
       "    <tr>\n",
       "      <th>3050</th>\n",
       "      <td>Montana</td>\n",
       "      <td>31661</td>\n",
       "      <td>361600</td>\n",
       "      <td>14060286</td>\n",
       "      <td>00</td>\n",
       "      <td>30</td>\n",
       "      <td>MT</td>\n",
       "    </tr>\n",
       "    <tr>\n",
       "      <th>4127</th>\n",
       "      <td>Nebraska</td>\n",
       "      <td>43189</td>\n",
       "      <td>855009</td>\n",
       "      <td>38441262</td>\n",
       "      <td>00</td>\n",
       "      <td>31</td>\n",
       "      <td>NE</td>\n",
       "    </tr>\n",
       "    <tr>\n",
       "      <th>6667</th>\n",
       "      <td>Nevada</td>\n",
       "      <td>51758</td>\n",
       "      <td>1240230</td>\n",
       "      <td>55634075</td>\n",
       "      <td>00</td>\n",
       "      <td>32</td>\n",
       "      <td>NV</td>\n",
       "    </tr>\n",
       "    <tr>\n",
       "      <th>7742</th>\n",
       "      <td>New Hampshire</td>\n",
       "      <td>28969</td>\n",
       "      <td>584769</td>\n",
       "      <td>30156054</td>\n",
       "      <td>00</td>\n",
       "      <td>33</td>\n",
       "      <td>NH</td>\n",
       "    </tr>\n",
       "    <tr>\n",
       "      <th>9021</th>\n",
       "      <td>New Jersey</td>\n",
       "      <td>187243</td>\n",
       "      <td>3736734</td>\n",
       "      <td>229676168</td>\n",
       "      <td>00</td>\n",
       "      <td>34</td>\n",
       "      <td>NJ</td>\n",
       "    </tr>\n",
       "    <tr>\n",
       "      <th>9680</th>\n",
       "      <td>New Mexico</td>\n",
       "      <td>32197</td>\n",
       "      <td>584145</td>\n",
       "      <td>24658546</td>\n",
       "      <td>00</td>\n",
       "      <td>35</td>\n",
       "      <td>NM</td>\n",
       "    </tr>\n",
       "    <tr>\n",
       "      <th>11854</th>\n",
       "      <td>New York</td>\n",
       "      <td>446155</td>\n",
       "      <td>8073389</td>\n",
       "      <td>546738617</td>\n",
       "      <td>00</td>\n",
       "      <td>36</td>\n",
       "      <td>NY</td>\n",
       "    </tr>\n",
       "    <tr>\n",
       "      <th>13052</th>\n",
       "      <td>North Carolina</td>\n",
       "      <td>167837</td>\n",
       "      <td>3679286</td>\n",
       "      <td>176807199</td>\n",
       "      <td>00</td>\n",
       "      <td>37</td>\n",
       "      <td>NC</td>\n",
       "    </tr>\n",
       "    <tr>\n",
       "      <th>15032</th>\n",
       "      <td>North Dakota</td>\n",
       "      <td>19844</td>\n",
       "      <td>333115</td>\n",
       "      <td>17183698</td>\n",
       "      <td>00</td>\n",
       "      <td>38</td>\n",
       "      <td>ND</td>\n",
       "    </tr>\n",
       "    <tr>\n",
       "      <th>15472</th>\n",
       "      <td>Ohio</td>\n",
       "      <td>170951</td>\n",
       "      <td>4817903</td>\n",
       "      <td>235298311</td>\n",
       "      <td>00</td>\n",
       "      <td>39</td>\n",
       "      <td>OH</td>\n",
       "    </tr>\n",
       "    <tr>\n",
       "      <th>17270</th>\n",
       "      <td>Oklahoma</td>\n",
       "      <td>68623</td>\n",
       "      <td>1344715</td>\n",
       "      <td>59763886</td>\n",
       "      <td>00</td>\n",
       "      <td>40</td>\n",
       "      <td>OK</td>\n",
       "    </tr>\n",
       "    <tr>\n",
       "      <th>18434</th>\n",
       "      <td>Oregon</td>\n",
       "      <td>91493</td>\n",
       "      <td>1617123</td>\n",
       "      <td>80842532</td>\n",
       "      <td>00</td>\n",
       "      <td>41</td>\n",
       "      <td>OR</td>\n",
       "    </tr>\n",
       "    <tr>\n",
       "      <th>20959</th>\n",
       "      <td>Pennsylvania</td>\n",
       "      <td>214291</td>\n",
       "      <td>5556497</td>\n",
       "      <td>279958625</td>\n",
       "      <td>00</td>\n",
       "      <td>42</td>\n",
       "      <td>PA</td>\n",
       "    </tr>\n",
       "    <tr>\n",
       "      <th>22526</th>\n",
       "      <td>Rhode Island</td>\n",
       "      <td>22900</td>\n",
       "      <td>445167</td>\n",
       "      <td>23624401</td>\n",
       "      <td>00</td>\n",
       "      <td>44</td>\n",
       "      <td>RI</td>\n",
       "    </tr>\n",
       "    <tr>\n",
       "      <th>23034</th>\n",
       "      <td>South Carolina</td>\n",
       "      <td>78512</td>\n",
       "      <td>1825775</td>\n",
       "      <td>75694478</td>\n",
       "      <td>00</td>\n",
       "      <td>45</td>\n",
       "      <td>SC</td>\n",
       "    </tr>\n",
       "    <tr>\n",
       "      <th>25008</th>\n",
       "      <td>South Dakota</td>\n",
       "      <td>21641</td>\n",
       "      <td>317810</td>\n",
       "      <td>13331371</td>\n",
       "      <td>00</td>\n",
       "      <td>46</td>\n",
       "      <td>SD</td>\n",
       "    </tr>\n",
       "    <tr>\n",
       "      <th>25498</th>\n",
       "      <td>Tennessee</td>\n",
       "      <td>91799</td>\n",
       "      <td>2635392</td>\n",
       "      <td>124839833</td>\n",
       "      <td>00</td>\n",
       "      <td>47</td>\n",
       "      <td>TN</td>\n",
       "    </tr>\n",
       "    <tr>\n",
       "      <th>26817</th>\n",
       "      <td>Texas</td>\n",
       "      <td>425425</td>\n",
       "      <td>10562214</td>\n",
       "      <td>576612381</td>\n",
       "      <td>00</td>\n",
       "      <td>48</td>\n",
       "      <td>TX</td>\n",
       "    </tr>\n",
       "    <tr>\n",
       "      <th>29134</th>\n",
       "      <td>Vermont</td>\n",
       "      <td>16471</td>\n",
       "      <td>241404</td>\n",
       "      <td>10391634</td>\n",
       "      <td>00</td>\n",
       "      <td>50</td>\n",
       "      <td>VT</td>\n",
       "    </tr>\n",
       "    <tr>\n",
       "      <th>29788</th>\n",
       "      <td>Utah</td>\n",
       "      <td>66525</td>\n",
       "      <td>1273415</td>\n",
       "      <td>58271743</td>\n",
       "      <td>00</td>\n",
       "      <td>49</td>\n",
       "      <td>UT</td>\n",
       "    </tr>\n",
       "    <tr>\n",
       "      <th>31901</th>\n",
       "      <td>Virginia</td>\n",
       "      <td>143980</td>\n",
       "      <td>3293668</td>\n",
       "      <td>184731636</td>\n",
       "      <td>00</td>\n",
       "      <td>51</td>\n",
       "      <td>VA</td>\n",
       "    </tr>\n",
       "    <tr>\n",
       "      <th>33367</th>\n",
       "      <td>Washington</td>\n",
       "      <td>148872</td>\n",
       "      <td>2752850</td>\n",
       "      <td>173854547</td>\n",
       "      <td>00</td>\n",
       "      <td>53</td>\n",
       "      <td>WA</td>\n",
       "    </tr>\n",
       "    <tr>\n",
       "      <th>34437</th>\n",
       "      <td>West Virginia</td>\n",
       "      <td>23369</td>\n",
       "      <td>529733</td>\n",
       "      <td>21776423</td>\n",
       "      <td>00</td>\n",
       "      <td>54</td>\n",
       "      <td>WV</td>\n",
       "    </tr>\n",
       "    <tr>\n",
       "      <th>36169</th>\n",
       "      <td>Wisconsin</td>\n",
       "      <td>103744</td>\n",
       "      <td>2595886</td>\n",
       "      <td>129965242</td>\n",
       "      <td>00</td>\n",
       "      <td>55</td>\n",
       "      <td>WI</td>\n",
       "    </tr>\n",
       "    <tr>\n",
       "      <th>37737</th>\n",
       "      <td>Wyoming</td>\n",
       "      <td>17113</td>\n",
       "      <td>210845</td>\n",
       "      <td>9624017</td>\n",
       "      <td>00</td>\n",
       "      <td>56</td>\n",
       "      <td>WY</td>\n",
       "    </tr>\n",
       "    <tr>\n",
       "      <th>37967</th>\n",
       "      <td>Alabama</td>\n",
       "      <td>67504</td>\n",
       "      <td>1630135</td>\n",
       "      <td>73502277</td>\n",
       "      <td>00</td>\n",
       "      <td>01</td>\n",
       "      <td>AL</td>\n",
       "    </tr>\n",
       "    <tr>\n",
       "      <th>39370</th>\n",
       "      <td>Alaska</td>\n",
       "      <td>15698</td>\n",
       "      <td>258119</td>\n",
       "      <td>15344471</td>\n",
       "      <td>00</td>\n",
       "      <td>02</td>\n",
       "      <td>AK</td>\n",
       "    </tr>\n",
       "    <tr>\n",
       "      <th>41233</th>\n",
       "      <td>Arizona</td>\n",
       "      <td>107152</td>\n",
       "      <td>2525257</td>\n",
       "      <td>120495466</td>\n",
       "      <td>00</td>\n",
       "      <td>04</td>\n",
       "      <td>AZ</td>\n",
       "    </tr>\n",
       "    <tr>\n",
       "      <th>42325</th>\n",
       "      <td>Arkansas</td>\n",
       "      <td>47250</td>\n",
       "      <td>1011278</td>\n",
       "      <td>42192293</td>\n",
       "      <td>00</td>\n",
       "      <td>05</td>\n",
       "      <td>AR</td>\n",
       "    </tr>\n",
       "    <tr>\n",
       "      <th>43637</th>\n",
       "      <td>California</td>\n",
       "      <td>738370</td>\n",
       "      <td>14991308</td>\n",
       "      <td>987704916</td>\n",
       "      <td>00</td>\n",
       "      <td>06</td>\n",
       "      <td>CA</td>\n",
       "    </tr>\n",
       "    <tr>\n",
       "      <th>45767</th>\n",
       "      <td>Colorado</td>\n",
       "      <td>137165</td>\n",
       "      <td>2434968</td>\n",
       "      <td>134369487</td>\n",
       "      <td>00</td>\n",
       "      <td>08</td>\n",
       "      <td>CO</td>\n",
       "    </tr>\n",
       "    <tr>\n",
       "      <th>48280</th>\n",
       "      <td>Delaware</td>\n",
       "      <td>19663</td>\n",
       "      <td>406179</td>\n",
       "      <td>23826058</td>\n",
       "      <td>00</td>\n",
       "      <td>10</td>\n",
       "      <td>DE</td>\n",
       "    </tr>\n",
       "    <tr>\n",
       "      <th>48575</th>\n",
       "      <td>District of Columbia</td>\n",
       "      <td>15418</td>\n",
       "      <td>455652</td>\n",
       "      <td>37728542</td>\n",
       "      <td>00</td>\n",
       "      <td>11</td>\n",
       "      <td>DC</td>\n",
       "    </tr>\n",
       "    <tr>\n",
       "      <th>50842</th>\n",
       "      <td>Connecticut</td>\n",
       "      <td>66783</td>\n",
       "      <td>1476827</td>\n",
       "      <td>98448097</td>\n",
       "      <td>00</td>\n",
       "      <td>09</td>\n",
       "      <td>CT</td>\n",
       "    </tr>\n",
       "    <tr>\n",
       "      <th>51222</th>\n",
       "      <td>Florida</td>\n",
       "      <td>447363</td>\n",
       "      <td>8441008</td>\n",
       "      <td>388187677</td>\n",
       "      <td>00</td>\n",
       "      <td>12</td>\n",
       "      <td>FL</td>\n",
       "    </tr>\n",
       "    <tr>\n",
       "      <th>52910</th>\n",
       "      <td>Georgia</td>\n",
       "      <td>174985</td>\n",
       "      <td>3805183</td>\n",
       "      <td>196353564</td>\n",
       "      <td>00</td>\n",
       "      <td>13</td>\n",
       "      <td>GA</td>\n",
       "    </tr>\n",
       "    <tr>\n",
       "      <th>54894</th>\n",
       "      <td>Idaho</td>\n",
       "      <td>39080</td>\n",
       "      <td>598348</td>\n",
       "      <td>23195317</td>\n",
       "      <td>00</td>\n",
       "      <td>16</td>\n",
       "      <td>ID</td>\n",
       "    </tr>\n",
       "    <tr>\n",
       "      <th>55780</th>\n",
       "      <td>Hawaii</td>\n",
       "      <td>23687</td>\n",
       "      <td>505452</td>\n",
       "      <td>23429423</td>\n",
       "      <td>00</td>\n",
       "      <td>15</td>\n",
       "      <td>HI</td>\n",
       "    </tr>\n",
       "    <tr>\n",
       "      <th>57185</th>\n",
       "      <td>Illinois</td>\n",
       "      <td>245445</td>\n",
       "      <td>5474518</td>\n",
       "      <td>321222632</td>\n",
       "      <td>00</td>\n",
       "      <td>17</td>\n",
       "      <td>IL</td>\n",
       "    </tr>\n",
       "    <tr>\n",
       "      <th>58794</th>\n",
       "      <td>Indiana</td>\n",
       "      <td>102882</td>\n",
       "      <td>2747840</td>\n",
       "      <td>126645780</td>\n",
       "      <td>00</td>\n",
       "      <td>18</td>\n",
       "      <td>IN</td>\n",
       "    </tr>\n",
       "    <tr>\n",
       "      <th>60800</th>\n",
       "      <td>Iowa</td>\n",
       "      <td>60610</td>\n",
       "      <td>1341265</td>\n",
       "      <td>61255559</td>\n",
       "      <td>00</td>\n",
       "      <td>19</td>\n",
       "      <td>IA</td>\n",
       "    </tr>\n",
       "    <tr>\n",
       "      <th>61740</th>\n",
       "      <td>Kansas</td>\n",
       "      <td>54984</td>\n",
       "      <td>1260598</td>\n",
       "      <td>54906128</td>\n",
       "      <td>00</td>\n",
       "      <td>20</td>\n",
       "      <td>KS</td>\n",
       "    </tr>\n",
       "    <tr>\n",
       "      <th>62986</th>\n",
       "      <td>Kentucky</td>\n",
       "      <td>63236</td>\n",
       "      <td>1609352</td>\n",
       "      <td>70349726</td>\n",
       "      <td>00</td>\n",
       "      <td>21</td>\n",
       "      <td>KY</td>\n",
       "    </tr>\n",
       "    <tr>\n",
       "      <th>64678</th>\n",
       "      <td>Louisiana</td>\n",
       "      <td>76877</td>\n",
       "      <td>1671852</td>\n",
       "      <td>77549488</td>\n",
       "      <td>00</td>\n",
       "      <td>22</td>\n",
       "      <td>LA</td>\n",
       "    </tr>\n",
       "    <tr>\n",
       "      <th>65722</th>\n",
       "      <td>Maine</td>\n",
       "      <td>32044</td>\n",
       "      <td>498963</td>\n",
       "      <td>21418377</td>\n",
       "      <td>00</td>\n",
       "      <td>23</td>\n",
       "      <td>ME</td>\n",
       "    </tr>\n",
       "    <tr>\n",
       "      <th>67313</th>\n",
       "      <td>Maryland</td>\n",
       "      <td>104197</td>\n",
       "      <td>2276097</td>\n",
       "      <td>127674716</td>\n",
       "      <td>00</td>\n",
       "      <td>24</td>\n",
       "      <td>MD</td>\n",
       "    </tr>\n",
       "    <tr>\n",
       "      <th>68671</th>\n",
       "      <td>Massachusetts</td>\n",
       "      <td>137196</td>\n",
       "      <td>3311909</td>\n",
       "      <td>227796997</td>\n",
       "      <td>00</td>\n",
       "      <td>25</td>\n",
       "      <td>MA</td>\n",
       "    </tr>\n",
       "    <tr>\n",
       "      <th>70492</th>\n",
       "      <td>Michigan</td>\n",
       "      <td>163850</td>\n",
       "      <td>3937663</td>\n",
       "      <td>194684377</td>\n",
       "      <td>00</td>\n",
       "      <td>26</td>\n",
       "      <td>MI</td>\n",
       "    </tr>\n",
       "    <tr>\n",
       "      <th>72202</th>\n",
       "      <td>Minnesota</td>\n",
       "      <td>113774</td>\n",
       "      <td>2673014</td>\n",
       "      <td>146712564</td>\n",
       "      <td>00</td>\n",
       "      <td>27</td>\n",
       "      <td>MN</td>\n",
       "    </tr>\n",
       "  </tbody>\n",
       "</table>\n",
       "</div>"
      ],
      "text/plain": [
       "                       NAME  FIRMPDEMP       EMP     PAYANN NAICS2017 state  \\\n",
       "1248            Mississippi      40856    920447   34137231        00    28   \n",
       "2196               Missouri     106753   2464500  116172182        00    29   \n",
       "3050                Montana      31661    361600   14060286        00    30   \n",
       "4127               Nebraska      43189    855009   38441262        00    31   \n",
       "6667                 Nevada      51758   1240230   55634075        00    32   \n",
       "7742          New Hampshire      28969    584769   30156054        00    33   \n",
       "9021             New Jersey     187243   3736734  229676168        00    34   \n",
       "9680             New Mexico      32197    584145   24658546        00    35   \n",
       "11854              New York     446155   8073389  546738617        00    36   \n",
       "13052        North Carolina     167837   3679286  176807199        00    37   \n",
       "15032          North Dakota      19844    333115   17183698        00    38   \n",
       "15472                  Ohio     170951   4817903  235298311        00    39   \n",
       "17270              Oklahoma      68623   1344715   59763886        00    40   \n",
       "18434                Oregon      91493   1617123   80842532        00    41   \n",
       "20959          Pennsylvania     214291   5556497  279958625        00    42   \n",
       "22526          Rhode Island      22900    445167   23624401        00    44   \n",
       "23034        South Carolina      78512   1825775   75694478        00    45   \n",
       "25008          South Dakota      21641    317810   13331371        00    46   \n",
       "25498             Tennessee      91799   2635392  124839833        00    47   \n",
       "26817                 Texas     425425  10562214  576612381        00    48   \n",
       "29134               Vermont      16471    241404   10391634        00    50   \n",
       "29788                  Utah      66525   1273415   58271743        00    49   \n",
       "31901              Virginia     143980   3293668  184731636        00    51   \n",
       "33367            Washington     148872   2752850  173854547        00    53   \n",
       "34437         West Virginia      23369    529733   21776423        00    54   \n",
       "36169             Wisconsin     103744   2595886  129965242        00    55   \n",
       "37737               Wyoming      17113    210845    9624017        00    56   \n",
       "37967               Alabama      67504   1630135   73502277        00    01   \n",
       "39370                Alaska      15698    258119   15344471        00    02   \n",
       "41233               Arizona     107152   2525257  120495466        00    04   \n",
       "42325              Arkansas      47250   1011278   42192293        00    05   \n",
       "43637            California     738370  14991308  987704916        00    06   \n",
       "45767              Colorado     137165   2434968  134369487        00    08   \n",
       "48280              Delaware      19663    406179   23826058        00    10   \n",
       "48575  District of Columbia      15418    455652   37728542        00    11   \n",
       "50842           Connecticut      66783   1476827   98448097        00    09   \n",
       "51222               Florida     447363   8441008  388187677        00    12   \n",
       "52910               Georgia     174985   3805183  196353564        00    13   \n",
       "54894                 Idaho      39080    598348   23195317        00    16   \n",
       "55780                Hawaii      23687    505452   23429423        00    15   \n",
       "57185              Illinois     245445   5474518  321222632        00    17   \n",
       "58794               Indiana     102882   2747840  126645780        00    18   \n",
       "60800                  Iowa      60610   1341265   61255559        00    19   \n",
       "61740                Kansas      54984   1260598   54906128        00    20   \n",
       "62986              Kentucky      63236   1609352   70349726        00    21   \n",
       "64678             Louisiana      76877   1671852   77549488        00    22   \n",
       "65722                 Maine      32044    498963   21418377        00    23   \n",
       "67313              Maryland     104197   2276097  127674716        00    24   \n",
       "68671         Massachusetts     137196   3311909  227796997        00    25   \n",
       "70492              Michigan     163850   3937663  194684377        00    26   \n",
       "72202             Minnesota     113774   2673014  146712564        00    27   \n",
       "\n",
       "      state_code  \n",
       "1248          MS  \n",
       "2196          MO  \n",
       "3050          MT  \n",
       "4127          NE  \n",
       "6667          NV  \n",
       "7742          NH  \n",
       "9021          NJ  \n",
       "9680          NM  \n",
       "11854         NY  \n",
       "13052         NC  \n",
       "15032         ND  \n",
       "15472         OH  \n",
       "17270         OK  \n",
       "18434         OR  \n",
       "20959         PA  \n",
       "22526         RI  \n",
       "23034         SC  \n",
       "25008         SD  \n",
       "25498         TN  \n",
       "26817         TX  \n",
       "29134         VT  \n",
       "29788         UT  \n",
       "31901         VA  \n",
       "33367         WA  \n",
       "34437         WV  \n",
       "36169         WI  \n",
       "37737         WY  \n",
       "37967         AL  \n",
       "39370         AK  \n",
       "41233         AZ  \n",
       "42325         AR  \n",
       "43637         CA  \n",
       "45767         CO  \n",
       "48280         DE  \n",
       "48575         DC  \n",
       "50842         CT  \n",
       "51222         FL  \n",
       "52910         GA  \n",
       "54894         ID  \n",
       "55780         HI  \n",
       "57185         IL  \n",
       "58794         IN  \n",
       "60800         IA  \n",
       "61740         KS  \n",
       "62986         KY  \n",
       "64678         LA  \n",
       "65722         ME  \n",
       "67313         MD  \n",
       "68671         MA  \n",
       "70492         MI  \n",
       "72202         MN  "
      ]
     },
     "execution_count": 12,
     "metadata": {},
     "output_type": "execute_result"
    }
   ],
   "source": [
    "cs_total = cs_servtotal[(cs_servtotal['RCPSZFI'] == '001') & (cs_servtotal['YIBSZFI'] == '001')]\n",
    "cs_total.drop(['YIBSZFI', 'YIBSZFI_LABEL', 'RCPSZFI', 'RCPSZFI_LABEL'], axis = 1, inplace = True)\n",
    "cs_total"
   ]
  },
  {
   "cell_type": "code",
   "execution_count": 26,
   "id": "b06e6f6e",
   "metadata": {
    "scrolled": true
   },
   "outputs": [
    {
     "data": {
      "text/html": [
       "<div>\n",
       "<style scoped>\n",
       "    .dataframe tbody tr th:only-of-type {\n",
       "        vertical-align: middle;\n",
       "    }\n",
       "\n",
       "    .dataframe tbody tr th {\n",
       "        vertical-align: top;\n",
       "    }\n",
       "\n",
       "    .dataframe thead th {\n",
       "        text-align: right;\n",
       "    }\n",
       "</style>\n",
       "<table border=\"1\" class=\"dataframe\">\n",
       "  <thead>\n",
       "    <tr style=\"text-align: right;\">\n",
       "      <th></th>\n",
       "      <th>NAME</th>\n",
       "      <th>FIRMPDEMP</th>\n",
       "      <th>state_code</th>\n",
       "      <th>OWNPDEMP</th>\n",
       "    </tr>\n",
       "  </thead>\n",
       "  <tbody>\n",
       "    <tr>\n",
       "      <th>0</th>\n",
       "      <td>Mississippi</td>\n",
       "      <td>40856</td>\n",
       "      <td>MS</td>\n",
       "      <td>1158</td>\n",
       "    </tr>\n",
       "    <tr>\n",
       "      <th>1</th>\n",
       "      <td>Missouri</td>\n",
       "      <td>106753</td>\n",
       "      <td>MO</td>\n",
       "      <td>3564</td>\n",
       "    </tr>\n",
       "    <tr>\n",
       "      <th>2</th>\n",
       "      <td>Montana</td>\n",
       "      <td>31661</td>\n",
       "      <td>MT</td>\n",
       "      <td>748</td>\n",
       "    </tr>\n",
       "    <tr>\n",
       "      <th>3</th>\n",
       "      <td>Nebraska</td>\n",
       "      <td>43189</td>\n",
       "      <td>NE</td>\n",
       "      <td>1612</td>\n",
       "    </tr>\n",
       "    <tr>\n",
       "      <th>4</th>\n",
       "      <td>Nevada</td>\n",
       "      <td>51758</td>\n",
       "      <td>NV</td>\n",
       "      <td>572</td>\n",
       "    </tr>\n",
       "    <tr>\n",
       "      <th>5</th>\n",
       "      <td>New Hampshire</td>\n",
       "      <td>28969</td>\n",
       "      <td>NH</td>\n",
       "      <td>661</td>\n",
       "    </tr>\n",
       "    <tr>\n",
       "      <th>6</th>\n",
       "      <td>New Jersey</td>\n",
       "      <td>187243</td>\n",
       "      <td>NJ</td>\n",
       "      <td>5324</td>\n",
       "    </tr>\n",
       "    <tr>\n",
       "      <th>7</th>\n",
       "      <td>New Mexico</td>\n",
       "      <td>32197</td>\n",
       "      <td>NM</td>\n",
       "      <td>788</td>\n",
       "    </tr>\n",
       "    <tr>\n",
       "      <th>8</th>\n",
       "      <td>New York</td>\n",
       "      <td>446155</td>\n",
       "      <td>NY</td>\n",
       "      <td>8918</td>\n",
       "    </tr>\n",
       "    <tr>\n",
       "      <th>9</th>\n",
       "      <td>North Carolina</td>\n",
       "      <td>167837</td>\n",
       "      <td>NC</td>\n",
       "      <td>4256</td>\n",
       "    </tr>\n",
       "    <tr>\n",
       "      <th>10</th>\n",
       "      <td>North Dakota</td>\n",
       "      <td>19844</td>\n",
       "      <td>ND</td>\n",
       "      <td>875</td>\n",
       "    </tr>\n",
       "    <tr>\n",
       "      <th>11</th>\n",
       "      <td>Ohio</td>\n",
       "      <td>170951</td>\n",
       "      <td>OH</td>\n",
       "      <td>6829</td>\n",
       "    </tr>\n",
       "    <tr>\n",
       "      <th>12</th>\n",
       "      <td>Oklahoma</td>\n",
       "      <td>68623</td>\n",
       "      <td>OK</td>\n",
       "      <td>2276</td>\n",
       "    </tr>\n",
       "    <tr>\n",
       "      <th>13</th>\n",
       "      <td>Oregon</td>\n",
       "      <td>91493</td>\n",
       "      <td>OR</td>\n",
       "      <td>2577</td>\n",
       "    </tr>\n",
       "    <tr>\n",
       "      <th>14</th>\n",
       "      <td>Pennsylvania</td>\n",
       "      <td>214291</td>\n",
       "      <td>PA</td>\n",
       "      <td>7344</td>\n",
       "    </tr>\n",
       "    <tr>\n",
       "      <th>15</th>\n",
       "      <td>Rhode Island</td>\n",
       "      <td>22900</td>\n",
       "      <td>RI</td>\n",
       "      <td>312</td>\n",
       "    </tr>\n",
       "    <tr>\n",
       "      <th>16</th>\n",
       "      <td>South Carolina</td>\n",
       "      <td>78512</td>\n",
       "      <td>SC</td>\n",
       "      <td>2111</td>\n",
       "    </tr>\n",
       "    <tr>\n",
       "      <th>17</th>\n",
       "      <td>South Dakota</td>\n",
       "      <td>21641</td>\n",
       "      <td>SD</td>\n",
       "      <td>490</td>\n",
       "    </tr>\n",
       "    <tr>\n",
       "      <th>18</th>\n",
       "      <td>Tennessee</td>\n",
       "      <td>91799</td>\n",
       "      <td>TN</td>\n",
       "      <td>3184</td>\n",
       "    </tr>\n",
       "    <tr>\n",
       "      <th>19</th>\n",
       "      <td>Texas</td>\n",
       "      <td>425425</td>\n",
       "      <td>TX</td>\n",
       "      <td>8943</td>\n",
       "    </tr>\n",
       "    <tr>\n",
       "      <th>20</th>\n",
       "      <td>Vermont</td>\n",
       "      <td>16471</td>\n",
       "      <td>VT</td>\n",
       "      <td>749</td>\n",
       "    </tr>\n",
       "    <tr>\n",
       "      <th>21</th>\n",
       "      <td>Utah</td>\n",
       "      <td>66525</td>\n",
       "      <td>UT</td>\n",
       "      <td>1369</td>\n",
       "    </tr>\n",
       "    <tr>\n",
       "      <th>22</th>\n",
       "      <td>Virginia</td>\n",
       "      <td>143980</td>\n",
       "      <td>VA</td>\n",
       "      <td>3498</td>\n",
       "    </tr>\n",
       "    <tr>\n",
       "      <th>23</th>\n",
       "      <td>Washington</td>\n",
       "      <td>148872</td>\n",
       "      <td>WA</td>\n",
       "      <td>3404</td>\n",
       "    </tr>\n",
       "    <tr>\n",
       "      <th>24</th>\n",
       "      <td>West Virginia</td>\n",
       "      <td>23369</td>\n",
       "      <td>WV</td>\n",
       "      <td>1057</td>\n",
       "    </tr>\n",
       "    <tr>\n",
       "      <th>25</th>\n",
       "      <td>Wisconsin</td>\n",
       "      <td>103744</td>\n",
       "      <td>WI</td>\n",
       "      <td>4236</td>\n",
       "    </tr>\n",
       "    <tr>\n",
       "      <th>26</th>\n",
       "      <td>Wyoming</td>\n",
       "      <td>17113</td>\n",
       "      <td>WY</td>\n",
       "      <td>325</td>\n",
       "    </tr>\n",
       "    <tr>\n",
       "      <th>27</th>\n",
       "      <td>Alabama</td>\n",
       "      <td>67504</td>\n",
       "      <td>AL</td>\n",
       "      <td>2042</td>\n",
       "    </tr>\n",
       "    <tr>\n",
       "      <th>28</th>\n",
       "      <td>Alaska</td>\n",
       "      <td>15698</td>\n",
       "      <td>AK</td>\n",
       "      <td>306</td>\n",
       "    </tr>\n",
       "    <tr>\n",
       "      <th>29</th>\n",
       "      <td>Arizona</td>\n",
       "      <td>107152</td>\n",
       "      <td>AZ</td>\n",
       "      <td>1509</td>\n",
       "    </tr>\n",
       "    <tr>\n",
       "      <th>30</th>\n",
       "      <td>Arkansas</td>\n",
       "      <td>47250</td>\n",
       "      <td>AR</td>\n",
       "      <td>1828</td>\n",
       "    </tr>\n",
       "    <tr>\n",
       "      <th>31</th>\n",
       "      <td>California</td>\n",
       "      <td>738370</td>\n",
       "      <td>CA</td>\n",
       "      <td>17719</td>\n",
       "    </tr>\n",
       "    <tr>\n",
       "      <th>32</th>\n",
       "      <td>Colorado</td>\n",
       "      <td>137165</td>\n",
       "      <td>CO</td>\n",
       "      <td>2765</td>\n",
       "    </tr>\n",
       "    <tr>\n",
       "      <th>33</th>\n",
       "      <td>Delaware</td>\n",
       "      <td>19663</td>\n",
       "      <td>DE</td>\n",
       "      <td>289</td>\n",
       "    </tr>\n",
       "    <tr>\n",
       "      <th>34</th>\n",
       "      <td>District of Columbia</td>\n",
       "      <td>15418</td>\n",
       "      <td>DC</td>\n",
       "      <td>307</td>\n",
       "    </tr>\n",
       "    <tr>\n",
       "      <th>35</th>\n",
       "      <td>Connecticut</td>\n",
       "      <td>66783</td>\n",
       "      <td>CT</td>\n",
       "      <td>1544</td>\n",
       "    </tr>\n",
       "    <tr>\n",
       "      <th>36</th>\n",
       "      <td>Florida</td>\n",
       "      <td>447363</td>\n",
       "      <td>FL</td>\n",
       "      <td>6716</td>\n",
       "    </tr>\n",
       "    <tr>\n",
       "      <th>37</th>\n",
       "      <td>Georgia</td>\n",
       "      <td>174985</td>\n",
       "      <td>GA</td>\n",
       "      <td>3168</td>\n",
       "    </tr>\n",
       "    <tr>\n",
       "      <th>38</th>\n",
       "      <td>Idaho</td>\n",
       "      <td>39080</td>\n",
       "      <td>ID</td>\n",
       "      <td>1220</td>\n",
       "    </tr>\n",
       "    <tr>\n",
       "      <th>39</th>\n",
       "      <td>Hawaii</td>\n",
       "      <td>23687</td>\n",
       "      <td>HI</td>\n",
       "      <td>651</td>\n",
       "    </tr>\n",
       "    <tr>\n",
       "      <th>40</th>\n",
       "      <td>Illinois</td>\n",
       "      <td>245445</td>\n",
       "      <td>IL</td>\n",
       "      <td>6507</td>\n",
       "    </tr>\n",
       "    <tr>\n",
       "      <th>41</th>\n",
       "      <td>Indiana</td>\n",
       "      <td>102882</td>\n",
       "      <td>IN</td>\n",
       "      <td>4142</td>\n",
       "    </tr>\n",
       "    <tr>\n",
       "      <th>42</th>\n",
       "      <td>Iowa</td>\n",
       "      <td>60610</td>\n",
       "      <td>IA</td>\n",
       "      <td>2830</td>\n",
       "    </tr>\n",
       "    <tr>\n",
       "      <th>43</th>\n",
       "      <td>Kansas</td>\n",
       "      <td>54984</td>\n",
       "      <td>KS</td>\n",
       "      <td>2458</td>\n",
       "    </tr>\n",
       "    <tr>\n",
       "      <th>44</th>\n",
       "      <td>Kentucky</td>\n",
       "      <td>63236</td>\n",
       "      <td>KY</td>\n",
       "      <td>2398</td>\n",
       "    </tr>\n",
       "    <tr>\n",
       "      <th>45</th>\n",
       "      <td>Louisiana</td>\n",
       "      <td>76877</td>\n",
       "      <td>LA</td>\n",
       "      <td>2433</td>\n",
       "    </tr>\n",
       "    <tr>\n",
       "      <th>46</th>\n",
       "      <td>Maine</td>\n",
       "      <td>32044</td>\n",
       "      <td>ME</td>\n",
       "      <td>882</td>\n",
       "    </tr>\n",
       "    <tr>\n",
       "      <th>47</th>\n",
       "      <td>Maryland</td>\n",
       "      <td>104197</td>\n",
       "      <td>MD</td>\n",
       "      <td>2325</td>\n",
       "    </tr>\n",
       "    <tr>\n",
       "      <th>48</th>\n",
       "      <td>Massachusetts</td>\n",
       "      <td>137196</td>\n",
       "      <td>MA</td>\n",
       "      <td>3655</td>\n",
       "    </tr>\n",
       "    <tr>\n",
       "      <th>49</th>\n",
       "      <td>Michigan</td>\n",
       "      <td>163850</td>\n",
       "      <td>MI</td>\n",
       "      <td>5063</td>\n",
       "    </tr>\n",
       "    <tr>\n",
       "      <th>50</th>\n",
       "      <td>Minnesota</td>\n",
       "      <td>113774</td>\n",
       "      <td>MN</td>\n",
       "      <td>3210</td>\n",
       "    </tr>\n",
       "  </tbody>\n",
       "</table>\n",
       "</div>"
      ],
      "text/plain": [
       "                    NAME  FIRMPDEMP state_code  OWNPDEMP\n",
       "0            Mississippi      40856         MS      1158\n",
       "1               Missouri     106753         MO      3564\n",
       "2                Montana      31661         MT       748\n",
       "3               Nebraska      43189         NE      1612\n",
       "4                 Nevada      51758         NV       572\n",
       "5          New Hampshire      28969         NH       661\n",
       "6             New Jersey     187243         NJ      5324\n",
       "7             New Mexico      32197         NM       788\n",
       "8               New York     446155         NY      8918\n",
       "9         North Carolina     167837         NC      4256\n",
       "10          North Dakota      19844         ND       875\n",
       "11                  Ohio     170951         OH      6829\n",
       "12              Oklahoma      68623         OK      2276\n",
       "13                Oregon      91493         OR      2577\n",
       "14          Pennsylvania     214291         PA      7344\n",
       "15          Rhode Island      22900         RI       312\n",
       "16        South Carolina      78512         SC      2111\n",
       "17          South Dakota      21641         SD       490\n",
       "18             Tennessee      91799         TN      3184\n",
       "19                 Texas     425425         TX      8943\n",
       "20               Vermont      16471         VT       749\n",
       "21                  Utah      66525         UT      1369\n",
       "22              Virginia     143980         VA      3498\n",
       "23            Washington     148872         WA      3404\n",
       "24         West Virginia      23369         WV      1057\n",
       "25             Wisconsin     103744         WI      4236\n",
       "26               Wyoming      17113         WY       325\n",
       "27               Alabama      67504         AL      2042\n",
       "28                Alaska      15698         AK       306\n",
       "29               Arizona     107152         AZ      1509\n",
       "30              Arkansas      47250         AR      1828\n",
       "31            California     738370         CA     17719\n",
       "32              Colorado     137165         CO      2765\n",
       "33              Delaware      19663         DE       289\n",
       "34  District of Columbia      15418         DC       307\n",
       "35           Connecticut      66783         CT      1544\n",
       "36               Florida     447363         FL      6716\n",
       "37               Georgia     174985         GA      3168\n",
       "38                 Idaho      39080         ID      1220\n",
       "39                Hawaii      23687         HI       651\n",
       "40              Illinois     245445         IL      6507\n",
       "41               Indiana     102882         IN      4142\n",
       "42                  Iowa      60610         IA      2830\n",
       "43                Kansas      54984         KS      2458\n",
       "44              Kentucky      63236         KY      2398\n",
       "45             Louisiana      76877         LA      2433\n",
       "46                 Maine      32044         ME       882\n",
       "47              Maryland     104197         MD      2325\n",
       "48         Massachusetts     137196         MA      3655\n",
       "49              Michigan     163850         MI      5063\n",
       "50             Minnesota     113774         MN      3210"
      ]
     },
     "execution_count": 26,
     "metadata": {},
     "output_type": "execute_result"
    }
   ],
   "source": [
    "cs_total = cs_total[['NAME', 'FIRMPDEMP', 'state_code']]\n",
    "cbo_total = cbo[['NAME', 'OWNPDEMP']]\n",
    "cs_cbo = cs_total.merge(cbo_total, how = 'inner', on = 'NAME')\n",
    "cs_cbo"
   ]
  },
  {
   "cell_type": "code",
   "execution_count": 27,
   "id": "08d833dc",
   "metadata": {
    "scrolled": true
   },
   "outputs": [
    {
     "data": {
      "text/html": [
       "<div>\n",
       "<style scoped>\n",
       "    .dataframe tbody tr th:only-of-type {\n",
       "        vertical-align: middle;\n",
       "    }\n",
       "\n",
       "    .dataframe tbody tr th {\n",
       "        vertical-align: top;\n",
       "    }\n",
       "\n",
       "    .dataframe thead th {\n",
       "        text-align: right;\n",
       "    }\n",
       "</style>\n",
       "<table border=\"1\" class=\"dataframe\">\n",
       "  <thead>\n",
       "    <tr style=\"text-align: right;\">\n",
       "      <th></th>\n",
       "      <th>NAME</th>\n",
       "      <th>FIRMPDEMP</th>\n",
       "      <th>state_code</th>\n",
       "      <th>OWNPDEMP</th>\n",
       "      <th>FIRM / OWNER</th>\n",
       "    </tr>\n",
       "  </thead>\n",
       "  <tbody>\n",
       "    <tr>\n",
       "      <th>0</th>\n",
       "      <td>Mississippi</td>\n",
       "      <td>40856</td>\n",
       "      <td>MS</td>\n",
       "      <td>1158</td>\n",
       "      <td>35.281520</td>\n",
       "    </tr>\n",
       "    <tr>\n",
       "      <th>1</th>\n",
       "      <td>Missouri</td>\n",
       "      <td>106753</td>\n",
       "      <td>MO</td>\n",
       "      <td>3564</td>\n",
       "      <td>29.953143</td>\n",
       "    </tr>\n",
       "    <tr>\n",
       "      <th>2</th>\n",
       "      <td>Montana</td>\n",
       "      <td>31661</td>\n",
       "      <td>MT</td>\n",
       "      <td>748</td>\n",
       "      <td>42.327540</td>\n",
       "    </tr>\n",
       "    <tr>\n",
       "      <th>3</th>\n",
       "      <td>Nebraska</td>\n",
       "      <td>43189</td>\n",
       "      <td>NE</td>\n",
       "      <td>1612</td>\n",
       "      <td>26.792184</td>\n",
       "    </tr>\n",
       "    <tr>\n",
       "      <th>4</th>\n",
       "      <td>Nevada</td>\n",
       "      <td>51758</td>\n",
       "      <td>NV</td>\n",
       "      <td>572</td>\n",
       "      <td>90.486014</td>\n",
       "    </tr>\n",
       "    <tr>\n",
       "      <th>5</th>\n",
       "      <td>New Hampshire</td>\n",
       "      <td>28969</td>\n",
       "      <td>NH</td>\n",
       "      <td>661</td>\n",
       "      <td>43.826021</td>\n",
       "    </tr>\n",
       "    <tr>\n",
       "      <th>6</th>\n",
       "      <td>New Jersey</td>\n",
       "      <td>187243</td>\n",
       "      <td>NJ</td>\n",
       "      <td>5324</td>\n",
       "      <td>35.169609</td>\n",
       "    </tr>\n",
       "    <tr>\n",
       "      <th>7</th>\n",
       "      <td>New Mexico</td>\n",
       "      <td>32197</td>\n",
       "      <td>NM</td>\n",
       "      <td>788</td>\n",
       "      <td>40.859137</td>\n",
       "    </tr>\n",
       "    <tr>\n",
       "      <th>8</th>\n",
       "      <td>New York</td>\n",
       "      <td>446155</td>\n",
       "      <td>NY</td>\n",
       "      <td>8918</td>\n",
       "      <td>50.028594</td>\n",
       "    </tr>\n",
       "    <tr>\n",
       "      <th>9</th>\n",
       "      <td>North Carolina</td>\n",
       "      <td>167837</td>\n",
       "      <td>NC</td>\n",
       "      <td>4256</td>\n",
       "      <td>39.435385</td>\n",
       "    </tr>\n",
       "    <tr>\n",
       "      <th>10</th>\n",
       "      <td>North Dakota</td>\n",
       "      <td>19844</td>\n",
       "      <td>ND</td>\n",
       "      <td>875</td>\n",
       "      <td>22.678857</td>\n",
       "    </tr>\n",
       "    <tr>\n",
       "      <th>11</th>\n",
       "      <td>Ohio</td>\n",
       "      <td>170951</td>\n",
       "      <td>OH</td>\n",
       "      <td>6829</td>\n",
       "      <td>25.033094</td>\n",
       "    </tr>\n",
       "    <tr>\n",
       "      <th>12</th>\n",
       "      <td>Oklahoma</td>\n",
       "      <td>68623</td>\n",
       "      <td>OK</td>\n",
       "      <td>2276</td>\n",
       "      <td>30.150703</td>\n",
       "    </tr>\n",
       "    <tr>\n",
       "      <th>13</th>\n",
       "      <td>Oregon</td>\n",
       "      <td>91493</td>\n",
       "      <td>OR</td>\n",
       "      <td>2577</td>\n",
       "      <td>35.503686</td>\n",
       "    </tr>\n",
       "    <tr>\n",
       "      <th>14</th>\n",
       "      <td>Pennsylvania</td>\n",
       "      <td>214291</td>\n",
       "      <td>PA</td>\n",
       "      <td>7344</td>\n",
       "      <td>29.179058</td>\n",
       "    </tr>\n",
       "    <tr>\n",
       "      <th>15</th>\n",
       "      <td>Rhode Island</td>\n",
       "      <td>22900</td>\n",
       "      <td>RI</td>\n",
       "      <td>312</td>\n",
       "      <td>73.397436</td>\n",
       "    </tr>\n",
       "    <tr>\n",
       "      <th>16</th>\n",
       "      <td>South Carolina</td>\n",
       "      <td>78512</td>\n",
       "      <td>SC</td>\n",
       "      <td>2111</td>\n",
       "      <td>37.191852</td>\n",
       "    </tr>\n",
       "    <tr>\n",
       "      <th>17</th>\n",
       "      <td>South Dakota</td>\n",
       "      <td>21641</td>\n",
       "      <td>SD</td>\n",
       "      <td>490</td>\n",
       "      <td>44.165306</td>\n",
       "    </tr>\n",
       "    <tr>\n",
       "      <th>18</th>\n",
       "      <td>Tennessee</td>\n",
       "      <td>91799</td>\n",
       "      <td>TN</td>\n",
       "      <td>3184</td>\n",
       "      <td>28.831344</td>\n",
       "    </tr>\n",
       "    <tr>\n",
       "      <th>19</th>\n",
       "      <td>Texas</td>\n",
       "      <td>425425</td>\n",
       "      <td>TX</td>\n",
       "      <td>8943</td>\n",
       "      <td>47.570726</td>\n",
       "    </tr>\n",
       "    <tr>\n",
       "      <th>20</th>\n",
       "      <td>Vermont</td>\n",
       "      <td>16471</td>\n",
       "      <td>VT</td>\n",
       "      <td>749</td>\n",
       "      <td>21.990654</td>\n",
       "    </tr>\n",
       "    <tr>\n",
       "      <th>21</th>\n",
       "      <td>Utah</td>\n",
       "      <td>66525</td>\n",
       "      <td>UT</td>\n",
       "      <td>1369</td>\n",
       "      <td>48.593864</td>\n",
       "    </tr>\n",
       "    <tr>\n",
       "      <th>22</th>\n",
       "      <td>Virginia</td>\n",
       "      <td>143980</td>\n",
       "      <td>VA</td>\n",
       "      <td>3498</td>\n",
       "      <td>41.160663</td>\n",
       "    </tr>\n",
       "    <tr>\n",
       "      <th>23</th>\n",
       "      <td>Washington</td>\n",
       "      <td>148872</td>\n",
       "      <td>WA</td>\n",
       "      <td>3404</td>\n",
       "      <td>43.734430</td>\n",
       "    </tr>\n",
       "    <tr>\n",
       "      <th>24</th>\n",
       "      <td>West Virginia</td>\n",
       "      <td>23369</td>\n",
       "      <td>WV</td>\n",
       "      <td>1057</td>\n",
       "      <td>22.108798</td>\n",
       "    </tr>\n",
       "    <tr>\n",
       "      <th>25</th>\n",
       "      <td>Wisconsin</td>\n",
       "      <td>103744</td>\n",
       "      <td>WI</td>\n",
       "      <td>4236</td>\n",
       "      <td>24.491029</td>\n",
       "    </tr>\n",
       "    <tr>\n",
       "      <th>26</th>\n",
       "      <td>Wyoming</td>\n",
       "      <td>17113</td>\n",
       "      <td>WY</td>\n",
       "      <td>325</td>\n",
       "      <td>52.655385</td>\n",
       "    </tr>\n",
       "    <tr>\n",
       "      <th>27</th>\n",
       "      <td>Alabama</td>\n",
       "      <td>67504</td>\n",
       "      <td>AL</td>\n",
       "      <td>2042</td>\n",
       "      <td>33.057786</td>\n",
       "    </tr>\n",
       "    <tr>\n",
       "      <th>28</th>\n",
       "      <td>Alaska</td>\n",
       "      <td>15698</td>\n",
       "      <td>AK</td>\n",
       "      <td>306</td>\n",
       "      <td>51.300654</td>\n",
       "    </tr>\n",
       "    <tr>\n",
       "      <th>29</th>\n",
       "      <td>Arizona</td>\n",
       "      <td>107152</td>\n",
       "      <td>AZ</td>\n",
       "      <td>1509</td>\n",
       "      <td>71.008615</td>\n",
       "    </tr>\n",
       "    <tr>\n",
       "      <th>30</th>\n",
       "      <td>Arkansas</td>\n",
       "      <td>47250</td>\n",
       "      <td>AR</td>\n",
       "      <td>1828</td>\n",
       "      <td>25.847921</td>\n",
       "    </tr>\n",
       "    <tr>\n",
       "      <th>31</th>\n",
       "      <td>California</td>\n",
       "      <td>738370</td>\n",
       "      <td>CA</td>\n",
       "      <td>17719</td>\n",
       "      <td>41.671088</td>\n",
       "    </tr>\n",
       "    <tr>\n",
       "      <th>32</th>\n",
       "      <td>Colorado</td>\n",
       "      <td>137165</td>\n",
       "      <td>CO</td>\n",
       "      <td>2765</td>\n",
       "      <td>49.607595</td>\n",
       "    </tr>\n",
       "    <tr>\n",
       "      <th>33</th>\n",
       "      <td>Delaware</td>\n",
       "      <td>19663</td>\n",
       "      <td>DE</td>\n",
       "      <td>289</td>\n",
       "      <td>68.038062</td>\n",
       "    </tr>\n",
       "    <tr>\n",
       "      <th>34</th>\n",
       "      <td>District of Columbia</td>\n",
       "      <td>15418</td>\n",
       "      <td>DC</td>\n",
       "      <td>307</td>\n",
       "      <td>50.221498</td>\n",
       "    </tr>\n",
       "    <tr>\n",
       "      <th>35</th>\n",
       "      <td>Connecticut</td>\n",
       "      <td>66783</td>\n",
       "      <td>CT</td>\n",
       "      <td>1544</td>\n",
       "      <td>43.253238</td>\n",
       "    </tr>\n",
       "    <tr>\n",
       "      <th>36</th>\n",
       "      <td>Florida</td>\n",
       "      <td>447363</td>\n",
       "      <td>FL</td>\n",
       "      <td>6716</td>\n",
       "      <td>66.611525</td>\n",
       "    </tr>\n",
       "    <tr>\n",
       "      <th>37</th>\n",
       "      <td>Georgia</td>\n",
       "      <td>174985</td>\n",
       "      <td>GA</td>\n",
       "      <td>3168</td>\n",
       "      <td>55.235164</td>\n",
       "    </tr>\n",
       "    <tr>\n",
       "      <th>38</th>\n",
       "      <td>Idaho</td>\n",
       "      <td>39080</td>\n",
       "      <td>ID</td>\n",
       "      <td>1220</td>\n",
       "      <td>32.032787</td>\n",
       "    </tr>\n",
       "    <tr>\n",
       "      <th>39</th>\n",
       "      <td>Hawaii</td>\n",
       "      <td>23687</td>\n",
       "      <td>HI</td>\n",
       "      <td>651</td>\n",
       "      <td>36.385561</td>\n",
       "    </tr>\n",
       "    <tr>\n",
       "      <th>40</th>\n",
       "      <td>Illinois</td>\n",
       "      <td>245445</td>\n",
       "      <td>IL</td>\n",
       "      <td>6507</td>\n",
       "      <td>37.720148</td>\n",
       "    </tr>\n",
       "    <tr>\n",
       "      <th>41</th>\n",
       "      <td>Indiana</td>\n",
       "      <td>102882</td>\n",
       "      <td>IN</td>\n",
       "      <td>4142</td>\n",
       "      <td>24.838725</td>\n",
       "    </tr>\n",
       "    <tr>\n",
       "      <th>42</th>\n",
       "      <td>Iowa</td>\n",
       "      <td>60610</td>\n",
       "      <td>IA</td>\n",
       "      <td>2830</td>\n",
       "      <td>21.416961</td>\n",
       "    </tr>\n",
       "    <tr>\n",
       "      <th>43</th>\n",
       "      <td>Kansas</td>\n",
       "      <td>54984</td>\n",
       "      <td>KS</td>\n",
       "      <td>2458</td>\n",
       "      <td>22.369406</td>\n",
       "    </tr>\n",
       "    <tr>\n",
       "      <th>44</th>\n",
       "      <td>Kentucky</td>\n",
       "      <td>63236</td>\n",
       "      <td>KY</td>\n",
       "      <td>2398</td>\n",
       "      <td>26.370309</td>\n",
       "    </tr>\n",
       "    <tr>\n",
       "      <th>45</th>\n",
       "      <td>Louisiana</td>\n",
       "      <td>76877</td>\n",
       "      <td>LA</td>\n",
       "      <td>2433</td>\n",
       "      <td>31.597616</td>\n",
       "    </tr>\n",
       "    <tr>\n",
       "      <th>46</th>\n",
       "      <td>Maine</td>\n",
       "      <td>32044</td>\n",
       "      <td>ME</td>\n",
       "      <td>882</td>\n",
       "      <td>36.331066</td>\n",
       "    </tr>\n",
       "    <tr>\n",
       "      <th>47</th>\n",
       "      <td>Maryland</td>\n",
       "      <td>104197</td>\n",
       "      <td>MD</td>\n",
       "      <td>2325</td>\n",
       "      <td>44.815914</td>\n",
       "    </tr>\n",
       "    <tr>\n",
       "      <th>48</th>\n",
       "      <td>Massachusetts</td>\n",
       "      <td>137196</td>\n",
       "      <td>MA</td>\n",
       "      <td>3655</td>\n",
       "      <td>37.536525</td>\n",
       "    </tr>\n",
       "    <tr>\n",
       "      <th>49</th>\n",
       "      <td>Michigan</td>\n",
       "      <td>163850</td>\n",
       "      <td>MI</td>\n",
       "      <td>5063</td>\n",
       "      <td>32.362236</td>\n",
       "    </tr>\n",
       "    <tr>\n",
       "      <th>50</th>\n",
       "      <td>Minnesota</td>\n",
       "      <td>113774</td>\n",
       "      <td>MN</td>\n",
       "      <td>3210</td>\n",
       "      <td>35.443614</td>\n",
       "    </tr>\n",
       "  </tbody>\n",
       "</table>\n",
       "</div>"
      ],
      "text/plain": [
       "                    NAME  FIRMPDEMP state_code  OWNPDEMP  FIRM / OWNER\n",
       "0            Mississippi      40856         MS      1158     35.281520\n",
       "1               Missouri     106753         MO      3564     29.953143\n",
       "2                Montana      31661         MT       748     42.327540\n",
       "3               Nebraska      43189         NE      1612     26.792184\n",
       "4                 Nevada      51758         NV       572     90.486014\n",
       "5          New Hampshire      28969         NH       661     43.826021\n",
       "6             New Jersey     187243         NJ      5324     35.169609\n",
       "7             New Mexico      32197         NM       788     40.859137\n",
       "8               New York     446155         NY      8918     50.028594\n",
       "9         North Carolina     167837         NC      4256     39.435385\n",
       "10          North Dakota      19844         ND       875     22.678857\n",
       "11                  Ohio     170951         OH      6829     25.033094\n",
       "12              Oklahoma      68623         OK      2276     30.150703\n",
       "13                Oregon      91493         OR      2577     35.503686\n",
       "14          Pennsylvania     214291         PA      7344     29.179058\n",
       "15          Rhode Island      22900         RI       312     73.397436\n",
       "16        South Carolina      78512         SC      2111     37.191852\n",
       "17          South Dakota      21641         SD       490     44.165306\n",
       "18             Tennessee      91799         TN      3184     28.831344\n",
       "19                 Texas     425425         TX      8943     47.570726\n",
       "20               Vermont      16471         VT       749     21.990654\n",
       "21                  Utah      66525         UT      1369     48.593864\n",
       "22              Virginia     143980         VA      3498     41.160663\n",
       "23            Washington     148872         WA      3404     43.734430\n",
       "24         West Virginia      23369         WV      1057     22.108798\n",
       "25             Wisconsin     103744         WI      4236     24.491029\n",
       "26               Wyoming      17113         WY       325     52.655385\n",
       "27               Alabama      67504         AL      2042     33.057786\n",
       "28                Alaska      15698         AK       306     51.300654\n",
       "29               Arizona     107152         AZ      1509     71.008615\n",
       "30              Arkansas      47250         AR      1828     25.847921\n",
       "31            California     738370         CA     17719     41.671088\n",
       "32              Colorado     137165         CO      2765     49.607595\n",
       "33              Delaware      19663         DE       289     68.038062\n",
       "34  District of Columbia      15418         DC       307     50.221498\n",
       "35           Connecticut      66783         CT      1544     43.253238\n",
       "36               Florida     447363         FL      6716     66.611525\n",
       "37               Georgia     174985         GA      3168     55.235164\n",
       "38                 Idaho      39080         ID      1220     32.032787\n",
       "39                Hawaii      23687         HI       651     36.385561\n",
       "40              Illinois     245445         IL      6507     37.720148\n",
       "41               Indiana     102882         IN      4142     24.838725\n",
       "42                  Iowa      60610         IA      2830     21.416961\n",
       "43                Kansas      54984         KS      2458     22.369406\n",
       "44              Kentucky      63236         KY      2398     26.370309\n",
       "45             Louisiana      76877         LA      2433     31.597616\n",
       "46                 Maine      32044         ME       882     36.331066\n",
       "47              Maryland     104197         MD      2325     44.815914\n",
       "48         Massachusetts     137196         MA      3655     37.536525\n",
       "49              Michigan     163850         MI      5063     32.362236\n",
       "50             Minnesota     113774         MN      3210     35.443614"
      ]
     },
     "execution_count": 27,
     "metadata": {},
     "output_type": "execute_result"
    }
   ],
   "source": [
    "cs_cbo['FIRM / OWNER'] = cs_cbo['FIRMPDEMP'] / cs_cbo['OWNPDEMP']\n",
    "cs_cbo"
   ]
  },
  {
   "cell_type": "code",
   "execution_count": 30,
   "id": "c08629e0",
   "metadata": {},
   "outputs": [
    {
     "data": {
      "text/html": [
       "<div>\n",
       "<style scoped>\n",
       "    .dataframe tbody tr th:only-of-type {\n",
       "        vertical-align: middle;\n",
       "    }\n",
       "\n",
       "    .dataframe tbody tr th {\n",
       "        vertical-align: top;\n",
       "    }\n",
       "\n",
       "    .dataframe thead th {\n",
       "        text-align: right;\n",
       "    }\n",
       "</style>\n",
       "<table border=\"1\" class=\"dataframe\">\n",
       "  <thead>\n",
       "    <tr style=\"text-align: right;\">\n",
       "      <th></th>\n",
       "      <th>NAME</th>\n",
       "      <th>FIRMPDEMP</th>\n",
       "      <th>state_code</th>\n",
       "      <th>OWNPDEMP</th>\n",
       "      <th>FIRM / OWNER</th>\n",
       "    </tr>\n",
       "  </thead>\n",
       "  <tbody>\n",
       "    <tr>\n",
       "      <th>4</th>\n",
       "      <td>Nevada</td>\n",
       "      <td>51758</td>\n",
       "      <td>NV</td>\n",
       "      <td>572</td>\n",
       "      <td>90.486014</td>\n",
       "    </tr>\n",
       "    <tr>\n",
       "      <th>15</th>\n",
       "      <td>Rhode Island</td>\n",
       "      <td>22900</td>\n",
       "      <td>RI</td>\n",
       "      <td>312</td>\n",
       "      <td>73.397436</td>\n",
       "    </tr>\n",
       "    <tr>\n",
       "      <th>29</th>\n",
       "      <td>Arizona</td>\n",
       "      <td>107152</td>\n",
       "      <td>AZ</td>\n",
       "      <td>1509</td>\n",
       "      <td>71.008615</td>\n",
       "    </tr>\n",
       "    <tr>\n",
       "      <th>33</th>\n",
       "      <td>Delaware</td>\n",
       "      <td>19663</td>\n",
       "      <td>DE</td>\n",
       "      <td>289</td>\n",
       "      <td>68.038062</td>\n",
       "    </tr>\n",
       "    <tr>\n",
       "      <th>36</th>\n",
       "      <td>Florida</td>\n",
       "      <td>447363</td>\n",
       "      <td>FL</td>\n",
       "      <td>6716</td>\n",
       "      <td>66.611525</td>\n",
       "    </tr>\n",
       "  </tbody>\n",
       "</table>\n",
       "</div>"
      ],
      "text/plain": [
       "            NAME  FIRMPDEMP state_code  OWNPDEMP  FIRM / OWNER\n",
       "4         Nevada      51758         NV       572     90.486014\n",
       "15  Rhode Island      22900         RI       312     73.397436\n",
       "29       Arizona     107152         AZ      1509     71.008615\n",
       "33      Delaware      19663         DE       289     68.038062\n",
       "36       Florida     447363         FL      6716     66.611525"
      ]
     },
     "execution_count": 30,
     "metadata": {},
     "output_type": "execute_result"
    }
   ],
   "source": [
    "cs_cbo.nlargest(5, 'FIRM / OWNER')"
   ]
  },
  {
   "cell_type": "code",
   "execution_count": 29,
   "id": "63e9618d",
   "metadata": {
    "scrolled": false
   },
   "outputs": [
    {
     "data": {
      "application/vnd.plotly.v1+json": {
       "config": {
        "plotlyServerURL": "https://plot.ly"
       },
       "data": [
        {
         "colorbar": {
          "title": {
           "text": "Businesses per Owner"
          }
         },
         "colorscale": [
          [
           0,
           "rgb(247,251,255)"
          ],
          [
           0.125,
           "rgb(222,235,247)"
          ],
          [
           0.25,
           "rgb(198,219,239)"
          ],
          [
           0.375,
           "rgb(158,202,225)"
          ],
          [
           0.5,
           "rgb(107,174,214)"
          ],
          [
           0.625,
           "rgb(66,146,198)"
          ],
          [
           0.75,
           "rgb(33,113,181)"
          ],
          [
           0.875,
           "rgb(8,81,156)"
          ],
          [
           1,
           "rgb(8,48,107)"
          ]
         ],
         "locationmode": "USA-states",
         "locations": [
          "MS",
          "MO",
          "MT",
          "NE",
          "NV",
          "NH",
          "NJ",
          "NM",
          "NY",
          "NC",
          "ND",
          "OH",
          "OK",
          "OR",
          "PA",
          "RI",
          "SC",
          "SD",
          "TN",
          "TX",
          "VT",
          "UT",
          "VA",
          "WA",
          "WV",
          "WI",
          "WY",
          "AL",
          "AK",
          "AZ",
          "AR",
          "CA",
          "CO",
          "DE",
          "DC",
          "CT",
          "FL",
          "GA",
          "ID",
          "HI",
          "IL",
          "IN",
          "IA",
          "KS",
          "KY",
          "LA",
          "ME",
          "MD",
          "MA",
          "MI",
          "MN"
         ],
         "type": "choropleth",
         "z": [
          35.281519861830745,
          29.95314253647587,
          42.32754010695187,
          26.792183622828784,
          90.48601398601399,
          43.82602118003026,
          35.16960931630353,
          40.859137055837564,
          50.02859385512447,
          39.43538533834587,
          22.678857142857144,
          25.033094157270465,
          30.150702987697716,
          35.503686457120686,
          29.179057734204793,
          73.3974358974359,
          37.19185220274751,
          44.16530612244898,
          28.831344221105528,
          47.570725707257075,
          21.990654205607477,
          48.593864134404676,
          41.16066323613494,
          43.73443008225617,
          22.10879848628193,
          24.49102927289896,
          52.65538461538461,
          33.05778648383937,
          51.30065359477124,
          71.00861497680583,
          25.847921225382933,
          41.6710875331565,
          49.607594936708864,
          68.03806228373702,
          50.22149837133551,
          43.25323834196891,
          66.6115247170935,
          55.23516414141414,
          32.032786885245905,
          36.385560675883255,
          37.72014753342554,
          24.838725253500723,
          21.41696113074205,
          22.36940602115541,
          26.370308590492076,
          31.597616111796135,
          36.33106575963719,
          44.81591397849462,
          37.53652530779754,
          32.362235828560145,
          35.443613707165106
         ]
        }
       ],
       "layout": {
        "geo": {
         "bgcolor": "rgba(0,0,0,0)",
         "scope": "usa"
        },
        "paper_bgcolor": "rgba(255,255,255,0.9)",
        "template": {
         "data": {
          "bar": [
           {
            "error_x": {
             "color": "#2a3f5f"
            },
            "error_y": {
             "color": "#2a3f5f"
            },
            "marker": {
             "line": {
              "color": "#E5ECF6",
              "width": 0.5
             }
            },
            "type": "bar"
           }
          ],
          "barpolar": [
           {
            "marker": {
             "line": {
              "color": "#E5ECF6",
              "width": 0.5
             }
            },
            "type": "barpolar"
           }
          ],
          "carpet": [
           {
            "aaxis": {
             "endlinecolor": "#2a3f5f",
             "gridcolor": "white",
             "linecolor": "white",
             "minorgridcolor": "white",
             "startlinecolor": "#2a3f5f"
            },
            "baxis": {
             "endlinecolor": "#2a3f5f",
             "gridcolor": "white",
             "linecolor": "white",
             "minorgridcolor": "white",
             "startlinecolor": "#2a3f5f"
            },
            "type": "carpet"
           }
          ],
          "choropleth": [
           {
            "colorbar": {
             "outlinewidth": 0,
             "ticks": ""
            },
            "type": "choropleth"
           }
          ],
          "contour": [
           {
            "colorbar": {
             "outlinewidth": 0,
             "ticks": ""
            },
            "colorscale": [
             [
              0,
              "#0d0887"
             ],
             [
              0.1111111111111111,
              "#46039f"
             ],
             [
              0.2222222222222222,
              "#7201a8"
             ],
             [
              0.3333333333333333,
              "#9c179e"
             ],
             [
              0.4444444444444444,
              "#bd3786"
             ],
             [
              0.5555555555555556,
              "#d8576b"
             ],
             [
              0.6666666666666666,
              "#ed7953"
             ],
             [
              0.7777777777777778,
              "#fb9f3a"
             ],
             [
              0.8888888888888888,
              "#fdca26"
             ],
             [
              1,
              "#f0f921"
             ]
            ],
            "type": "contour"
           }
          ],
          "contourcarpet": [
           {
            "colorbar": {
             "outlinewidth": 0,
             "ticks": ""
            },
            "type": "contourcarpet"
           }
          ],
          "heatmap": [
           {
            "colorbar": {
             "outlinewidth": 0,
             "ticks": ""
            },
            "colorscale": [
             [
              0,
              "#0d0887"
             ],
             [
              0.1111111111111111,
              "#46039f"
             ],
             [
              0.2222222222222222,
              "#7201a8"
             ],
             [
              0.3333333333333333,
              "#9c179e"
             ],
             [
              0.4444444444444444,
              "#bd3786"
             ],
             [
              0.5555555555555556,
              "#d8576b"
             ],
             [
              0.6666666666666666,
              "#ed7953"
             ],
             [
              0.7777777777777778,
              "#fb9f3a"
             ],
             [
              0.8888888888888888,
              "#fdca26"
             ],
             [
              1,
              "#f0f921"
             ]
            ],
            "type": "heatmap"
           }
          ],
          "heatmapgl": [
           {
            "colorbar": {
             "outlinewidth": 0,
             "ticks": ""
            },
            "colorscale": [
             [
              0,
              "#0d0887"
             ],
             [
              0.1111111111111111,
              "#46039f"
             ],
             [
              0.2222222222222222,
              "#7201a8"
             ],
             [
              0.3333333333333333,
              "#9c179e"
             ],
             [
              0.4444444444444444,
              "#bd3786"
             ],
             [
              0.5555555555555556,
              "#d8576b"
             ],
             [
              0.6666666666666666,
              "#ed7953"
             ],
             [
              0.7777777777777778,
              "#fb9f3a"
             ],
             [
              0.8888888888888888,
              "#fdca26"
             ],
             [
              1,
              "#f0f921"
             ]
            ],
            "type": "heatmapgl"
           }
          ],
          "histogram": [
           {
            "marker": {
             "colorbar": {
              "outlinewidth": 0,
              "ticks": ""
             }
            },
            "type": "histogram"
           }
          ],
          "histogram2d": [
           {
            "colorbar": {
             "outlinewidth": 0,
             "ticks": ""
            },
            "colorscale": [
             [
              0,
              "#0d0887"
             ],
             [
              0.1111111111111111,
              "#46039f"
             ],
             [
              0.2222222222222222,
              "#7201a8"
             ],
             [
              0.3333333333333333,
              "#9c179e"
             ],
             [
              0.4444444444444444,
              "#bd3786"
             ],
             [
              0.5555555555555556,
              "#d8576b"
             ],
             [
              0.6666666666666666,
              "#ed7953"
             ],
             [
              0.7777777777777778,
              "#fb9f3a"
             ],
             [
              0.8888888888888888,
              "#fdca26"
             ],
             [
              1,
              "#f0f921"
             ]
            ],
            "type": "histogram2d"
           }
          ],
          "histogram2dcontour": [
           {
            "colorbar": {
             "outlinewidth": 0,
             "ticks": ""
            },
            "colorscale": [
             [
              0,
              "#0d0887"
             ],
             [
              0.1111111111111111,
              "#46039f"
             ],
             [
              0.2222222222222222,
              "#7201a8"
             ],
             [
              0.3333333333333333,
              "#9c179e"
             ],
             [
              0.4444444444444444,
              "#bd3786"
             ],
             [
              0.5555555555555556,
              "#d8576b"
             ],
             [
              0.6666666666666666,
              "#ed7953"
             ],
             [
              0.7777777777777778,
              "#fb9f3a"
             ],
             [
              0.8888888888888888,
              "#fdca26"
             ],
             [
              1,
              "#f0f921"
             ]
            ],
            "type": "histogram2dcontour"
           }
          ],
          "mesh3d": [
           {
            "colorbar": {
             "outlinewidth": 0,
             "ticks": ""
            },
            "type": "mesh3d"
           }
          ],
          "parcoords": [
           {
            "line": {
             "colorbar": {
              "outlinewidth": 0,
              "ticks": ""
             }
            },
            "type": "parcoords"
           }
          ],
          "pie": [
           {
            "automargin": true,
            "type": "pie"
           }
          ],
          "scatter": [
           {
            "marker": {
             "colorbar": {
              "outlinewidth": 0,
              "ticks": ""
             }
            },
            "type": "scatter"
           }
          ],
          "scatter3d": [
           {
            "line": {
             "colorbar": {
              "outlinewidth": 0,
              "ticks": ""
             }
            },
            "marker": {
             "colorbar": {
              "outlinewidth": 0,
              "ticks": ""
             }
            },
            "type": "scatter3d"
           }
          ],
          "scattercarpet": [
           {
            "marker": {
             "colorbar": {
              "outlinewidth": 0,
              "ticks": ""
             }
            },
            "type": "scattercarpet"
           }
          ],
          "scattergeo": [
           {
            "marker": {
             "colorbar": {
              "outlinewidth": 0,
              "ticks": ""
             }
            },
            "type": "scattergeo"
           }
          ],
          "scattergl": [
           {
            "marker": {
             "colorbar": {
              "outlinewidth": 0,
              "ticks": ""
             }
            },
            "type": "scattergl"
           }
          ],
          "scattermapbox": [
           {
            "marker": {
             "colorbar": {
              "outlinewidth": 0,
              "ticks": ""
             }
            },
            "type": "scattermapbox"
           }
          ],
          "scatterpolar": [
           {
            "marker": {
             "colorbar": {
              "outlinewidth": 0,
              "ticks": ""
             }
            },
            "type": "scatterpolar"
           }
          ],
          "scatterpolargl": [
           {
            "marker": {
             "colorbar": {
              "outlinewidth": 0,
              "ticks": ""
             }
            },
            "type": "scatterpolargl"
           }
          ],
          "scatterternary": [
           {
            "marker": {
             "colorbar": {
              "outlinewidth": 0,
              "ticks": ""
             }
            },
            "type": "scatterternary"
           }
          ],
          "surface": [
           {
            "colorbar": {
             "outlinewidth": 0,
             "ticks": ""
            },
            "colorscale": [
             [
              0,
              "#0d0887"
             ],
             [
              0.1111111111111111,
              "#46039f"
             ],
             [
              0.2222222222222222,
              "#7201a8"
             ],
             [
              0.3333333333333333,
              "#9c179e"
             ],
             [
              0.4444444444444444,
              "#bd3786"
             ],
             [
              0.5555555555555556,
              "#d8576b"
             ],
             [
              0.6666666666666666,
              "#ed7953"
             ],
             [
              0.7777777777777778,
              "#fb9f3a"
             ],
             [
              0.8888888888888888,
              "#fdca26"
             ],
             [
              1,
              "#f0f921"
             ]
            ],
            "type": "surface"
           }
          ],
          "table": [
           {
            "cells": {
             "fill": {
              "color": "#EBF0F8"
             },
             "line": {
              "color": "white"
             }
            },
            "header": {
             "fill": {
              "color": "#C8D4E3"
             },
             "line": {
              "color": "white"
             }
            },
            "type": "table"
           }
          ]
         },
         "layout": {
          "annotationdefaults": {
           "arrowcolor": "#2a3f5f",
           "arrowhead": 0,
           "arrowwidth": 1
          },
          "coloraxis": {
           "colorbar": {
            "outlinewidth": 0,
            "ticks": ""
           }
          },
          "colorscale": {
           "diverging": [
            [
             0,
             "#8e0152"
            ],
            [
             0.1,
             "#c51b7d"
            ],
            [
             0.2,
             "#de77ae"
            ],
            [
             0.3,
             "#f1b6da"
            ],
            [
             0.4,
             "#fde0ef"
            ],
            [
             0.5,
             "#f7f7f7"
            ],
            [
             0.6,
             "#e6f5d0"
            ],
            [
             0.7,
             "#b8e186"
            ],
            [
             0.8,
             "#7fbc41"
            ],
            [
             0.9,
             "#4d9221"
            ],
            [
             1,
             "#276419"
            ]
           ],
           "sequential": [
            [
             0,
             "#0d0887"
            ],
            [
             0.1111111111111111,
             "#46039f"
            ],
            [
             0.2222222222222222,
             "#7201a8"
            ],
            [
             0.3333333333333333,
             "#9c179e"
            ],
            [
             0.4444444444444444,
             "#bd3786"
            ],
            [
             0.5555555555555556,
             "#d8576b"
            ],
            [
             0.6666666666666666,
             "#ed7953"
            ],
            [
             0.7777777777777778,
             "#fb9f3a"
            ],
            [
             0.8888888888888888,
             "#fdca26"
            ],
            [
             1,
             "#f0f921"
            ]
           ],
           "sequentialminus": [
            [
             0,
             "#0d0887"
            ],
            [
             0.1111111111111111,
             "#46039f"
            ],
            [
             0.2222222222222222,
             "#7201a8"
            ],
            [
             0.3333333333333333,
             "#9c179e"
            ],
            [
             0.4444444444444444,
             "#bd3786"
            ],
            [
             0.5555555555555556,
             "#d8576b"
            ],
            [
             0.6666666666666666,
             "#ed7953"
            ],
            [
             0.7777777777777778,
             "#fb9f3a"
            ],
            [
             0.8888888888888888,
             "#fdca26"
            ],
            [
             1,
             "#f0f921"
            ]
           ]
          },
          "colorway": [
           "#636efa",
           "#EF553B",
           "#00cc96",
           "#ab63fa",
           "#FFA15A",
           "#19d3f3",
           "#FF6692",
           "#B6E880",
           "#FF97FF",
           "#FECB52"
          ],
          "font": {
           "color": "#2a3f5f"
          },
          "geo": {
           "bgcolor": "white",
           "lakecolor": "white",
           "landcolor": "#E5ECF6",
           "showlakes": true,
           "showland": true,
           "subunitcolor": "white"
          },
          "hoverlabel": {
           "align": "left"
          },
          "hovermode": "closest",
          "mapbox": {
           "style": "light"
          },
          "paper_bgcolor": "white",
          "plot_bgcolor": "#E5ECF6",
          "polar": {
           "angularaxis": {
            "gridcolor": "white",
            "linecolor": "white",
            "ticks": ""
           },
           "bgcolor": "#E5ECF6",
           "radialaxis": {
            "gridcolor": "white",
            "linecolor": "white",
            "ticks": ""
           }
          },
          "scene": {
           "xaxis": {
            "backgroundcolor": "#E5ECF6",
            "gridcolor": "white",
            "gridwidth": 2,
            "linecolor": "white",
            "showbackground": true,
            "ticks": "",
            "zerolinecolor": "white"
           },
           "yaxis": {
            "backgroundcolor": "#E5ECF6",
            "gridcolor": "white",
            "gridwidth": 2,
            "linecolor": "white",
            "showbackground": true,
            "ticks": "",
            "zerolinecolor": "white"
           },
           "zaxis": {
            "backgroundcolor": "#E5ECF6",
            "gridcolor": "white",
            "gridwidth": 2,
            "linecolor": "white",
            "showbackground": true,
            "ticks": "",
            "zerolinecolor": "white"
           }
          },
          "shapedefaults": {
           "line": {
            "color": "#2a3f5f"
           }
          },
          "ternary": {
           "aaxis": {
            "gridcolor": "white",
            "linecolor": "white",
            "ticks": ""
           },
           "baxis": {
            "gridcolor": "white",
            "linecolor": "white",
            "ticks": ""
           },
           "bgcolor": "#E5ECF6",
           "caxis": {
            "gridcolor": "white",
            "linecolor": "white",
            "ticks": ""
           }
          },
          "title": {
           "x": 0.05
          },
          "xaxis": {
           "automargin": true,
           "gridcolor": "white",
           "linecolor": "white",
           "ticks": "",
           "title": {
            "standoff": 15
           },
           "zerolinecolor": "white",
           "zerolinewidth": 2
          },
          "yaxis": {
           "automargin": true,
           "gridcolor": "white",
           "linecolor": "white",
           "ticks": "",
           "title": {
            "standoff": 15
           },
           "zerolinecolor": "white",
           "zerolinewidth": 2
          }
         }
        },
        "title": {
         "text": "Number of Businesses vs Number of Business Owners by State",
         "x": 0.5
        }
       }
      },
      "text/html": [
       "<div>                            <div id=\"cc3fce68-5ccf-43b3-8ccc-6ea01672f0f9\" class=\"plotly-graph-div\" style=\"height:525px; width:100%;\"></div>            <script type=\"text/javascript\">                require([\"plotly\"], function(Plotly) {                    window.PLOTLYENV=window.PLOTLYENV || {};                                    if (document.getElementById(\"cc3fce68-5ccf-43b3-8ccc-6ea01672f0f9\")) {                    Plotly.newPlot(                        \"cc3fce68-5ccf-43b3-8ccc-6ea01672f0f9\",                        [{\"colorbar\": {\"title\": {\"text\": \"Businesses per Owner\"}}, \"colorscale\": [[0.0, \"rgb(247,251,255)\"], [0.125, \"rgb(222,235,247)\"], [0.25, \"rgb(198,219,239)\"], [0.375, \"rgb(158,202,225)\"], [0.5, \"rgb(107,174,214)\"], [0.625, \"rgb(66,146,198)\"], [0.75, \"rgb(33,113,181)\"], [0.875, \"rgb(8,81,156)\"], [1.0, \"rgb(8,48,107)\"]], \"locationmode\": \"USA-states\", \"locations\": [\"MS\", \"MO\", \"MT\", \"NE\", \"NV\", \"NH\", \"NJ\", \"NM\", \"NY\", \"NC\", \"ND\", \"OH\", \"OK\", \"OR\", \"PA\", \"RI\", \"SC\", \"SD\", \"TN\", \"TX\", \"VT\", \"UT\", \"VA\", \"WA\", \"WV\", \"WI\", \"WY\", \"AL\", \"AK\", \"AZ\", \"AR\", \"CA\", \"CO\", \"DE\", \"DC\", \"CT\", \"FL\", \"GA\", \"ID\", \"HI\", \"IL\", \"IN\", \"IA\", \"KS\", \"KY\", \"LA\", \"ME\", \"MD\", \"MA\", \"MI\", \"MN\"], \"type\": \"choropleth\", \"z\": [35.281519861830745, 29.95314253647587, 42.32754010695187, 26.792183622828784, 90.48601398601399, 43.82602118003026, 35.16960931630353, 40.859137055837564, 50.02859385512447, 39.43538533834587, 22.678857142857144, 25.033094157270465, 30.150702987697716, 35.503686457120686, 29.179057734204793, 73.3974358974359, 37.19185220274751, 44.16530612244898, 28.831344221105528, 47.570725707257075, 21.990654205607477, 48.593864134404676, 41.16066323613494, 43.73443008225617, 22.10879848628193, 24.49102927289896, 52.65538461538461, 33.05778648383937, 51.30065359477124, 71.00861497680583, 25.847921225382933, 41.6710875331565, 49.607594936708864, 68.03806228373702, 50.22149837133551, 43.25323834196891, 66.6115247170935, 55.23516414141414, 32.032786885245905, 36.385560675883255, 37.72014753342554, 24.838725253500723, 21.41696113074205, 22.36940602115541, 26.370308590492076, 31.597616111796135, 36.33106575963719, 44.81591397849462, 37.53652530779754, 32.362235828560145, 35.443613707165106]}],                        {\"geo\": {\"bgcolor\": \"rgba(0,0,0,0)\", \"scope\": \"usa\"}, \"paper_bgcolor\": \"rgba(255,255,255,0.9)\", \"template\": {\"data\": {\"bar\": [{\"error_x\": {\"color\": \"#2a3f5f\"}, \"error_y\": {\"color\": \"#2a3f5f\"}, \"marker\": {\"line\": {\"color\": \"#E5ECF6\", \"width\": 0.5}}, \"type\": \"bar\"}], \"barpolar\": [{\"marker\": {\"line\": {\"color\": \"#E5ECF6\", \"width\": 0.5}}, \"type\": \"barpolar\"}], \"carpet\": [{\"aaxis\": {\"endlinecolor\": \"#2a3f5f\", \"gridcolor\": \"white\", \"linecolor\": \"white\", \"minorgridcolor\": \"white\", \"startlinecolor\": \"#2a3f5f\"}, \"baxis\": {\"endlinecolor\": \"#2a3f5f\", \"gridcolor\": \"white\", \"linecolor\": \"white\", \"minorgridcolor\": \"white\", \"startlinecolor\": \"#2a3f5f\"}, \"type\": \"carpet\"}], \"choropleth\": [{\"colorbar\": {\"outlinewidth\": 0, \"ticks\": \"\"}, \"type\": \"choropleth\"}], \"contour\": [{\"colorbar\": {\"outlinewidth\": 0, \"ticks\": \"\"}, \"colorscale\": [[0.0, \"#0d0887\"], [0.1111111111111111, \"#46039f\"], [0.2222222222222222, \"#7201a8\"], [0.3333333333333333, \"#9c179e\"], [0.4444444444444444, \"#bd3786\"], [0.5555555555555556, \"#d8576b\"], [0.6666666666666666, \"#ed7953\"], [0.7777777777777778, \"#fb9f3a\"], [0.8888888888888888, \"#fdca26\"], [1.0, \"#f0f921\"]], \"type\": \"contour\"}], \"contourcarpet\": [{\"colorbar\": {\"outlinewidth\": 0, \"ticks\": \"\"}, \"type\": \"contourcarpet\"}], \"heatmap\": [{\"colorbar\": {\"outlinewidth\": 0, \"ticks\": \"\"}, \"colorscale\": [[0.0, \"#0d0887\"], [0.1111111111111111, \"#46039f\"], [0.2222222222222222, \"#7201a8\"], [0.3333333333333333, \"#9c179e\"], [0.4444444444444444, \"#bd3786\"], [0.5555555555555556, \"#d8576b\"], [0.6666666666666666, \"#ed7953\"], [0.7777777777777778, \"#fb9f3a\"], [0.8888888888888888, \"#fdca26\"], [1.0, \"#f0f921\"]], \"type\": \"heatmap\"}], \"heatmapgl\": [{\"colorbar\": {\"outlinewidth\": 0, \"ticks\": \"\"}, \"colorscale\": [[0.0, \"#0d0887\"], [0.1111111111111111, \"#46039f\"], [0.2222222222222222, \"#7201a8\"], [0.3333333333333333, \"#9c179e\"], [0.4444444444444444, \"#bd3786\"], [0.5555555555555556, \"#d8576b\"], [0.6666666666666666, \"#ed7953\"], [0.7777777777777778, \"#fb9f3a\"], [0.8888888888888888, \"#fdca26\"], [1.0, \"#f0f921\"]], \"type\": \"heatmapgl\"}], \"histogram\": [{\"marker\": {\"colorbar\": {\"outlinewidth\": 0, \"ticks\": \"\"}}, \"type\": \"histogram\"}], \"histogram2d\": [{\"colorbar\": {\"outlinewidth\": 0, \"ticks\": \"\"}, \"colorscale\": [[0.0, \"#0d0887\"], [0.1111111111111111, \"#46039f\"], [0.2222222222222222, \"#7201a8\"], [0.3333333333333333, \"#9c179e\"], [0.4444444444444444, \"#bd3786\"], [0.5555555555555556, \"#d8576b\"], [0.6666666666666666, \"#ed7953\"], [0.7777777777777778, \"#fb9f3a\"], [0.8888888888888888, \"#fdca26\"], [1.0, \"#f0f921\"]], \"type\": \"histogram2d\"}], \"histogram2dcontour\": [{\"colorbar\": {\"outlinewidth\": 0, \"ticks\": \"\"}, \"colorscale\": [[0.0, \"#0d0887\"], [0.1111111111111111, \"#46039f\"], [0.2222222222222222, \"#7201a8\"], [0.3333333333333333, \"#9c179e\"], [0.4444444444444444, \"#bd3786\"], [0.5555555555555556, \"#d8576b\"], [0.6666666666666666, \"#ed7953\"], [0.7777777777777778, \"#fb9f3a\"], [0.8888888888888888, \"#fdca26\"], [1.0, \"#f0f921\"]], \"type\": \"histogram2dcontour\"}], \"mesh3d\": [{\"colorbar\": {\"outlinewidth\": 0, \"ticks\": \"\"}, \"type\": \"mesh3d\"}], \"parcoords\": [{\"line\": {\"colorbar\": {\"outlinewidth\": 0, \"ticks\": \"\"}}, \"type\": \"parcoords\"}], \"pie\": [{\"automargin\": true, \"type\": \"pie\"}], \"scatter\": [{\"marker\": {\"colorbar\": {\"outlinewidth\": 0, \"ticks\": \"\"}}, \"type\": \"scatter\"}], \"scatter3d\": [{\"line\": {\"colorbar\": {\"outlinewidth\": 0, \"ticks\": \"\"}}, \"marker\": {\"colorbar\": {\"outlinewidth\": 0, \"ticks\": \"\"}}, \"type\": \"scatter3d\"}], \"scattercarpet\": [{\"marker\": {\"colorbar\": {\"outlinewidth\": 0, \"ticks\": \"\"}}, \"type\": \"scattercarpet\"}], \"scattergeo\": [{\"marker\": {\"colorbar\": {\"outlinewidth\": 0, \"ticks\": \"\"}}, \"type\": \"scattergeo\"}], \"scattergl\": [{\"marker\": {\"colorbar\": {\"outlinewidth\": 0, \"ticks\": \"\"}}, \"type\": \"scattergl\"}], \"scattermapbox\": [{\"marker\": {\"colorbar\": {\"outlinewidth\": 0, \"ticks\": \"\"}}, \"type\": \"scattermapbox\"}], \"scatterpolar\": [{\"marker\": {\"colorbar\": {\"outlinewidth\": 0, \"ticks\": \"\"}}, \"type\": \"scatterpolar\"}], \"scatterpolargl\": [{\"marker\": {\"colorbar\": {\"outlinewidth\": 0, \"ticks\": \"\"}}, \"type\": \"scatterpolargl\"}], \"scatterternary\": [{\"marker\": {\"colorbar\": {\"outlinewidth\": 0, \"ticks\": \"\"}}, \"type\": \"scatterternary\"}], \"surface\": [{\"colorbar\": {\"outlinewidth\": 0, \"ticks\": \"\"}, \"colorscale\": [[0.0, \"#0d0887\"], [0.1111111111111111, \"#46039f\"], [0.2222222222222222, \"#7201a8\"], [0.3333333333333333, \"#9c179e\"], [0.4444444444444444, \"#bd3786\"], [0.5555555555555556, \"#d8576b\"], [0.6666666666666666, \"#ed7953\"], [0.7777777777777778, \"#fb9f3a\"], [0.8888888888888888, \"#fdca26\"], [1.0, \"#f0f921\"]], \"type\": \"surface\"}], \"table\": [{\"cells\": {\"fill\": {\"color\": \"#EBF0F8\"}, \"line\": {\"color\": \"white\"}}, \"header\": {\"fill\": {\"color\": \"#C8D4E3\"}, \"line\": {\"color\": \"white\"}}, \"type\": \"table\"}]}, \"layout\": {\"annotationdefaults\": {\"arrowcolor\": \"#2a3f5f\", \"arrowhead\": 0, \"arrowwidth\": 1}, \"coloraxis\": {\"colorbar\": {\"outlinewidth\": 0, \"ticks\": \"\"}}, \"colorscale\": {\"diverging\": [[0, \"#8e0152\"], [0.1, \"#c51b7d\"], [0.2, \"#de77ae\"], [0.3, \"#f1b6da\"], [0.4, \"#fde0ef\"], [0.5, \"#f7f7f7\"], [0.6, \"#e6f5d0\"], [0.7, \"#b8e186\"], [0.8, \"#7fbc41\"], [0.9, \"#4d9221\"], [1, \"#276419\"]], \"sequential\": [[0.0, \"#0d0887\"], [0.1111111111111111, \"#46039f\"], [0.2222222222222222, \"#7201a8\"], [0.3333333333333333, \"#9c179e\"], [0.4444444444444444, \"#bd3786\"], [0.5555555555555556, \"#d8576b\"], [0.6666666666666666, \"#ed7953\"], [0.7777777777777778, \"#fb9f3a\"], [0.8888888888888888, \"#fdca26\"], [1.0, \"#f0f921\"]], \"sequentialminus\": [[0.0, \"#0d0887\"], [0.1111111111111111, \"#46039f\"], [0.2222222222222222, \"#7201a8\"], [0.3333333333333333, \"#9c179e\"], [0.4444444444444444, \"#bd3786\"], [0.5555555555555556, \"#d8576b\"], [0.6666666666666666, \"#ed7953\"], [0.7777777777777778, \"#fb9f3a\"], [0.8888888888888888, \"#fdca26\"], [1.0, \"#f0f921\"]]}, \"colorway\": [\"#636efa\", \"#EF553B\", \"#00cc96\", \"#ab63fa\", \"#FFA15A\", \"#19d3f3\", \"#FF6692\", \"#B6E880\", \"#FF97FF\", \"#FECB52\"], \"font\": {\"color\": \"#2a3f5f\"}, \"geo\": {\"bgcolor\": \"white\", \"lakecolor\": \"white\", \"landcolor\": \"#E5ECF6\", \"showlakes\": true, \"showland\": true, \"subunitcolor\": \"white\"}, \"hoverlabel\": {\"align\": \"left\"}, \"hovermode\": \"closest\", \"mapbox\": {\"style\": \"light\"}, \"paper_bgcolor\": \"white\", \"plot_bgcolor\": \"#E5ECF6\", \"polar\": {\"angularaxis\": {\"gridcolor\": \"white\", \"linecolor\": \"white\", \"ticks\": \"\"}, \"bgcolor\": \"#E5ECF6\", \"radialaxis\": {\"gridcolor\": \"white\", \"linecolor\": \"white\", \"ticks\": \"\"}}, \"scene\": {\"xaxis\": {\"backgroundcolor\": \"#E5ECF6\", \"gridcolor\": \"white\", \"gridwidth\": 2, \"linecolor\": \"white\", \"showbackground\": true, \"ticks\": \"\", \"zerolinecolor\": \"white\"}, \"yaxis\": {\"backgroundcolor\": \"#E5ECF6\", \"gridcolor\": \"white\", \"gridwidth\": 2, \"linecolor\": \"white\", \"showbackground\": true, \"ticks\": \"\", \"zerolinecolor\": \"white\"}, \"zaxis\": {\"backgroundcolor\": \"#E5ECF6\", \"gridcolor\": \"white\", \"gridwidth\": 2, \"linecolor\": \"white\", \"showbackground\": true, \"ticks\": \"\", \"zerolinecolor\": \"white\"}}, \"shapedefaults\": {\"line\": {\"color\": \"#2a3f5f\"}}, \"ternary\": {\"aaxis\": {\"gridcolor\": \"white\", \"linecolor\": \"white\", \"ticks\": \"\"}, \"baxis\": {\"gridcolor\": \"white\", \"linecolor\": \"white\", \"ticks\": \"\"}, \"bgcolor\": \"#E5ECF6\", \"caxis\": {\"gridcolor\": \"white\", \"linecolor\": \"white\", \"ticks\": \"\"}}, \"title\": {\"x\": 0.05}, \"xaxis\": {\"automargin\": true, \"gridcolor\": \"white\", \"linecolor\": \"white\", \"ticks\": \"\", \"title\": {\"standoff\": 15}, \"zerolinecolor\": \"white\", \"zerolinewidth\": 2}, \"yaxis\": {\"automargin\": true, \"gridcolor\": \"white\", \"linecolor\": \"white\", \"ticks\": \"\", \"title\": {\"standoff\": 15}, \"zerolinecolor\": \"white\", \"zerolinewidth\": 2}}}, \"title\": {\"text\": \"Number of Businesses vs Number of Business Owners by State\", \"x\": 0.5}},                        {\"responsive\": true}                    ).then(function(){\n",
       "                            \n",
       "var gd = document.getElementById('cc3fce68-5ccf-43b3-8ccc-6ea01672f0f9');\n",
       "var x = new MutationObserver(function (mutations, observer) {{\n",
       "        var display = window.getComputedStyle(gd).display;\n",
       "        if (!display || display === 'none') {{\n",
       "            console.log([gd, 'removed!']);\n",
       "            Plotly.purge(gd);\n",
       "            observer.disconnect();\n",
       "        }}\n",
       "}});\n",
       "\n",
       "// Listen for the removal of the full notebook cells\n",
       "var notebookContainer = gd.closest('#notebook-container');\n",
       "if (notebookContainer) {{\n",
       "    x.observe(notebookContainer, {childList: true});\n",
       "}}\n",
       "\n",
       "// Listen for the clearing of the current output cell\n",
       "var outputEl = gd.closest('.output');\n",
       "if (outputEl) {{\n",
       "    x.observe(outputEl, {childList: true});\n",
       "}}\n",
       "\n",
       "                        })                };                });            </script>        </div>"
      ]
     },
     "metadata": {},
     "output_type": "display_data"
    }
   ],
   "source": [
    "fig = go.Figure(data = go.Choropleth(locations = cs_cbo['state_code'], locationmode = 'USA-states',\n",
    "                                     z = cs_cbo['FIRM / OWNER'],\n",
    "                                     colorscale = 'blues',\n",
    "                                     colorbar_title = 'Businesses per Owner'),\n",
    "               layout = go.Layout(geo = dict(bgcolor = 'rgba(0,0,0,0)'),\n",
    "                                  paper_bgcolor = 'rgba(255,255,255,0.9)'))\n",
    "fig.update_layout(title_text = 'Number of Businesses vs Number of Business Owners by State',\n",
    "                  title_x = 0.5,\n",
    "                  geo_scope = 'usa')\n",
    "\n",
    "fig.show()"
   ]
  }
 ],
 "metadata": {
  "kernelspec": {
   "display_name": "Python 3 (ipykernel)",
   "language": "python",
   "name": "python3"
  },
  "language_info": {
   "codemirror_mode": {
    "name": "ipython",
    "version": 3
   },
   "file_extension": ".py",
   "mimetype": "text/x-python",
   "name": "python",
   "nbconvert_exporter": "python",
   "pygments_lexer": "ipython3",
   "version": "3.9.5"
  }
 },
 "nbformat": 4,
 "nbformat_minor": 5
}
